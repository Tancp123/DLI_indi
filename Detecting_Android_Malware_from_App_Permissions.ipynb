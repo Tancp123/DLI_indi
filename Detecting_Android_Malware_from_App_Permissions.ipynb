{
  "metadata": {
    "kernelspec": {
      "language": "python",
      "display_name": "Python 3",
      "name": "python3"
    },
    "language_info": {
      "name": "python",
      "version": "3.10.12",
      "mimetype": "text/x-python",
      "codemirror_mode": {
        "name": "ipython",
        "version": 3
      },
      "pygments_lexer": "ipython3",
      "nbconvert_exporter": "python",
      "file_extension": ".py"
    },
    "kaggle": {
      "accelerator": "none",
      "dataSources": [
        {
          "sourceId": 2283465,
          "sourceType": "datasetVersion",
          "datasetId": 1375688
        }
      ],
      "dockerImageVersionId": 30635,
      "isInternetEnabled": false,
      "language": "python",
      "sourceType": "notebook",
      "isGpuEnabled": false
    },
    "colab": {
      "name": "Detecting Android Malware from App Permissions",
      "provenance": [],
      "include_colab_link": true
    }
  },
  "nbformat_minor": 0,
  "nbformat": 4,
  "cells": [
    {
      "cell_type": "markdown",
      "metadata": {
        "id": "view-in-github",
        "colab_type": "text"
      },
      "source": [
        "<a href=\"https://colab.research.google.com/github/Tancp123/DLI_indi/blob/main/Detecting_Android_Malware_from_App_Permissions.ipynb\" target=\"_parent\"><img src=\"https://colab.research.google.com/assets/colab-badge.svg\" alt=\"Open In Colab\"/></a>"
      ]
    },
    {
      "source": [
        "# IMPORTANT: RUN THIS CELL IN ORDER TO IMPORT YOUR KAGGLE DATA SOURCES,\n",
        "# THEN FEEL FREE TO DELETE THIS CELL.\n",
        "# NOTE: THIS NOTEBOOK ENVIRONMENT DIFFERS FROM KAGGLE'S PYTHON\n",
        "# ENVIRONMENT SO THERE MAY BE MISSING LIBRARIES USED BY YOUR\n",
        "# NOTEBOOK.\n",
        "import kagglehub\n",
        "saurabhshahane_android_permission_dataset_path = kagglehub.dataset_download('saurabhshahane/android-permission-dataset')\n",
        "\n",
        "print('Data source import complete.')\n"
      ],
      "metadata": {
        "id": "kxps9KUMKqFQ",
        "outputId": "86a72778-5eb8-42b2-da1d-b60f2edd6534",
        "colab": {
          "base_uri": "https://localhost:8080/"
        }
      },
      "cell_type": "code",
      "outputs": [
        {
          "output_type": "stream",
          "name": "stdout",
          "text": [
            "Data source import complete.\n"
          ]
        }
      ],
      "execution_count": 94
    },
    {
      "cell_type": "markdown",
      "source": [
        "# Detecting Android Malware based on App Permissions\n",
        "\n",
        "![scanning_malware_header.jpg](attachment:7a646938-b250-431e-9e5b-1f78332a6baf.jpg)\n",
        "\n",
        "# Intro and Motivation\n",
        "\n",
        "Android has supported multiple 3rd-party app stores for years, and a recent court ruling will soon force Apple to support this too, giving users more choices.  Yet at the same time, an argument can be made that 3rd-party app stores can contain more malware or nefarious apps due to less strict vetting.\n",
        "\n",
        "Whether this is true or just hyperbole, it would serve smartphone users if an app could be predicted as malware or benign before downloading it, based just on the permissions that the app requests (e.g. needs access to pictures and media, or your microphone, etc.).\n",
        "\n",
        "In this notebook, we'll explore such a dataset and see if Android apps can be properly classified based on permissions alone.  Let's get to it!"
      ],
      "metadata": {
        "_uuid": "c6e4b0f1-d5cf-466f-85a1-d4d7bbac4169",
        "_cell_guid": "4caf6ccc-bbff-4181-93dc-9840a42dd7d4",
        "trusted": true,
        "collapsed": false,
        "jupyter": {
          "outputs_hidden": false
        },
        "id": "l2DOBf61KqFS"
      }
    },
    {
      "cell_type": "markdown",
      "source": [
        "# Dataset Background\n",
        "\n",
        "I found a tabular dataset on Kaggle that has about 30,000 apps classified as malware or benign, as well as the permissions they require.  \n",
        "\n",
        "The dataset contains other data like: app title, description, number of reviews, star review rating, and price, that can be gathered from the Google Play store, but I wanted to design a classifier that would be based purely on permissions.  Honestly, the star rating and the description would probably be quite informative since scams usually have poor grammar or overuse scammy words, but I wanted this to work \"in a vacuum\" and based on just finding a binary (.apk file) anywhere.  After all, it should still be useful for the first person who downloads it from the app store.  \n",
        "\n",
        "The list of requested permissions came from a tool called Apk Analyzer, but that's not super important for our purposes.\n",
        "\n",
        "It consists of 184 columns of data, which includes: `class label, app title, package name, category, description, rating, number of reviews, price, and related apps`.  We'll delete all these just listed for the sake of classifying, so that leaves 184 - 9 = 175 actual features used for training and inference.\n",
        "\n",
        "All of these appear to be binary flags except for: `Dangerous permissions count` and `Safe permissions count`, which are of course both integers.  But we'll confirm this in our data analysis.  I initially wanted to include `Dangerous permissions count` and `Safe permissions count` as features, but the problem with that is, what might be Dangerous or Safe seems subjective and was created by whoever made this dataset.  It would be introducing that person's bias *a priori* into the dataset, which isn't good practice.  Secondly, if we get new Android apps submitted to our fictitious virus scanner, it won't have those features.  The only data that Apk Analyzer will give is the raw boolean permission flags.  So we'll drop these too and end up with 173 total features &mdash; purely the permission flags.\n",
        "\n",
        "There are 29,999 total apps in the dataset.  According to Kaggle, 20,000 are malware and 9,999 are benign, but we'll also confirm this ourselves."
      ],
      "metadata": {
        "_uuid": "5ebe7bfb-d772-494e-b606-389916eca592",
        "_cell_guid": "28d14005-3a8b-4f1b-829d-3ada2fc75b86",
        "trusted": true,
        "collapsed": false,
        "jupyter": {
          "outputs_hidden": false
        },
        "id": "0PJ-fEnzKqFT"
      }
    },
    {
      "cell_type": "markdown",
      "source": [
        "# Data Exploration\n",
        "\n",
        "Let's start with looking at the data we're dealing with, always a good idea."
      ],
      "metadata": {
        "_uuid": "fb56fcdc-7f53-4346-bdb9-2c15a614b7b0",
        "_cell_guid": "5200fa70-5dcb-4abe-b507-b53cc3f86239",
        "trusted": true,
        "collapsed": false,
        "jupyter": {
          "outputs_hidden": false
        },
        "id": "Ano89VVkKqFU"
      }
    },
    {
      "cell_type": "code",
      "source": [
        "import numpy as np # linear algebra\n",
        "import pandas as pd # data processing, CSV file I/O (e.g. pd.read_csv)"
      ],
      "metadata": {
        "_uuid": "657ba021-bbde-405d-93a6-785526683a80",
        "_cell_guid": "90e4e42d-8f73-46dd-a729-4c410d9f432a",
        "trusted": true,
        "execution": {
          "iopub.status.busy": "2025-08-23T13:22:47.86405Z",
          "iopub.execute_input": "2025-08-23T13:22:47.864524Z",
          "iopub.status.idle": "2025-08-23T13:22:48.390659Z",
          "shell.execute_reply.started": "2025-08-23T13:22:47.864484Z",
          "shell.execute_reply": "2025-08-23T13:22:48.389581Z"
        },
        "jupyter": {
          "outputs_hidden": false
        },
        "id": "cvle2FyJKqFU"
      },
      "outputs": [],
      "execution_count": 95
    },
    {
      "cell_type": "code",
      "source": [
        "# Read in the Pandas DataFrame\n",
        "malware_pdf = pd.read_csv(\"/kaggle/input/android-permission-dataset/Android_Permission.csv\")\n",
        "\n",
        "# Look at the head of it\n",
        "malware_pdf.head()"
      ],
      "metadata": {
        "_uuid": "d0e6c9c7-7595-47c7-97b2-f6c64cf41279",
        "_cell_guid": "cee107ab-d614-4195-aa95-40d5829b98c6",
        "trusted": true,
        "execution": {
          "iopub.status.busy": "2025-08-23T13:22:48.393346Z",
          "iopub.execute_input": "2025-08-23T13:22:48.393937Z",
          "iopub.status.idle": "2025-08-23T13:22:50.880224Z",
          "shell.execute_reply.started": "2025-08-23T13:22:48.393895Z",
          "shell.execute_reply": "2025-08-23T13:22:50.879163Z"
        },
        "jupyter": {
          "outputs_hidden": false
        },
        "id": "5LGk3clhKqFU",
        "outputId": "b482ede0-70e2-40b7-8fdd-d7ddb40447ec",
        "colab": {
          "base_uri": "https://localhost:8080/",
          "height": 620
        }
      },
      "outputs": [
        {
          "output_type": "execute_result",
          "data": {
            "text/plain": [
              "                              App                                   Package  \\\n",
              "0         Canada Post Corporation                    com.canadapost.android   \n",
              "1                       Word Farm                 com.realcasualgames.words   \n",
              "2            Fortunes of War FREE                        fortunesofwar.free   \n",
              "3  Better Keyboard: Avatar Purple  com.cc.betterkeyboard.skins.avatarpurple   \n",
              "4                      Boxing Day                indiaNIC.android.BoxingDay   \n",
              "\n",
              "           Category                                        Description  \\\n",
              "0          Business  Canada Post Mobile App gives you access to som...   \n",
              "1    Brain & Puzzle  Speed and strategy combine in this exciting wo...   \n",
              "2    Cards & Casino  Fortunes of War is a fast-paced, easy to learn...   \n",
              "3  Libraries & Demo  Skin for Better Keyboard featuring a glossy fe...   \n",
              "4         Lifestyle  Boxing Day by Christopher Jaymes<p>Based on a ...   \n",
              "\n",
              "   Rating  Number of ratings  Price  \\\n",
              "0     3.1                 77   0.00   \n",
              "1     4.3                199   0.00   \n",
              "2     4.1                243   0.00   \n",
              "3     3.6               2589   0.00   \n",
              "4     0.0                  0   5.99   \n",
              "\n",
              "                                        Related apps  \\\n",
              "0  {com.adaffix.pub.ca.android, com.kevinquan.gas...   \n",
              "1  {air.com.zubawing.FastWordLite, com.joybits.do...   \n",
              "2  {com.kevinquan.condado, hu.monsta.pazaak, net....   \n",
              "3  {eu.gdumoulin.betterandroid.skins.transparent....   \n",
              "4                                                NaN   \n",
              "\n",
              "   Dangerous permissions count  Safe permissions count  ...  \\\n",
              "0                          7.0                       1  ...   \n",
              "1                          3.0                       2  ...   \n",
              "2                          1.0                       1  ...   \n",
              "3                          0.0                       0  ...   \n",
              "4                          1.0                       0  ...   \n",
              "\n",
              "   Your personal information : read calendar events (D)  \\\n",
              "0                                                  0      \n",
              "1                                                  0      \n",
              "2                                                  0      \n",
              "3                                                  0      \n",
              "4                                                  0      \n",
              "\n",
              "   Your personal information : read contact data (D)  \\\n",
              "0                                                  1   \n",
              "1                                                  0   \n",
              "2                                                  0   \n",
              "3                                                  0   \n",
              "4                                                  0   \n",
              "\n",
              "   Your personal information : read sensitive log data (D)  \\\n",
              "0                                                  0         \n",
              "1                                                  0         \n",
              "2                                                  0         \n",
              "3                                                  0         \n",
              "4                                                  0         \n",
              "\n",
              "   Your personal information : read user defined dictionary (D)  \\\n",
              "0                                                  0              \n",
              "1                                                  0              \n",
              "2                                                  0              \n",
              "3                                                  0              \n",
              "4                                                  0              \n",
              "\n",
              "   Your personal information : retrieve system internal state (S)  \\\n",
              "0                                                  0                \n",
              "1                                                  0                \n",
              "2                                                  0                \n",
              "3                                                  0                \n",
              "4                                                  0                \n",
              "\n",
              "   Your personal information : set alarm in alarm clock (S)  \\\n",
              "0                                                  0          \n",
              "1                                                  0          \n",
              "2                                                  0          \n",
              "3                                                  0          \n",
              "4                                                  0          \n",
              "\n",
              "   Your personal information : write Browser's history and bookmarks (D)  \\\n",
              "0                                                  0                       \n",
              "1                                                  0                       \n",
              "2                                                  0                       \n",
              "3                                                  0                       \n",
              "4                                                  0                       \n",
              "\n",
              "   Your personal information : write contact data (D)  \\\n",
              "0                                                  1    \n",
              "1                                                  0    \n",
              "2                                                  0    \n",
              "3                                                  0    \n",
              "4                                                  0    \n",
              "\n",
              "   Your personal information : write to user defined dictionary (S)  Class  \n",
              "0                                                  0                     0  \n",
              "1                                                  0                     0  \n",
              "2                                                  0                     0  \n",
              "3                                                  0                     0  \n",
              "4                                                  0                     1  \n",
              "\n",
              "[5 rows x 184 columns]"
            ],
            "text/html": [
              "\n",
              "  <div id=\"df-adb1ea41-6752-4249-96bd-6eebd5496cb8\" class=\"colab-df-container\">\n",
              "    <div>\n",
              "<style scoped>\n",
              "    .dataframe tbody tr th:only-of-type {\n",
              "        vertical-align: middle;\n",
              "    }\n",
              "\n",
              "    .dataframe tbody tr th {\n",
              "        vertical-align: top;\n",
              "    }\n",
              "\n",
              "    .dataframe thead th {\n",
              "        text-align: right;\n",
              "    }\n",
              "</style>\n",
              "<table border=\"1\" class=\"dataframe\">\n",
              "  <thead>\n",
              "    <tr style=\"text-align: right;\">\n",
              "      <th></th>\n",
              "      <th>App</th>\n",
              "      <th>Package</th>\n",
              "      <th>Category</th>\n",
              "      <th>Description</th>\n",
              "      <th>Rating</th>\n",
              "      <th>Number of ratings</th>\n",
              "      <th>Price</th>\n",
              "      <th>Related apps</th>\n",
              "      <th>Dangerous permissions count</th>\n",
              "      <th>Safe permissions count</th>\n",
              "      <th>...</th>\n",
              "      <th>Your personal information : read calendar events (D)</th>\n",
              "      <th>Your personal information : read contact data (D)</th>\n",
              "      <th>Your personal information : read sensitive log data (D)</th>\n",
              "      <th>Your personal information : read user defined dictionary (D)</th>\n",
              "      <th>Your personal information : retrieve system internal state (S)</th>\n",
              "      <th>Your personal information : set alarm in alarm clock (S)</th>\n",
              "      <th>Your personal information : write Browser's history and bookmarks (D)</th>\n",
              "      <th>Your personal information : write contact data (D)</th>\n",
              "      <th>Your personal information : write to user defined dictionary (S)</th>\n",
              "      <th>Class</th>\n",
              "    </tr>\n",
              "  </thead>\n",
              "  <tbody>\n",
              "    <tr>\n",
              "      <th>0</th>\n",
              "      <td>Canada Post Corporation</td>\n",
              "      <td>com.canadapost.android</td>\n",
              "      <td>Business</td>\n",
              "      <td>Canada Post Mobile App gives you access to som...</td>\n",
              "      <td>3.1</td>\n",
              "      <td>77</td>\n",
              "      <td>0.00</td>\n",
              "      <td>{com.adaffix.pub.ca.android, com.kevinquan.gas...</td>\n",
              "      <td>7.0</td>\n",
              "      <td>1</td>\n",
              "      <td>...</td>\n",
              "      <td>0</td>\n",
              "      <td>1</td>\n",
              "      <td>0</td>\n",
              "      <td>0</td>\n",
              "      <td>0</td>\n",
              "      <td>0</td>\n",
              "      <td>0</td>\n",
              "      <td>1</td>\n",
              "      <td>0</td>\n",
              "      <td>0</td>\n",
              "    </tr>\n",
              "    <tr>\n",
              "      <th>1</th>\n",
              "      <td>Word Farm</td>\n",
              "      <td>com.realcasualgames.words</td>\n",
              "      <td>Brain &amp; Puzzle</td>\n",
              "      <td>Speed and strategy combine in this exciting wo...</td>\n",
              "      <td>4.3</td>\n",
              "      <td>199</td>\n",
              "      <td>0.00</td>\n",
              "      <td>{air.com.zubawing.FastWordLite, com.joybits.do...</td>\n",
              "      <td>3.0</td>\n",
              "      <td>2</td>\n",
              "      <td>...</td>\n",
              "      <td>0</td>\n",
              "      <td>0</td>\n",
              "      <td>0</td>\n",
              "      <td>0</td>\n",
              "      <td>0</td>\n",
              "      <td>0</td>\n",
              "      <td>0</td>\n",
              "      <td>0</td>\n",
              "      <td>0</td>\n",
              "      <td>0</td>\n",
              "    </tr>\n",
              "    <tr>\n",
              "      <th>2</th>\n",
              "      <td>Fortunes of War FREE</td>\n",
              "      <td>fortunesofwar.free</td>\n",
              "      <td>Cards &amp; Casino</td>\n",
              "      <td>Fortunes of War is a fast-paced, easy to learn...</td>\n",
              "      <td>4.1</td>\n",
              "      <td>243</td>\n",
              "      <td>0.00</td>\n",
              "      <td>{com.kevinquan.condado, hu.monsta.pazaak, net....</td>\n",
              "      <td>1.0</td>\n",
              "      <td>1</td>\n",
              "      <td>...</td>\n",
              "      <td>0</td>\n",
              "      <td>0</td>\n",
              "      <td>0</td>\n",
              "      <td>0</td>\n",
              "      <td>0</td>\n",
              "      <td>0</td>\n",
              "      <td>0</td>\n",
              "      <td>0</td>\n",
              "      <td>0</td>\n",
              "      <td>0</td>\n",
              "    </tr>\n",
              "    <tr>\n",
              "      <th>3</th>\n",
              "      <td>Better Keyboard: Avatar Purple</td>\n",
              "      <td>com.cc.betterkeyboard.skins.avatarpurple</td>\n",
              "      <td>Libraries &amp; Demo</td>\n",
              "      <td>Skin for Better Keyboard featuring a glossy fe...</td>\n",
              "      <td>3.6</td>\n",
              "      <td>2589</td>\n",
              "      <td>0.00</td>\n",
              "      <td>{eu.gdumoulin.betterandroid.skins.transparent....</td>\n",
              "      <td>0.0</td>\n",
              "      <td>0</td>\n",
              "      <td>...</td>\n",
              "      <td>0</td>\n",
              "      <td>0</td>\n",
              "      <td>0</td>\n",
              "      <td>0</td>\n",
              "      <td>0</td>\n",
              "      <td>0</td>\n",
              "      <td>0</td>\n",
              "      <td>0</td>\n",
              "      <td>0</td>\n",
              "      <td>0</td>\n",
              "    </tr>\n",
              "    <tr>\n",
              "      <th>4</th>\n",
              "      <td>Boxing Day</td>\n",
              "      <td>indiaNIC.android.BoxingDay</td>\n",
              "      <td>Lifestyle</td>\n",
              "      <td>Boxing Day by Christopher Jaymes&lt;p&gt;Based on a ...</td>\n",
              "      <td>0.0</td>\n",
              "      <td>0</td>\n",
              "      <td>5.99</td>\n",
              "      <td>NaN</td>\n",
              "      <td>1.0</td>\n",
              "      <td>0</td>\n",
              "      <td>...</td>\n",
              "      <td>0</td>\n",
              "      <td>0</td>\n",
              "      <td>0</td>\n",
              "      <td>0</td>\n",
              "      <td>0</td>\n",
              "      <td>0</td>\n",
              "      <td>0</td>\n",
              "      <td>0</td>\n",
              "      <td>0</td>\n",
              "      <td>1</td>\n",
              "    </tr>\n",
              "  </tbody>\n",
              "</table>\n",
              "<p>5 rows × 184 columns</p>\n",
              "</div>\n",
              "    <div class=\"colab-df-buttons\">\n",
              "\n",
              "  <div class=\"colab-df-container\">\n",
              "    <button class=\"colab-df-convert\" onclick=\"convertToInteractive('df-adb1ea41-6752-4249-96bd-6eebd5496cb8')\"\n",
              "            title=\"Convert this dataframe to an interactive table.\"\n",
              "            style=\"display:none;\">\n",
              "\n",
              "  <svg xmlns=\"http://www.w3.org/2000/svg\" height=\"24px\" viewBox=\"0 -960 960 960\">\n",
              "    <path d=\"M120-120v-720h720v720H120Zm60-500h600v-160H180v160Zm220 220h160v-160H400v160Zm0 220h160v-160H400v160ZM180-400h160v-160H180v160Zm440 0h160v-160H620v160ZM180-180h160v-160H180v160Zm440 0h160v-160H620v160Z\"/>\n",
              "  </svg>\n",
              "    </button>\n",
              "\n",
              "  <style>\n",
              "    .colab-df-container {\n",
              "      display:flex;\n",
              "      gap: 12px;\n",
              "    }\n",
              "\n",
              "    .colab-df-convert {\n",
              "      background-color: #E8F0FE;\n",
              "      border: none;\n",
              "      border-radius: 50%;\n",
              "      cursor: pointer;\n",
              "      display: none;\n",
              "      fill: #1967D2;\n",
              "      height: 32px;\n",
              "      padding: 0 0 0 0;\n",
              "      width: 32px;\n",
              "    }\n",
              "\n",
              "    .colab-df-convert:hover {\n",
              "      background-color: #E2EBFA;\n",
              "      box-shadow: 0px 1px 2px rgba(60, 64, 67, 0.3), 0px 1px 3px 1px rgba(60, 64, 67, 0.15);\n",
              "      fill: #174EA6;\n",
              "    }\n",
              "\n",
              "    .colab-df-buttons div {\n",
              "      margin-bottom: 4px;\n",
              "    }\n",
              "\n",
              "    [theme=dark] .colab-df-convert {\n",
              "      background-color: #3B4455;\n",
              "      fill: #D2E3FC;\n",
              "    }\n",
              "\n",
              "    [theme=dark] .colab-df-convert:hover {\n",
              "      background-color: #434B5C;\n",
              "      box-shadow: 0px 1px 3px 1px rgba(0, 0, 0, 0.15);\n",
              "      filter: drop-shadow(0px 1px 2px rgba(0, 0, 0, 0.3));\n",
              "      fill: #FFFFFF;\n",
              "    }\n",
              "  </style>\n",
              "\n",
              "    <script>\n",
              "      const buttonEl =\n",
              "        document.querySelector('#df-adb1ea41-6752-4249-96bd-6eebd5496cb8 button.colab-df-convert');\n",
              "      buttonEl.style.display =\n",
              "        google.colab.kernel.accessAllowed ? 'block' : 'none';\n",
              "\n",
              "      async function convertToInteractive(key) {\n",
              "        const element = document.querySelector('#df-adb1ea41-6752-4249-96bd-6eebd5496cb8');\n",
              "        const dataTable =\n",
              "          await google.colab.kernel.invokeFunction('convertToInteractive',\n",
              "                                                    [key], {});\n",
              "        if (!dataTable) return;\n",
              "\n",
              "        const docLinkHtml = 'Like what you see? Visit the ' +\n",
              "          '<a target=\"_blank\" href=https://colab.research.google.com/notebooks/data_table.ipynb>data table notebook</a>'\n",
              "          + ' to learn more about interactive tables.';\n",
              "        element.innerHTML = '';\n",
              "        dataTable['output_type'] = 'display_data';\n",
              "        await google.colab.output.renderOutput(dataTable, element);\n",
              "        const docLink = document.createElement('div');\n",
              "        docLink.innerHTML = docLinkHtml;\n",
              "        element.appendChild(docLink);\n",
              "      }\n",
              "    </script>\n",
              "  </div>\n",
              "\n",
              "\n",
              "    <div id=\"df-6a04312c-16ca-4432-aeda-ae6815e7d195\">\n",
              "      <button class=\"colab-df-quickchart\" onclick=\"quickchart('df-6a04312c-16ca-4432-aeda-ae6815e7d195')\"\n",
              "                title=\"Suggest charts\"\n",
              "                style=\"display:none;\">\n",
              "\n",
              "<svg xmlns=\"http://www.w3.org/2000/svg\" height=\"24px\"viewBox=\"0 0 24 24\"\n",
              "     width=\"24px\">\n",
              "    <g>\n",
              "        <path d=\"M19 3H5c-1.1 0-2 .9-2 2v14c0 1.1.9 2 2 2h14c1.1 0 2-.9 2-2V5c0-1.1-.9-2-2-2zM9 17H7v-7h2v7zm4 0h-2V7h2v10zm4 0h-2v-4h2v4z\"/>\n",
              "    </g>\n",
              "</svg>\n",
              "      </button>\n",
              "\n",
              "<style>\n",
              "  .colab-df-quickchart {\n",
              "      --bg-color: #E8F0FE;\n",
              "      --fill-color: #1967D2;\n",
              "      --hover-bg-color: #E2EBFA;\n",
              "      --hover-fill-color: #174EA6;\n",
              "      --disabled-fill-color: #AAA;\n",
              "      --disabled-bg-color: #DDD;\n",
              "  }\n",
              "\n",
              "  [theme=dark] .colab-df-quickchart {\n",
              "      --bg-color: #3B4455;\n",
              "      --fill-color: #D2E3FC;\n",
              "      --hover-bg-color: #434B5C;\n",
              "      --hover-fill-color: #FFFFFF;\n",
              "      --disabled-bg-color: #3B4455;\n",
              "      --disabled-fill-color: #666;\n",
              "  }\n",
              "\n",
              "  .colab-df-quickchart {\n",
              "    background-color: var(--bg-color);\n",
              "    border: none;\n",
              "    border-radius: 50%;\n",
              "    cursor: pointer;\n",
              "    display: none;\n",
              "    fill: var(--fill-color);\n",
              "    height: 32px;\n",
              "    padding: 0;\n",
              "    width: 32px;\n",
              "  }\n",
              "\n",
              "  .colab-df-quickchart:hover {\n",
              "    background-color: var(--hover-bg-color);\n",
              "    box-shadow: 0 1px 2px rgba(60, 64, 67, 0.3), 0 1px 3px 1px rgba(60, 64, 67, 0.15);\n",
              "    fill: var(--button-hover-fill-color);\n",
              "  }\n",
              "\n",
              "  .colab-df-quickchart-complete:disabled,\n",
              "  .colab-df-quickchart-complete:disabled:hover {\n",
              "    background-color: var(--disabled-bg-color);\n",
              "    fill: var(--disabled-fill-color);\n",
              "    box-shadow: none;\n",
              "  }\n",
              "\n",
              "  .colab-df-spinner {\n",
              "    border: 2px solid var(--fill-color);\n",
              "    border-color: transparent;\n",
              "    border-bottom-color: var(--fill-color);\n",
              "    animation:\n",
              "      spin 1s steps(1) infinite;\n",
              "  }\n",
              "\n",
              "  @keyframes spin {\n",
              "    0% {\n",
              "      border-color: transparent;\n",
              "      border-bottom-color: var(--fill-color);\n",
              "      border-left-color: var(--fill-color);\n",
              "    }\n",
              "    20% {\n",
              "      border-color: transparent;\n",
              "      border-left-color: var(--fill-color);\n",
              "      border-top-color: var(--fill-color);\n",
              "    }\n",
              "    30% {\n",
              "      border-color: transparent;\n",
              "      border-left-color: var(--fill-color);\n",
              "      border-top-color: var(--fill-color);\n",
              "      border-right-color: var(--fill-color);\n",
              "    }\n",
              "    40% {\n",
              "      border-color: transparent;\n",
              "      border-right-color: var(--fill-color);\n",
              "      border-top-color: var(--fill-color);\n",
              "    }\n",
              "    60% {\n",
              "      border-color: transparent;\n",
              "      border-right-color: var(--fill-color);\n",
              "    }\n",
              "    80% {\n",
              "      border-color: transparent;\n",
              "      border-right-color: var(--fill-color);\n",
              "      border-bottom-color: var(--fill-color);\n",
              "    }\n",
              "    90% {\n",
              "      border-color: transparent;\n",
              "      border-bottom-color: var(--fill-color);\n",
              "    }\n",
              "  }\n",
              "</style>\n",
              "\n",
              "      <script>\n",
              "        async function quickchart(key) {\n",
              "          const quickchartButtonEl =\n",
              "            document.querySelector('#' + key + ' button');\n",
              "          quickchartButtonEl.disabled = true;  // To prevent multiple clicks.\n",
              "          quickchartButtonEl.classList.add('colab-df-spinner');\n",
              "          try {\n",
              "            const charts = await google.colab.kernel.invokeFunction(\n",
              "                'suggestCharts', [key], {});\n",
              "          } catch (error) {\n",
              "            console.error('Error during call to suggestCharts:', error);\n",
              "          }\n",
              "          quickchartButtonEl.classList.remove('colab-df-spinner');\n",
              "          quickchartButtonEl.classList.add('colab-df-quickchart-complete');\n",
              "        }\n",
              "        (() => {\n",
              "          let quickchartButtonEl =\n",
              "            document.querySelector('#df-6a04312c-16ca-4432-aeda-ae6815e7d195 button');\n",
              "          quickchartButtonEl.style.display =\n",
              "            google.colab.kernel.accessAllowed ? 'block' : 'none';\n",
              "        })();\n",
              "      </script>\n",
              "    </div>\n",
              "\n",
              "    </div>\n",
              "  </div>\n"
            ],
            "application/vnd.google.colaboratory.intrinsic+json": {
              "type": "dataframe",
              "variable_name": "malware_pdf"
            }
          },
          "metadata": {},
          "execution_count": 96
        }
      ],
      "execution_count": 96
    },
    {
      "cell_type": "code",
      "source": [
        "malware_pdf.columns"
      ],
      "metadata": {
        "_uuid": "a6bf53b9-e0c9-4aeb-97c1-72a4760d348f",
        "_cell_guid": "04198f7a-a287-4bf9-8207-82d052076108",
        "trusted": true,
        "execution": {
          "iopub.status.busy": "2025-08-23T13:22:50.882044Z",
          "iopub.execute_input": "2025-08-23T13:22:50.88246Z",
          "iopub.status.idle": "2025-08-23T13:22:50.889621Z",
          "shell.execute_reply.started": "2025-08-23T13:22:50.882421Z",
          "shell.execute_reply": "2025-08-23T13:22:50.888485Z"
        },
        "jupyter": {
          "outputs_hidden": false
        },
        "id": "tcng3q8WKqFV",
        "outputId": "6776657a-a068-47d1-84af-82ec50a0b3a9",
        "colab": {
          "base_uri": "https://localhost:8080/"
        }
      },
      "outputs": [
        {
          "output_type": "execute_result",
          "data": {
            "text/plain": [
              "Index(['App', 'Package', 'Category', 'Description', 'Rating',\n",
              "       'Number of ratings', 'Price', 'Related apps',\n",
              "       'Dangerous permissions count', 'Safe permissions count',\n",
              "       ...\n",
              "       'Your personal information : read calendar events (D)',\n",
              "       'Your personal information : read contact data (D)',\n",
              "       'Your personal information : read sensitive log data (D)',\n",
              "       'Your personal information : read user defined dictionary (D)',\n",
              "       'Your personal information : retrieve system internal state (S)',\n",
              "       'Your personal information : set alarm in alarm clock (S)',\n",
              "       'Your personal information : write Browser's history and bookmarks (D)',\n",
              "       'Your personal information : write contact data (D)',\n",
              "       'Your personal information : write to user defined dictionary (S)',\n",
              "       'Class'],\n",
              "      dtype='object', length=184)"
            ]
          },
          "metadata": {},
          "execution_count": 97
        }
      ],
      "execution_count": 97
    },
    {
      "cell_type": "markdown",
      "source": [
        "We see the previously-mentioned columns we named before, that we plan to drop, and a long truncated list of app permissions."
      ],
      "metadata": {
        "_uuid": "d89a0045-7686-4cdb-b5c2-734e549f3ac2",
        "_cell_guid": "d8809b3a-0d0e-44dc-a030-62651496b881",
        "trusted": true,
        "collapsed": false,
        "jupyter": {
          "outputs_hidden": false
        },
        "id": "xCDXY3CqKqFV"
      }
    },
    {
      "cell_type": "code",
      "source": [
        "malware_pdf.shape"
      ],
      "metadata": {
        "_uuid": "dc0e78ce-1ec4-46a3-ae6b-7f884c5236ca",
        "_cell_guid": "1f69773f-9898-4e71-8992-c5e11af4e85a",
        "trusted": true,
        "execution": {
          "iopub.status.busy": "2025-08-23T13:22:50.891186Z",
          "iopub.execute_input": "2025-08-23T13:22:50.891587Z",
          "iopub.status.idle": "2025-08-23T13:22:50.906042Z",
          "shell.execute_reply.started": "2025-08-23T13:22:50.891552Z",
          "shell.execute_reply": "2025-08-23T13:22:50.904519Z"
        },
        "jupyter": {
          "outputs_hidden": false
        },
        "id": "1OmyWgB8KqFV",
        "outputId": "83c6e3b5-3a28-4886-87d0-a113f99b49fe",
        "colab": {
          "base_uri": "https://localhost:8080/"
        }
      },
      "outputs": [
        {
          "output_type": "execute_result",
          "data": {
            "text/plain": [
              "(29999, 184)"
            ]
          },
          "metadata": {},
          "execution_count": 98
        }
      ],
      "execution_count": 98
    },
    {
      "cell_type": "markdown",
      "source": [
        "This matches what Kaggle says about this dataset: 29,999 data entries (not including headers) and 184 columns each, 11 of which we won't use."
      ],
      "metadata": {
        "_uuid": "2f2d3f08-eaa0-4759-b41b-2b423e1dd251",
        "_cell_guid": "ff4b88ed-0fae-41bb-9b5c-57ae06dc67da",
        "trusted": true,
        "collapsed": false,
        "jupyter": {
          "outputs_hidden": false
        },
        "id": "4ADB9hZoKqFW"
      }
    },
    {
      "cell_type": "code",
      "source": [
        "# Get a quick description of the dataset\n",
        "\n",
        "# Set this to True initially to see all the datatypes and see if any missing values,\n",
        "# then turned it off because it's so long\n",
        "\n",
        "# malware_pdf.info(verbose=True, show_counts=True)\n",
        "malware_pdf.info()"
      ],
      "metadata": {
        "_uuid": "a41ec14e-cdeb-45cd-80c5-b08174df1cf6",
        "_cell_guid": "75962019-030e-47cc-b190-ed303cf1246c",
        "trusted": true,
        "execution": {
          "iopub.status.busy": "2025-08-23T13:22:50.90766Z",
          "iopub.execute_input": "2025-08-23T13:22:50.908025Z",
          "iopub.status.idle": "2025-08-23T13:22:50.941129Z",
          "shell.execute_reply.started": "2025-08-23T13:22:50.907995Z",
          "shell.execute_reply": "2025-08-23T13:22:50.939767Z"
        },
        "jupyter": {
          "outputs_hidden": false
        },
        "id": "BDCpTKz1KqFW",
        "outputId": "9dc42cf0-f894-40bf-e4dd-320d793636af",
        "colab": {
          "base_uri": "https://localhost:8080/"
        }
      },
      "outputs": [
        {
          "output_type": "stream",
          "name": "stdout",
          "text": [
            "<class 'pandas.core.frame.DataFrame'>\n",
            "RangeIndex: 29999 entries, 0 to 29998\n",
            "Columns: 184 entries, App to Class\n",
            "dtypes: float64(3), int64(176), object(5)\n",
            "memory usage: 42.1+ MB\n"
          ]
        }
      ],
      "execution_count": 99
    },
    {
      "cell_type": "markdown",
      "source": [
        "Confirmed that all the features we're interested in, which are just the permission flags, are integers and none have missing values.  We'll do some further data validating soon, since it's not a good idea to just look manually when there are so many columns - it's too easy to miss something."
      ],
      "metadata": {
        "_uuid": "447c9034-e44a-49d6-b9cc-9d3455efa6c4",
        "_cell_guid": "eece4f8a-a1fc-48f2-a38a-58d561b5f485",
        "trusted": true,
        "collapsed": false,
        "jupyter": {
          "outputs_hidden": false
        },
        "id": "VY_b3Gj4KqFW"
      }
    },
    {
      "cell_type": "markdown",
      "source": [
        "## Drop Features We Won't Use"
      ],
      "metadata": {
        "_uuid": "c9414019-7025-45d1-be4c-7f9771728bca",
        "_cell_guid": "5c2e9e17-7f9a-42b3-a4f2-acac271daeef",
        "trusted": true,
        "collapsed": false,
        "jupyter": {
          "outputs_hidden": false
        },
        "id": "aH6n2GwBKqFX"
      }
    },
    {
      "cell_type": "code",
      "source": [
        "# Drop all the columns we don't care about\n",
        "malware_pdf = malware_pdf.drop('App', axis=1)\n",
        "malware_pdf = malware_pdf.drop('Package', axis=1)\n",
        "malware_pdf = malware_pdf.drop('Category', axis=1)\n",
        "malware_pdf = malware_pdf.drop('Description', axis=1)\n",
        "malware_pdf = malware_pdf.drop('Rating', axis=1)\n",
        "malware_pdf = malware_pdf.drop('Number of ratings', axis=1)\n",
        "malware_pdf = malware_pdf.drop('Price', axis=1)\n",
        "malware_pdf = malware_pdf.drop('Related apps', axis=1)\n",
        "malware_pdf = malware_pdf.drop('Dangerous permissions count', axis=1)\n",
        "malware_pdf = malware_pdf.drop('Safe permissions count', axis=1)\n",
        "\n",
        "malware_pdf.shape"
      ],
      "metadata": {
        "_uuid": "082cbf19-b2f4-4079-bf31-bb06365a7a2f",
        "_cell_guid": "980bac19-9970-4514-a9e0-07b2a858a466",
        "trusted": true,
        "execution": {
          "iopub.status.busy": "2025-08-23T13:22:50.942688Z",
          "iopub.execute_input": "2025-08-23T13:22:50.943039Z",
          "iopub.status.idle": "2025-08-23T13:22:51.237652Z",
          "shell.execute_reply.started": "2025-08-23T13:22:50.943008Z",
          "shell.execute_reply": "2025-08-23T13:22:51.236156Z"
        },
        "jupyter": {
          "outputs_hidden": false
        },
        "id": "O2-wWP4hKqFX",
        "outputId": "a42bc0e8-03e2-424b-b181-3dd31d889632",
        "colab": {
          "base_uri": "https://localhost:8080/"
        }
      },
      "outputs": [
        {
          "output_type": "execute_result",
          "data": {
            "text/plain": [
              "(29999, 174)"
            ]
          },
          "metadata": {},
          "execution_count": 100
        }
      ],
      "execution_count": 100
    },
    {
      "cell_type": "markdown",
      "source": [
        "Matches the dimensions we discussed earlier, except the one extra column (we said earlier we should have 173 features) is we still have the `Class Labels` in this data."
      ],
      "metadata": {
        "_uuid": "2f40e809-76de-401c-86d8-197e548b5039",
        "_cell_guid": "3381aad2-6577-46f9-b77d-b2064b75259d",
        "trusted": true,
        "collapsed": false,
        "jupyter": {
          "outputs_hidden": false
        },
        "id": "No-NfbJXKqFX"
      }
    },
    {
      "cell_type": "markdown",
      "source": [
        "## Check for Null or NA data"
      ],
      "metadata": {
        "_uuid": "4df0e393-5c8e-4566-a5d9-6e126b792a56",
        "_cell_guid": "fa9a1211-25a6-450a-8b47-a73119c6c17e",
        "trusted": true,
        "collapsed": false,
        "jupyter": {
          "outputs_hidden": false
        },
        "id": "JZH-Y40tKqFX"
      }
    },
    {
      "cell_type": "code",
      "source": [
        "# See how much of remaining data is null\n",
        "malware_pdf.isnull().sum()"
      ],
      "metadata": {
        "_uuid": "c05a0e0f-a800-4f01-87e9-58757ebee35f",
        "_cell_guid": "e4098979-c278-4a21-9fcf-38cb837f128c",
        "trusted": true,
        "execution": {
          "iopub.status.busy": "2025-08-23T13:22:51.242043Z",
          "iopub.execute_input": "2025-08-23T13:22:51.242535Z",
          "iopub.status.idle": "2025-08-23T13:22:51.259405Z",
          "shell.execute_reply.started": "2025-08-23T13:22:51.242496Z",
          "shell.execute_reply": "2025-08-23T13:22:51.258076Z"
        },
        "jupyter": {
          "outputs_hidden": false
        },
        "id": "ibULpZckKqFX",
        "outputId": "3b9c7ee8-557a-441a-f044-8f8a4c05b383",
        "colab": {
          "base_uri": "https://localhost:8080/",
          "height": 458
        }
      },
      "outputs": [
        {
          "output_type": "execute_result",
          "data": {
            "text/plain": [
              "Default : Access DRM content. (S)                                        0\n",
              "Default : Access Email provider data (S)                                 0\n",
              "Default : Access all system downloads (S)                                0\n",
              "Default : Access download manager. (S)                                   0\n",
              "Default : Advanced download manager functions. (S)                       0\n",
              "                                                                        ..\n",
              "Your personal information : set alarm in alarm clock (S)                 0\n",
              "Your personal information : write Browser's history and bookmarks (D)    0\n",
              "Your personal information : write contact data (D)                       0\n",
              "Your personal information : write to user defined dictionary (S)         0\n",
              "Class                                                                    0\n",
              "Length: 174, dtype: int64"
            ],
            "text/html": [
              "<div>\n",
              "<style scoped>\n",
              "    .dataframe tbody tr th:only-of-type {\n",
              "        vertical-align: middle;\n",
              "    }\n",
              "\n",
              "    .dataframe tbody tr th {\n",
              "        vertical-align: top;\n",
              "    }\n",
              "\n",
              "    .dataframe thead th {\n",
              "        text-align: right;\n",
              "    }\n",
              "</style>\n",
              "<table border=\"1\" class=\"dataframe\">\n",
              "  <thead>\n",
              "    <tr style=\"text-align: right;\">\n",
              "      <th></th>\n",
              "      <th>0</th>\n",
              "    </tr>\n",
              "  </thead>\n",
              "  <tbody>\n",
              "    <tr>\n",
              "      <th>Default : Access DRM content. (S)</th>\n",
              "      <td>0</td>\n",
              "    </tr>\n",
              "    <tr>\n",
              "      <th>Default : Access Email provider data (S)</th>\n",
              "      <td>0</td>\n",
              "    </tr>\n",
              "    <tr>\n",
              "      <th>Default : Access all system downloads (S)</th>\n",
              "      <td>0</td>\n",
              "    </tr>\n",
              "    <tr>\n",
              "      <th>Default : Access download manager. (S)</th>\n",
              "      <td>0</td>\n",
              "    </tr>\n",
              "    <tr>\n",
              "      <th>Default : Advanced download manager functions. (S)</th>\n",
              "      <td>0</td>\n",
              "    </tr>\n",
              "    <tr>\n",
              "      <th>...</th>\n",
              "      <td>...</td>\n",
              "    </tr>\n",
              "    <tr>\n",
              "      <th>Your personal information : set alarm in alarm clock (S)</th>\n",
              "      <td>0</td>\n",
              "    </tr>\n",
              "    <tr>\n",
              "      <th>Your personal information : write Browser's history and bookmarks (D)</th>\n",
              "      <td>0</td>\n",
              "    </tr>\n",
              "    <tr>\n",
              "      <th>Your personal information : write contact data (D)</th>\n",
              "      <td>0</td>\n",
              "    </tr>\n",
              "    <tr>\n",
              "      <th>Your personal information : write to user defined dictionary (S)</th>\n",
              "      <td>0</td>\n",
              "    </tr>\n",
              "    <tr>\n",
              "      <th>Class</th>\n",
              "      <td>0</td>\n",
              "    </tr>\n",
              "  </tbody>\n",
              "</table>\n",
              "<p>174 rows × 1 columns</p>\n",
              "</div><br><label><b>dtype:</b> int64</label>"
            ]
          },
          "metadata": {},
          "execution_count": 101
        }
      ],
      "execution_count": 101
    },
    {
      "cell_type": "code",
      "source": [
        "# Don't think any of the remaining data has null or missing values,\n",
        "# so let's just drop any rows that have na\n",
        "malware_pdf = malware_pdf.dropna()\n",
        "malware_pdf.shape"
      ],
      "metadata": {
        "_uuid": "7338318e-6667-4e4f-99e0-960f4d40db3e",
        "_cell_guid": "1205b889-26a1-46b5-bcc3-9e2b64a7ee41",
        "trusted": true,
        "execution": {
          "iopub.status.busy": "2025-08-23T13:22:51.261344Z",
          "iopub.execute_input": "2025-08-23T13:22:51.261732Z",
          "iopub.status.idle": "2025-08-23T13:22:51.341605Z",
          "shell.execute_reply.started": "2025-08-23T13:22:51.261689Z",
          "shell.execute_reply": "2025-08-23T13:22:51.340628Z"
        },
        "jupyter": {
          "outputs_hidden": false
        },
        "id": "kWUoX05tKqFX",
        "outputId": "acc67493-973d-4367-ce48-0ab2b0742054",
        "colab": {
          "base_uri": "https://localhost:8080/"
        }
      },
      "outputs": [
        {
          "output_type": "execute_result",
          "data": {
            "text/plain": [
              "(29999, 174)"
            ]
          },
          "metadata": {},
          "execution_count": 102
        }
      ],
      "execution_count": 102
    },
    {
      "cell_type": "markdown",
      "source": [
        "We can see nothing was dropped, which confirms that, by this point, the features and the labels are all clean."
      ],
      "metadata": {
        "_uuid": "2e5bc9ae-1ac1-4229-8b23-9e2547309b62",
        "_cell_guid": "ed762134-29c3-424a-bd8e-3c420f8fdc31",
        "trusted": true,
        "collapsed": false,
        "jupyter": {
          "outputs_hidden": false
        },
        "id": "QZyCrPUFKqFY"
      }
    },
    {
      "cell_type": "markdown",
      "source": [
        "## Useful Columns\n",
        "\n",
        "Let's see if we can condense any of the data by looking for features which don't seem to apply to any or many of the apps.  For example, if none of the apps use Permission X, then it is not going to have any predictive value and can be dropped from out dataset.  Even if only a few apps have it, it probably won't be enough to be statistically significant."
      ],
      "metadata": {
        "_uuid": "4a59854e-52e5-4546-bfc2-601699e387d6",
        "_cell_guid": "954ee179-77e0-4dbd-a353-f88d49c52ee0",
        "trusted": true,
        "collapsed": false,
        "jupyter": {
          "outputs_hidden": false
        },
        "id": "FDY_YD-dKqFY"
      }
    },
    {
      "cell_type": "code",
      "source": [
        "# Based on our sample size of only 29,999 apps, our margin of error is 0.6%\n",
        "# (margin of error in percent = 100 / sqrt(N)) ==> 100 / sqrt(29999)\n",
        "# And 0.6% of 29,999 apps is 180 apps.  So if less than 180 apps have a\n",
        "# feature, it's less than our margin of error and statistically insignificant,\n",
        "# so we'll drop those permission columns.\n",
        "PERM_THRESHOLD = 180             # Number of apps which must have a certain permission to keep it\n",
        "NUM_APPS = malware_pdf.shape[0]  # 29,999\n",
        "\n",
        "too_few_col_dropper = []    # We'll store column headers to be dropped in this list.  These are permissions that not many apps have\n",
        "too_many_col_dropper = []   # Too many apps have these permissions for predictive value\n",
        "\n",
        "# value_counts() returns a Pandas series, where the 0 key counts how many did not\n",
        "# have the feature, and 1 counts how many that did.\n",
        "\n",
        "# Note that if none had the feature, then the 1 key will not be present,\n",
        "# and we get a key error.  We could check for the 0 case is 29999, but\n",
        "# I think that's a bit kludgy.  Thankfully, Pandas series supports the\n",
        "# .get() method, which can return a default value if key error.\n",
        "\n",
        "# p.s. Don't look at the last column, which is the class label\n",
        "for col in malware_pdf.columns[:-1]:\n",
        "    # If the value count key is not found, there are 0 counts\n",
        "    if (malware_pdf[col].value_counts().get(1, 0) < PERM_THRESHOLD):\n",
        "        too_few_col_dropper.append(col)\n",
        "\n",
        "print(f\"There are {len(too_few_col_dropper)} permissions that less than {PERM_THRESHOLD} apps have, and will therefore be dropped.\")\n",
        "\n",
        "# Similarly, are there any permissions that almost ALL apps have (unlikely),\n",
        "# that also gives them little predictive value.\n",
        "for col in malware_pdf.columns[:-1]:\n",
        "    # If the value count key is not found, there are 0 counts\n",
        "    if (malware_pdf[col].value_counts().get(1, 0) > (NUM_APPS - PERM_THRESHOLD)):\n",
        "        too_many_col_dropper.append(col)\n",
        "\n",
        "# Turns out none fit this bill, but that's OK - code is reusable\n",
        "print(f\"There are {len(too_many_col_dropper)} permissions that more than than {NUM_APPS - PERM_THRESHOLD} apps have, and will therefore be dropped.\")\n",
        "\n",
        "# Drop the columns\n",
        "malware_pdf = malware_pdf.drop(malware_pdf[too_few_col_dropper], axis=1)\n",
        "malware_pdf = malware_pdf.drop(malware_pdf[too_many_col_dropper], axis=1)\n",
        "malware_pdf.shape"
      ],
      "metadata": {
        "_uuid": "b86392a4-304f-4f17-9bec-4aadf859d95b",
        "_cell_guid": "8180d2ad-b0e3-4012-b9e4-81cb0073276c",
        "trusted": true,
        "execution": {
          "iopub.status.busy": "2025-08-23T13:22:51.343146Z",
          "iopub.execute_input": "2025-08-23T13:22:51.343475Z",
          "iopub.status.idle": "2025-08-23T13:22:51.702385Z",
          "shell.execute_reply.started": "2025-08-23T13:22:51.343442Z",
          "shell.execute_reply": "2025-08-23T13:22:51.70121Z"
        },
        "jupyter": {
          "outputs_hidden": false
        },
        "id": "D0ILpj_dKqFY",
        "outputId": "7eed31f6-1483-45a3-8042-df68ec9494b0",
        "colab": {
          "base_uri": "https://localhost:8080/"
        }
      },
      "outputs": [
        {
          "output_type": "stream",
          "name": "stdout",
          "text": [
            "There are 122 permissions that less than 180 apps have, and will therefore be dropped.\n",
            "There are 0 permissions that more than than 29819 apps have, and will therefore be dropped.\n"
          ]
        },
        {
          "output_type": "execute_result",
          "data": {
            "text/plain": [
              "(29999, 52)"
            ]
          },
          "metadata": {},
          "execution_count": 103
        }
      ],
      "execution_count": 103
    },
    {
      "cell_type": "markdown",
      "source": [
        "Out of the original 173 possible permissions, only 52 permissions are left that are statistically significant.  This will speed up training significantly, as the data is about one third the size it was before!"
      ],
      "metadata": {
        "_uuid": "40a5e02d-a42b-4d66-aa04-109b995d1256",
        "_cell_guid": "6e7e1e81-f6ea-47f1-b7eb-1b349ca7ba42",
        "trusted": true,
        "collapsed": false,
        "jupyter": {
          "outputs_hidden": false
        },
        "id": "SdQlDyGCKqFY"
      }
    },
    {
      "cell_type": "markdown",
      "source": [
        "## Visualization"
      ],
      "metadata": {
        "_uuid": "4e431e3b-b5d2-4ae8-83cd-10f76b971890",
        "_cell_guid": "88ed587f-cd3b-4f28-b6a9-4a7dd690441d",
        "trusted": true,
        "collapsed": false,
        "jupyter": {
          "outputs_hidden": false
        },
        "id": "N7V6gr25KqFY"
      }
    },
    {
      "cell_type": "code",
      "source": [
        "# For some visualization\n",
        "import matplotlib.pyplot as plt\n",
        "import seaborn as sns"
      ],
      "metadata": {
        "_uuid": "1fbf3c85-b45b-4438-acfe-b2ca51a4e87c",
        "_cell_guid": "3b6b29cc-00cd-45b7-875c-d3bf55605215",
        "trusted": true,
        "execution": {
          "iopub.status.busy": "2025-08-23T13:22:51.703738Z",
          "iopub.execute_input": "2025-08-23T13:22:51.704048Z",
          "iopub.status.idle": "2025-08-23T13:22:52.410195Z",
          "shell.execute_reply.started": "2025-08-23T13:22:51.704022Z",
          "shell.execute_reply": "2025-08-23T13:22:52.40888Z"
        },
        "jupyter": {
          "outputs_hidden": false
        },
        "id": "twVcn0StKqFY"
      },
      "outputs": [],
      "execution_count": 104
    },
    {
      "cell_type": "code",
      "source": [
        "malware_pdf['Class'].value_counts()"
      ],
      "metadata": {
        "_uuid": "66ae1db2-b138-48e6-b89d-49154ad864e3",
        "_cell_guid": "586b1e02-9e42-439e-bc7c-b467904a93b2",
        "trusted": true,
        "execution": {
          "iopub.status.busy": "2025-08-23T13:22:52.413084Z",
          "iopub.execute_input": "2025-08-23T13:22:52.413481Z",
          "iopub.status.idle": "2025-08-23T13:22:52.422678Z",
          "shell.execute_reply.started": "2025-08-23T13:22:52.413446Z",
          "shell.execute_reply": "2025-08-23T13:22:52.421374Z"
        },
        "jupyter": {
          "outputs_hidden": false
        },
        "id": "EuWQevoyKqFY",
        "outputId": "a8573b9a-8ac9-4ff8-a306-8daeca7775d5",
        "colab": {
          "base_uri": "https://localhost:8080/",
          "height": 178
        }
      },
      "outputs": [
        {
          "output_type": "execute_result",
          "data": {
            "text/plain": [
              "Class\n",
              "1    20000\n",
              "0     9999\n",
              "Name: count, dtype: int64"
            ],
            "text/html": [
              "<div>\n",
              "<style scoped>\n",
              "    .dataframe tbody tr th:only-of-type {\n",
              "        vertical-align: middle;\n",
              "    }\n",
              "\n",
              "    .dataframe tbody tr th {\n",
              "        vertical-align: top;\n",
              "    }\n",
              "\n",
              "    .dataframe thead th {\n",
              "        text-align: right;\n",
              "    }\n",
              "</style>\n",
              "<table border=\"1\" class=\"dataframe\">\n",
              "  <thead>\n",
              "    <tr style=\"text-align: right;\">\n",
              "      <th></th>\n",
              "      <th>count</th>\n",
              "    </tr>\n",
              "    <tr>\n",
              "      <th>Class</th>\n",
              "      <th></th>\n",
              "    </tr>\n",
              "  </thead>\n",
              "  <tbody>\n",
              "    <tr>\n",
              "      <th>1</th>\n",
              "      <td>20000</td>\n",
              "    </tr>\n",
              "    <tr>\n",
              "      <th>0</th>\n",
              "      <td>9999</td>\n",
              "    </tr>\n",
              "  </tbody>\n",
              "</table>\n",
              "</div><br><label><b>dtype:</b> int64</label>"
            ]
          },
          "metadata": {},
          "execution_count": 105
        }
      ],
      "execution_count": 105
    },
    {
      "cell_type": "code",
      "source": [
        "sns.countplot(data=malware_pdf, x='Class')"
      ],
      "metadata": {
        "_uuid": "91cceb81-2f45-4cd9-ba5c-fe8c939b6448",
        "_cell_guid": "98ff5abb-cb61-4304-8364-dcaf42ca36ee",
        "trusted": true,
        "execution": {
          "iopub.status.busy": "2025-08-23T13:22:52.42435Z",
          "iopub.execute_input": "2025-08-23T13:22:52.424699Z",
          "iopub.status.idle": "2025-08-23T13:22:52.645686Z",
          "shell.execute_reply.started": "2025-08-23T13:22:52.424667Z",
          "shell.execute_reply": "2025-08-23T13:22:52.644666Z"
        },
        "jupyter": {
          "outputs_hidden": false
        },
        "id": "g70FwVDBKqFY",
        "outputId": "9d0b587a-e79c-49e2-eed5-3a5a828fd7e2",
        "colab": {
          "base_uri": "https://localhost:8080/",
          "height": 466
        }
      },
      "outputs": [
        {
          "output_type": "execute_result",
          "data": {
            "text/plain": [
              "<Axes: xlabel='Class', ylabel='count'>"
            ]
          },
          "metadata": {},
          "execution_count": 106
        },
        {
          "output_type": "display_data",
          "data": {
            "text/plain": [
              "<Figure size 640x480 with 1 Axes>"
            ],
            "image/png": "[encoded data removed]"
          },
          "metadata": {}
        }
      ],
      "execution_count": 106
    },
    {
      "cell_type": "markdown",
      "source": [
        "We can see it's an imbalanced dataset, with the malware class existing about 2:1 ratio to the benign class.  Not a crazy imbalance, but it will still cause our model to tend to identify more apps as malware than are.  We'll want to look not at accuracy (which assumes a balanced dataset), but instead we'll look at the confusion matrix (for skewed datasets) and we'll take a look at the Precision-Recall curve."
      ],
      "metadata": {
        "_uuid": "6c9d6f99-469b-4bc9-94c1-ed2c2087d35b",
        "_cell_guid": "1610e2c7-ebde-4a32-ab4e-b453b7aacc1b",
        "trusted": true,
        "collapsed": false,
        "jupyter": {
          "outputs_hidden": false
        },
        "id": "OEHSKzGaKqFY"
      }
    },
    {
      "cell_type": "markdown",
      "source": [
        "# Split and Prepare Data for Training"
      ],
      "metadata": {
        "_uuid": "513d931e-da46-446f-b82b-2f4eee47c242",
        "_cell_guid": "dcb73d51-ee5c-4336-91f1-499a23264473",
        "trusted": true,
        "collapsed": false,
        "jupyter": {
          "outputs_hidden": false
        },
        "id": "ZB6TC-z4KqFY"
      }
    },
    {
      "cell_type": "code",
      "source": [
        "from sklearn.model_selection import train_test_split\n",
        "\n",
        "# First let's get the class labels\n",
        "y = malware_pdf['Class']\n",
        "\n",
        "# And drop them from X (which loses the column headers)\n",
        "X = malware_pdf.drop(['Class'], axis=1)\n",
        "\n",
        "# Convert y labels to NumPy array for learning\n",
        "y = np.array(y)\n",
        "\n",
        "print(f\"X: {X.shape} of type {type(X)}\")\n",
        "print(f\"y: {y.shape} of type {type(y)}\")"
      ],
      "metadata": {
        "_uuid": "54cdd175-17ea-46b3-bdff-3525acd974bb",
        "_cell_guid": "840eef9c-7c0e-4efe-a1c9-0a203b4a802f",
        "trusted": true,
        "execution": {
          "iopub.status.busy": "2025-08-23T13:22:52.647205Z",
          "iopub.execute_input": "2025-08-23T13:22:52.648154Z",
          "iopub.status.idle": "2025-08-23T13:22:52.908323Z",
          "shell.execute_reply.started": "2025-08-23T13:22:52.64811Z",
          "shell.execute_reply": "2025-08-23T13:22:52.907267Z"
        },
        "jupyter": {
          "outputs_hidden": false
        },
        "id": "fOpIbJ15KqFZ",
        "outputId": "1711c508-2eb1-4cf9-8ac6-6c240b8d2a8c",
        "colab": {
          "base_uri": "https://localhost:8080/"
        }
      },
      "outputs": [
        {
          "output_type": "stream",
          "name": "stdout",
          "text": [
            "X: (29999, 51) of type <class 'pandas.core.frame.DataFrame'>\n",
            "y: (29999,) of type <class 'numpy.ndarray'>\n"
          ]
        }
      ],
      "execution_count": 107
    },
    {
      "cell_type": "code",
      "source": [
        "# NOTE: Don't need to standardize/normalize the features, they're all already on the same small scale\n",
        "\n",
        "# Split the data.  Let's do a 80/10/10 split for train/val/test\n",
        "X_train, X_, y_train, y_ = train_test_split(X, y, test_size=0.2, random_state=42)        # 20% goes to temp variable\n",
        "X_val, X_test, y_val, y_test = train_test_split(X_, y_, test_size=0.5, random_state=42)  # which is then split in half to make val and test sets\n",
        "\n",
        "# Try adding a dimension here to fix training issue, not learning.  ==>  Wasn't an issue, dropping this.\n",
        "# y_train = np.expand_dims(y_train, axis=1)\n",
        "# y_val = np.expand_dims(y_val, axis=1)\n",
        "# y_test = np.expand_dims(y_test, axis=1)\n",
        "\n",
        "# Confirm sizes and types.  Note that all X are converted to NumPy ndarrays!\n",
        "print(f\"X_train: {X_train.shape} of type {type(X_train)}\")\n",
        "print(f\"y_train: {y_train.shape} of type {type(y_train)}\\n\")\n",
        "\n",
        "print(f\"X_val: {X_val.shape} of type {type(X_val)}\")\n",
        "print(f\"y_val: {y_val.shape} of type {type(y_val)}\\n\")\n",
        "\n",
        "print(f\"X_test: {X_test.shape} of type {type(X_test)}\")\n",
        "print(f\"y_test: {y_test.shape} of type {type(y_test)}\\n\")"
      ],
      "metadata": {
        "_uuid": "e494f9ea-5f8e-4bee-aaa9-3546c7cc718b",
        "_cell_guid": "51304954-93b7-4bca-951f-3faf10702793",
        "trusted": true,
        "execution": {
          "iopub.status.busy": "2025-08-23T13:22:52.909554Z",
          "iopub.execute_input": "2025-08-23T13:22:52.909884Z",
          "iopub.status.idle": "2025-08-23T13:22:52.956458Z",
          "shell.execute_reply.started": "2025-08-23T13:22:52.909836Z",
          "shell.execute_reply": "2025-08-23T13:22:52.955222Z"
        },
        "jupyter": {
          "outputs_hidden": false
        },
        "id": "z9kBwmzeKqFZ",
        "outputId": "36918aff-121a-46b8-cd62-3f025b0cee53",
        "colab": {
          "base_uri": "https://localhost:8080/"
        }
      },
      "outputs": [
        {
          "output_type": "stream",
          "name": "stdout",
          "text": [
            "X_train: (23999, 51) of type <class 'pandas.core.frame.DataFrame'>\n",
            "y_train: (23999,) of type <class 'numpy.ndarray'>\n",
            "\n",
            "X_val: (3000, 51) of type <class 'pandas.core.frame.DataFrame'>\n",
            "y_val: (3000,) of type <class 'numpy.ndarray'>\n",
            "\n",
            "X_test: (3000, 51) of type <class 'pandas.core.frame.DataFrame'>\n",
            "y_test: (3000,) of type <class 'numpy.ndarray'>\n",
            "\n"
          ]
        }
      ],
      "execution_count": 108
    },
    {
      "cell_type": "markdown",
      "source": [
        "# Baseline Neural Network Model\n",
        "\n",
        "Let's use a neural network as a baseline and compare some different architectures to that."
      ],
      "metadata": {
        "_uuid": "dfdb8b6f-0b6b-462b-a62b-22393de101c7",
        "_cell_guid": "228e59cd-bc7c-4d18-a195-d12d56712893",
        "trusted": true,
        "collapsed": false,
        "jupyter": {
          "outputs_hidden": false
        },
        "id": "kekfsSyxKqFZ"
      }
    },
    {
      "cell_type": "code",
      "source": [
        "import tensorflow as tf\n",
        "\n",
        "print(tf.__version__)\n",
        "print(tf.config.list_physical_devices('GPU'))  # Not using the GPU here, not necessary with such a small dataset"
      ],
      "metadata": {
        "_uuid": "2ca1e451-ba3b-49d4-8e4c-a9e9bb637072",
        "_cell_guid": "40b5148a-2ad0-4d74-bc5f-786be3e2d9d4",
        "trusted": true,
        "execution": {
          "iopub.status.busy": "2025-08-23T13:22:52.957842Z",
          "iopub.execute_input": "2025-08-23T13:22:52.958295Z",
          "iopub.status.idle": "2025-08-23T13:23:09.77389Z",
          "shell.execute_reply.started": "2025-08-23T13:22:52.958257Z",
          "shell.execute_reply": "2025-08-23T13:23:09.771953Z"
        },
        "jupyter": {
          "outputs_hidden": false
        },
        "id": "uayrXftPKqFZ",
        "outputId": "1e1f863f-a999-401f-caa5-e7bed38b2b8e",
        "colab": {
          "base_uri": "https://localhost:8080/"
        }
      },
      "outputs": [
        {
          "output_type": "stream",
          "name": "stdout",
          "text": [
            "2.19.0\n",
            "[]\n"
          ]
        }
      ],
      "execution_count": 109
    },
    {
      "cell_type": "code",
      "source": [
        "input_size = X_train.shape[1]  # num. features\n",
        "\n",
        "# Define a bunch of metrics for all neural network models\n",
        "# 'Accuracy' not very relevant for imbalanced datasets\n",
        "metrics = [\n",
        "    tf.keras.metrics.FalseNegatives(name=\"fn\"),\n",
        "    tf.keras.metrics.FalsePositives(name=\"fp\"),\n",
        "    tf.keras.metrics.TrueNegatives(name=\"tn\"),\n",
        "    tf.keras.metrics.TruePositives(name=\"tp\"),\n",
        "    tf.keras.metrics.Precision(name=\"precision\"),\n",
        "    tf.keras.metrics.Recall(name=\"recall\"),\n",
        "    tf.keras.metrics.BinaryCrossentropy(name=\"binary cross entropy\"),   # same as model's loss\n",
        "    'accuracy'                                                          # just for the heck of it\n",
        "]\n",
        "\n",
        "# Started with a plain jane neural network and made it slightly more fancy after several design iterations\n",
        "\n",
        "leaky_relu = tf.keras.layers.LeakyReLU()  # Prevent dead neurons\n",
        "\n",
        "model = tf.keras.Sequential([\n",
        "    tf.keras.layers.Dense(512, activation=leaky_relu, kernel_initializer=\"he_normal\", input_shape=(input_size,)),\n",
        "    # tf.keras.layers.BatchNormalization(),  # Not deep enough, where Dropout helped more.  Using both together has some issues to watch for.\n",
        "    tf.keras.layers.Dropout(0.5),\n",
        "    tf.keras.layers.Dense(512, activation=leaky_relu, kernel_initializer=\"he_normal\"),  # He initialization recommended for Leaky ReLU\n",
        "    # tf.keras.layers.BatchNormalization(),  # Not deep enough, where Dropout helped more.  Using both together has some issues to watch for.\n",
        "    tf.keras.layers.Dropout(0.5),\n",
        "    tf.keras.layers.Dense(256, activation=leaky_relu, kernel_initializer=\"he_normal\"),\n",
        "    tf.keras.layers.Dropout(0.5),\n",
        "    tf.keras.layers.Dense(64, activation=leaky_relu, kernel_initializer=\"he_normal\"),\n",
        "    tf.keras.layers.Dropout(0.5),\n",
        "    tf.keras.layers.Dense(1, activation='sigmoid')  # Binary cross entropy.  For sigmoid, keep the default Glorot initialization\n",
        "])\n",
        "\n",
        "opt = tf.keras.optimizers.Nadam(learning_rate=0.005)  # Found through experimentation below\n",
        "# opt = tf.keras.optimizers.Adam(learning_rate=0.01)\n",
        "# opt = tf.keras.optimizers.RMSprop(learning_rate=0.01)\n",
        "\n",
        "model.compile(optimizer=opt, loss='binary_crossentropy', metrics=metrics)"
      ],
      "metadata": {
        "_uuid": "049d2579-a9a2-4aaf-9f27-afb1513e634e",
        "_cell_guid": "2569dee5-b5ce-4dc1-b3bf-7ad9011ce590",
        "trusted": true,
        "execution": {
          "iopub.status.busy": "2025-08-23T13:23:09.775789Z",
          "iopub.execute_input": "2025-08-23T13:23:09.776668Z",
          "iopub.status.idle": "2025-08-23T13:23:10.263195Z",
          "shell.execute_reply.started": "2025-08-23T13:23:09.776617Z",
          "shell.execute_reply": "2025-08-23T13:23:10.261966Z"
        },
        "jupyter": {
          "outputs_hidden": false
        },
        "id": "02nDqqncKqFZ",
        "outputId": "cb589424-d90c-490c-b9a8-8ccc2f8c513b",
        "colab": {
          "base_uri": "https://localhost:8080/"
        }
      },
      "outputs": [
        {
          "output_type": "stream",
          "name": "stderr",
          "text": [
            "/usr/local/lib/python3.12/dist-packages/keras/src/layers/core/dense.py:93: UserWarning: Do not pass an `input_shape`/`input_dim` argument to a layer. When using Sequential models, prefer using an `Input(shape)` object as the first layer in the model instead.\n",
            "  super().__init__(activity_regularizer=activity_regularizer, **kwargs)\n"
          ]
        }
      ],
      "execution_count": 110
    },
    {
      "cell_type": "code",
      "source": [
        "baseline_model = model\n",
        "baseline_model.summary()"
      ],
      "metadata": {
        "_uuid": "78b31ee0-ba3e-43b0-863b-547d449b7561",
        "_cell_guid": "800ac769-f88f-46bc-b52b-56c8e715a55c",
        "trusted": true,
        "execution": {
          "iopub.status.busy": "2025-08-23T13:23:10.264621Z",
          "iopub.execute_input": "2025-08-23T13:23:10.265056Z",
          "iopub.status.idle": "2025-08-23T13:23:10.301071Z",
          "shell.execute_reply.started": "2025-08-23T13:23:10.265017Z",
          "shell.execute_reply": "2025-08-23T13:23:10.29975Z"
        },
        "jupyter": {
          "outputs_hidden": false
        },
        "id": "O6UmyLGNKqFa",
        "outputId": "87fb7043-8aa2-41e4-e2d6-55f369a66b33",
        "colab": {
          "base_uri": "https://localhost:8080/",
          "height": 423
        }
      },
      "outputs": [
        {
          "output_type": "display_data",
          "data": {
            "text/plain": [
              "\u001b[1mModel: \"sequential_2\"\u001b[0m\n"
            ],
            "text/html": [
              "<pre style=\"white-space:pre;overflow-x:auto;line-height:normal;font-family:Menlo,'DejaVu Sans Mono',consolas,'Courier New',monospace\"><span style=\"font-weight: bold\">Model: \"sequential_2\"</span>\n",
              "</pre>\n"
            ]
          },
          "metadata": {}
        },
        {
          "output_type": "display_data",
          "data": {
            "text/plain": [
              "┏━━━━━━━━━━━━━━━━━━━━━━━━━━━━━━━━━┳━━━━━━━━━━━━━━━━━━━━━━━━┳━━━━━━━━━━━━━━━┓\n",
              "┃\u001b[1m \u001b[0m\u001b[1mLayer (type)                   \u001b[0m\u001b[1m \u001b[0m┃\u001b[1m \u001b[0m\u001b[1mOutput Shape          \u001b[0m\u001b[1m \u001b[0m┃\u001b[1m \u001b[0m\u001b[1m      Param #\u001b[0m\u001b[1m \u001b[0m┃\n",
              "┡━━━━━━━━━━━━━━━━━━━━━━━━━━━━━━━━━╇━━━━━━━━━━━━━━━━━━━━━━━━╇━━━━━━━━━━━━━━━┩\n",
              "│ dense_10 (\u001b[38;5;33mDense\u001b[0m)                │ (\u001b[38;5;45mNone\u001b[0m, \u001b[38;5;34m512\u001b[0m)            │        \u001b[38;5;34m26,624\u001b[0m │\n",
              "├─────────────────────────────────┼────────────────────────┼───────────────┤\n",
              "│ dropout_8 (\u001b[38;5;33mDropout\u001b[0m)             │ (\u001b[38;5;45mNone\u001b[0m, \u001b[38;5;34m512\u001b[0m)            │             \u001b[38;5;34m0\u001b[0m │\n",
              "├─────────────────────────────────┼────────────────────────┼───────────────┤\n",
              "│ dense_11 (\u001b[38;5;33mDense\u001b[0m)                │ (\u001b[38;5;45mNone\u001b[0m, \u001b[38;5;34m512\u001b[0m)            │       \u001b[38;5;34m262,656\u001b[0m │\n",
              "├─────────────────────────────────┼────────────────────────┼───────────────┤\n",
              "│ dropout_9 (\u001b[38;5;33mDropout\u001b[0m)             │ (\u001b[38;5;45mNone\u001b[0m, \u001b[38;5;34m512\u001b[0m)            │             \u001b[38;5;34m0\u001b[0m │\n",
              "├─────────────────────────────────┼────────────────────────┼───────────────┤\n",
              "│ dense_12 (\u001b[38;5;33mDense\u001b[0m)                │ (\u001b[38;5;45mNone\u001b[0m, \u001b[38;5;34m256\u001b[0m)            │       \u001b[38;5;34m131,328\u001b[0m │\n",
              "├─────────────────────────────────┼────────────────────────┼───────────────┤\n",
              "│ dropout_10 (\u001b[38;5;33mDropout\u001b[0m)            │ (\u001b[38;5;45mNone\u001b[0m, \u001b[38;5;34m256\u001b[0m)            │             \u001b[38;5;34m0\u001b[0m │\n",
              "├─────────────────────────────────┼────────────────────────┼───────────────┤\n",
              "│ dense_13 (\u001b[38;5;33mDense\u001b[0m)                │ (\u001b[38;5;45mNone\u001b[0m, \u001b[38;5;34m64\u001b[0m)             │        \u001b[38;5;34m16,448\u001b[0m │\n",
              "├─────────────────────────────────┼────────────────────────┼───────────────┤\n",
              "│ dropout_11 (\u001b[38;5;33mDropout\u001b[0m)            │ (\u001b[38;5;45mNone\u001b[0m, \u001b[38;5;34m64\u001b[0m)             │             \u001b[38;5;34m0\u001b[0m │\n",
              "├─────────────────────────────────┼────────────────────────┼───────────────┤\n",
              "│ dense_14 (\u001b[38;5;33mDense\u001b[0m)                │ (\u001b[38;5;45mNone\u001b[0m, \u001b[38;5;34m1\u001b[0m)              │            \u001b[38;5;34m65\u001b[0m │\n",
              "└─────────────────────────────────┴────────────────────────┴───────────────┘\n"
            ],
            "text/html": [
              "<pre style=\"white-space:pre;overflow-x:auto;line-height:normal;font-family:Menlo,'DejaVu Sans Mono',consolas,'Courier New',monospace\">┏━━━━━━━━━━━━━━━━━━━━━━━━━━━━━━━━━┳━━━━━━━━━━━━━━━━━━━━━━━━┳━━━━━━━━━━━━━━━┓\n",
              "┃<span style=\"font-weight: bold\"> Layer (type)                    </span>┃<span style=\"font-weight: bold\"> Output Shape           </span>┃<span style=\"font-weight: bold\">       Param # </span>┃\n",
              "┡━━━━━━━━━━━━━━━━━━━━━━━━━━━━━━━━━╇━━━━━━━━━━━━━━━━━━━━━━━━╇━━━━━━━━━━━━━━━┩\n",
              "│ dense_10 (<span style=\"color: #0087ff; text-decoration-color: #0087ff\">Dense</span>)                │ (<span style=\"color: #00d7ff; text-decoration-color: #00d7ff\">None</span>, <span style=\"color: #00af00; text-decoration-color: #00af00\">512</span>)            │        <span style=\"color: #00af00; text-decoration-color: #00af00\">26,624</span> │\n",
              "├─────────────────────────────────┼────────────────────────┼───────────────┤\n",
              "│ dropout_8 (<span style=\"color: #0087ff; text-decoration-color: #0087ff\">Dropout</span>)             │ (<span style=\"color: #00d7ff; text-decoration-color: #00d7ff\">None</span>, <span style=\"color: #00af00; text-decoration-color: #00af00\">512</span>)            │             <span style=\"color: #00af00; text-decoration-color: #00af00\">0</span> │\n",
              "├─────────────────────────────────┼────────────────────────┼───────────────┤\n",
              "│ dense_11 (<span style=\"color: #0087ff; text-decoration-color: #0087ff\">Dense</span>)                │ (<span style=\"color: #00d7ff; text-decoration-color: #00d7ff\">None</span>, <span style=\"color: #00af00; text-decoration-color: #00af00\">512</span>)            │       <span style=\"color: #00af00; text-decoration-color: #00af00\">262,656</span> │\n",
              "├─────────────────────────────────┼────────────────────────┼───────────────┤\n",
              "│ dropout_9 (<span style=\"color: #0087ff; text-decoration-color: #0087ff\">Dropout</span>)             │ (<span style=\"color: #00d7ff; text-decoration-color: #00d7ff\">None</span>, <span style=\"color: #00af00; text-decoration-color: #00af00\">512</span>)            │             <span style=\"color: #00af00; text-decoration-color: #00af00\">0</span> │\n",
              "├─────────────────────────────────┼────────────────────────┼───────────────┤\n",
              "│ dense_12 (<span style=\"color: #0087ff; text-decoration-color: #0087ff\">Dense</span>)                │ (<span style=\"color: #00d7ff; text-decoration-color: #00d7ff\">None</span>, <span style=\"color: #00af00; text-decoration-color: #00af00\">256</span>)            │       <span style=\"color: #00af00; text-decoration-color: #00af00\">131,328</span> │\n",
              "├─────────────────────────────────┼────────────────────────┼───────────────┤\n",
              "│ dropout_10 (<span style=\"color: #0087ff; text-decoration-color: #0087ff\">Dropout</span>)            │ (<span style=\"color: #00d7ff; text-decoration-color: #00d7ff\">None</span>, <span style=\"color: #00af00; text-decoration-color: #00af00\">256</span>)            │             <span style=\"color: #00af00; text-decoration-color: #00af00\">0</span> │\n",
              "├─────────────────────────────────┼────────────────────────┼───────────────┤\n",
              "│ dense_13 (<span style=\"color: #0087ff; text-decoration-color: #0087ff\">Dense</span>)                │ (<span style=\"color: #00d7ff; text-decoration-color: #00d7ff\">None</span>, <span style=\"color: #00af00; text-decoration-color: #00af00\">64</span>)             │        <span style=\"color: #00af00; text-decoration-color: #00af00\">16,448</span> │\n",
              "├─────────────────────────────────┼────────────────────────┼───────────────┤\n",
              "│ dropout_11 (<span style=\"color: #0087ff; text-decoration-color: #0087ff\">Dropout</span>)            │ (<span style=\"color: #00d7ff; text-decoration-color: #00d7ff\">None</span>, <span style=\"color: #00af00; text-decoration-color: #00af00\">64</span>)             │             <span style=\"color: #00af00; text-decoration-color: #00af00\">0</span> │\n",
              "├─────────────────────────────────┼────────────────────────┼───────────────┤\n",
              "│ dense_14 (<span style=\"color: #0087ff; text-decoration-color: #0087ff\">Dense</span>)                │ (<span style=\"color: #00d7ff; text-decoration-color: #00d7ff\">None</span>, <span style=\"color: #00af00; text-decoration-color: #00af00\">1</span>)              │            <span style=\"color: #00af00; text-decoration-color: #00af00\">65</span> │\n",
              "└─────────────────────────────────┴────────────────────────┴───────────────┘\n",
              "</pre>\n"
            ]
          },
          "metadata": {}
        },
        {
          "output_type": "display_data",
          "data": {
            "text/plain": [
              "\u001b[1m Total params: \u001b[0m\u001b[38;5;34m437,121\u001b[0m (1.67 MB)\n"
            ],
            "text/html": [
              "<pre style=\"white-space:pre;overflow-x:auto;line-height:normal;font-family:Menlo,'DejaVu Sans Mono',consolas,'Courier New',monospace\"><span style=\"font-weight: bold\"> Total params: </span><span style=\"color: #00af00; text-decoration-color: #00af00\">437,121</span> (1.67 MB)\n",
              "</pre>\n"
            ]
          },
          "metadata": {}
        },
        {
          "output_type": "display_data",
          "data": {
            "text/plain": [
              "\u001b[1m Trainable params: \u001b[0m\u001b[38;5;34m437,121\u001b[0m (1.67 MB)\n"
            ],
            "text/html": [
              "<pre style=\"white-space:pre;overflow-x:auto;line-height:normal;font-family:Menlo,'DejaVu Sans Mono',consolas,'Courier New',monospace\"><span style=\"font-weight: bold\"> Trainable params: </span><span style=\"color: #00af00; text-decoration-color: #00af00\">437,121</span> (1.67 MB)\n",
              "</pre>\n"
            ]
          },
          "metadata": {}
        },
        {
          "output_type": "display_data",
          "data": {
            "text/plain": [
              "\u001b[1m Non-trainable params: \u001b[0m\u001b[38;5;34m0\u001b[0m (0.00 B)\n"
            ],
            "text/html": [
              "<pre style=\"white-space:pre;overflow-x:auto;line-height:normal;font-family:Menlo,'DejaVu Sans Mono',consolas,'Courier New',monospace\"><span style=\"font-weight: bold\"> Non-trainable params: </span><span style=\"color: #00af00; text-decoration-color: #00af00\">0</span> (0.00 B)\n",
              "</pre>\n"
            ]
          },
          "metadata": {}
        }
      ],
      "execution_count": 111
    },
    {
      "cell_type": "markdown",
      "source": [
        "> 📝 **NOTE:** The following code we already know will have some problems, as we noted this class is imbalanced.  So looking at the accuracy will make the neural net tend to set its weights to prefer the over-represented class!  Let's confirm that."
      ],
      "metadata": {
        "_uuid": "c491453a-465c-4cc7-94dc-5c54c85ab583",
        "_cell_guid": "b96a72d1-ccdb-47df-aee6-2c635a341034",
        "trusted": true,
        "collapsed": false,
        "jupyter": {
          "outputs_hidden": false
        },
        "id": "VjOycXa4KqFa"
      }
    },
    {
      "cell_type": "markdown",
      "source": [
        "## Find Max Learning Rate"
      ],
      "metadata": {
        "_uuid": "f864cfe9-a6db-46c1-931b-12d86cf09fbe",
        "_cell_guid": "7d777c8d-0335-4e02-a85c-e3a10211d373",
        "trusted": true,
        "collapsed": false,
        "jupyter": {
          "outputs_hidden": false
        },
        "id": "S3GL7GTTKqFa"
      }
    },
    {
      "cell_type": "markdown",
      "source": [
        "In the next code block, which I've commented out now, we use a *growing* learning rate and increase the learning rate upon each epoch.  We then plot the loss and see where it starts to oscillate and explode.  We are trying to find out the largest learning rate we can use *for this dataset* where learning is still stable, to minimize training time.\n",
        "\n",
        "If you uncomment the following code, you'll find that the last stable learning occurred around epoch 11, when the learning rate was 0.0102.  Good practice is to start with half of this as the initial learning rate, and slowly reduce this as training continues.  So we'll start with an initial learning rate of 0.005."
      ],
      "metadata": {
        "_uuid": "faa543cc-bbe6-4a01-8aa1-94d7e73f876e",
        "_cell_guid": "837125be-d8fa-4bd5-9460-286a38b4e575",
        "trusted": true,
        "collapsed": false,
        "jupyter": {
          "outputs_hidden": false
        },
        "id": "5gw0KWnhKqFa"
      }
    },
    {
      "cell_type": "code",
      "source": [
        "# # First let's try a GROWING learning rate to find the optimal starting learning rate\n",
        "\n",
        "# # For finding last stable learning rate.\n",
        "# # Let's try to grow the learning rate at each iteration (use exponential learning rate)\n",
        "# expon_lr = tf.keras.callbacks.LearningRateScheduler(lambda epoch : 1e-5 * 2**(epoch / 1))  # Making this 2x every epoch to accelerate the curve\n",
        "\n",
        "# history = baseline_model.fit(X_train,\n",
        "#                     y_train,\n",
        "#                     batch_size=512,\n",
        "#                     epochs=20,\n",
        "#                     callbacks=[expon_lr],           # Make the learning rate grow after each epoch to find instability point (see when loss blows up)\n",
        "#                     validation_data=(X_val, y_val)\n",
        "#                    )\n",
        "\n",
        "# # Plot the loss and accuracy curves for training and validation\n",
        "# fig, ax = plt.subplots(2,1)\n",
        "# ax[0].plot(history.history['loss'], color='b', label=\"Training loss\")\n",
        "# ax[0].plot(history.history['val_loss'], color='r', label=\"validation loss\",axes =ax[0])\n",
        "# legend = ax[0].legend(loc='best', shadow=True)\n",
        "\n",
        "# ax[1].plot(history.history['accuracy'], color='b', label=\"Training accuracy\")\n",
        "# ax[1].plot(history.history['val_accuracy'], color='r',label=\"Validation accuracy\")\n",
        "# legend = ax[1].legend(loc='best', shadow=True)"
      ],
      "metadata": {
        "_uuid": "7b8602ab-21b3-483f-9ece-3382d9d78c08",
        "_cell_guid": "15952c25-21a1-44dd-abcf-799f420e7a8f",
        "trusted": true,
        "execution": {
          "iopub.status.busy": "2025-08-23T13:23:10.303025Z",
          "iopub.execute_input": "2025-08-23T13:23:10.303381Z",
          "iopub.status.idle": "2025-08-23T13:23:10.308419Z",
          "shell.execute_reply.started": "2025-08-23T13:23:10.303351Z",
          "shell.execute_reply": "2025-08-23T13:23:10.307329Z"
        },
        "jupyter": {
          "outputs_hidden": false
        },
        "id": "wPk1UxQKKqFa"
      },
      "outputs": [],
      "execution_count": 112
    },
    {
      "cell_type": "markdown",
      "source": [
        "## Training the NN\n",
        "\n",
        "I like the `ReduceLROnPlateau` callback because, rather than always slowly reducing the learning rate (which slows overall training), we can instead only reduce it if the validation loss goes for too long without improving.  This helps overall training be faster.  Let's try that, in conjunction with the EarlyStopping callback to stop the training when learning is no longer progressing, even with the smaller learning rates."
      ],
      "metadata": {
        "_uuid": "a56144f4-b1e0-4647-8c60-7b78963c8296",
        "_cell_guid": "380b8f29-dc53-498e-b3d4-54c4298a683f",
        "trusted": true,
        "collapsed": false,
        "jupyter": {
          "outputs_hidden": false
        },
        "id": "7k_a3zIwKqFa"
      }
    },
    {
      "cell_type": "code",
      "source": [
        "import tensorflow as tf\n",
        "import numpy as np\n",
        "\n",
        "BATCH_SIZE = 512    # In general, the larger the class imbalance, the larger you need these batch sizes to be\n",
        "                    # Otherwise, the chances decrease that a batch has examples from each class to learn from.\n",
        "                    # This is really more of a problem for like, fraudulent transactions or anomaly detection,\n",
        "                    # where the positive class might be like 0.01% of the time or something.\n",
        "                    # Still, good practice to make this bigger than we would've otherwise, and class imbalance isn't terrible here.\n",
        "\n",
        "early_stopping_patience = 9\n",
        "reduce_lr_on_plateau_patience = 5\n",
        "\n",
        "# Ensure that plateau patience is less than early stopping, or training will end before we can reduce learning rate!\n",
        "assert reduce_lr_on_plateau_patience < early_stopping_patience  # Break the code if my assumption isn't right!\n",
        "\n",
        "# Stop if learning hasn't happened in so many epochs\n",
        "early_stopping = tf.keras.callbacks.EarlyStopping(patience=early_stopping_patience, restore_best_weights=True)\n",
        "\n",
        "# But first, reduce the learning rate if learning hasn't happened in a shorter number of epochs\n",
        "# Halve the learning rate only if we go some epochs without improving\n",
        "reduce_lr_on_plateau = tf.keras.callbacks.ReduceLROnPlateau(factor=0.5, patience=reduce_lr_on_plateau_patience)\n",
        "\n",
        "# Fix the shape mismatch - reshape y_train and y_val to match model output\n",
        "y_train_reshaped = y_train.reshape(-1, 1)  # Convert from (n,) to (n, 1)\n",
        "y_val_reshaped = y_val.reshape(-1, 1)      # Convert from (n,) to (n, 1)\n",
        "\n",
        "history = baseline_model.fit(X_train,\n",
        "                    y_train_reshaped,  # Use reshaped labels\n",
        "                    batch_size=BATCH_SIZE,\n",
        "                    epochs=1000,                     # Early Stopping will happen much sooner, set high to always be stopped by early stopping\n",
        "                    callbacks=[early_stopping, reduce_lr_on_plateau],\n",
        "                    validation_data=(X_val, y_val_reshaped),  # Use reshaped validation labels\n",
        "                    verbose=1\n",
        "                   )"
      ],
      "metadata": {
        "_uuid": "4c135ac4-19b4-40b9-8847-1f2fbd59f39a",
        "_cell_guid": "b26af487-14fd-426b-8935-216833801594",
        "trusted": true,
        "execution": {
          "iopub.status.busy": "2025-08-23T13:23:10.31036Z",
          "iopub.execute_input": "2025-08-23T13:23:10.310781Z",
          "iopub.status.idle": "2025-08-23T13:24:17.61452Z",
          "shell.execute_reply.started": "2025-08-23T13:23:10.310742Z",
          "shell.execute_reply": "2025-08-23T13:24:17.61343Z"
        },
        "jupyter": {
          "outputs_hidden": false
        },
        "id": "44-DGEeoKqFe",
        "outputId": "015f1d9c-8b46-45dd-c6b6-d9d67cefe459",
        "colab": {
          "base_uri": "https://localhost:8080/"
        }
      },
      "outputs": [
        {
          "output_type": "stream",
          "name": "stdout",
          "text": [
            "Epoch 1/1000\n",
            "\u001b[1m47/47\u001b[0m \u001b[32m━━━━━━━━━━━━━━━━━━━━\u001b[0m\u001b[37m\u001b[0m \u001b[1m7s\u001b[0m 53ms/step - accuracy: 0.5984 - binary cross entropy: 0.9204 - fn: 1655.0625 - fp: 3184.6250 - loss: 0.9204 - precision: 0.6743 - recall: 0.7623 - tn: 1004.1042 - tp: 6686.8335 - val_accuracy: 0.6730 - val_binary cross entropy: 0.6144 - val_fn: 36.0000 - val_fp: 945.0000 - val_loss: 0.6144 - val_precision: 0.6747 - val_recall: 0.9820 - val_tn: 59.0000 - val_tp: 1960.0000 - learning_rate: 0.0050\n",
            "Epoch 2/1000\n",
            "\u001b[1m47/47\u001b[0m \u001b[32m━━━━━━━━━━━━━━━━━━━━\u001b[0m\u001b[37m\u001b[0m \u001b[1m2s\u001b[0m 47ms/step - accuracy: 0.6453 - binary cross entropy: 0.6485 - fn: 963.0000 - fp: 3464.0208 - loss: 0.6485 - precision: 0.6803 - recall: 0.8790 - tn: 732.0000 - tp: 7371.6040 - val_accuracy: 0.6683 - val_binary cross entropy: 0.6108 - val_fn: 48.0000 - val_fp: 947.0000 - val_loss: 0.6108 - val_precision: 0.6729 - val_recall: 0.9760 - val_tn: 57.0000 - val_tp: 1948.0000 - learning_rate: 0.0050\n",
            "Epoch 3/1000\n",
            "\u001b[1m47/47\u001b[0m \u001b[32m━━━━━━━━━━━━━━━━━━━━\u001b[0m\u001b[37m\u001b[0m \u001b[1m3s\u001b[0m 53ms/step - accuracy: 0.6599 - binary cross entropy: 0.6297 - fn: 708.7917 - fp: 3538.2917 - loss: 0.6297 - precision: 0.6838 - recall: 0.9097 - tn: 647.6875 - tp: 7635.8540 - val_accuracy: 0.6717 - val_binary cross entropy: 0.6096 - val_fn: 17.0000 - val_fp: 968.0000 - val_loss: 0.6096 - val_precision: 0.6715 - val_recall: 0.9915 - val_tn: 36.0000 - val_tp: 1979.0000 - learning_rate: 0.0050\n",
            "Epoch 4/1000\n",
            "\u001b[1m47/47\u001b[0m \u001b[32m━━━━━━━━━━━━━━━━━━━━\u001b[0m\u001b[37m\u001b[0m \u001b[1m2s\u001b[0m 37ms/step - accuracy: 0.6660 - binary cross entropy: 0.6184 - fn: 566.3750 - fp: 3628.1667 - loss: 0.6184 - precision: 0.6836 - recall: 0.9320 - tn: 549.6667 - tp: 7786.4165 - val_accuracy: 0.6743 - val_binary cross entropy: 0.6078 - val_fn: 5.0000 - val_fp: 972.0000 - val_loss: 0.6078 - val_precision: 0.6720 - val_recall: 0.9975 - val_tn: 32.0000 - val_tp: 1991.0000 - learning_rate: 0.0050\n",
            "Epoch 5/1000\n",
            "\u001b[1m47/47\u001b[0m \u001b[32m━━━━━━━━━━━━━━━━━━━━\u001b[0m\u001b[37m\u001b[0m \u001b[1m3s\u001b[0m 37ms/step - accuracy: 0.6616 - binary cross entropy: 0.6235 - fn: 444.6250 - fp: 3772.4375 - loss: 0.6235 - precision: 0.6729 - recall: 0.9479 - tn: 457.9375 - tp: 7855.6250 - val_accuracy: 0.6720 - val_binary cross entropy: 0.6058 - val_fn: 17.0000 - val_fp: 967.0000 - val_loss: 0.6058 - val_precision: 0.6718 - val_recall: 0.9915 - val_tn: 37.0000 - val_tp: 1979.0000 - learning_rate: 0.0050\n",
            "Epoch 6/1000\n",
            "\u001b[1m47/47\u001b[0m \u001b[32m━━━━━━━━━━━━━━━━━━━━\u001b[0m\u001b[37m\u001b[0m \u001b[1m2s\u001b[0m 37ms/step - accuracy: 0.6709 - binary cross entropy: 0.6117 - fn: 364.9583 - fp: 3730.5833 - loss: 0.6117 - precision: 0.6791 - recall: 0.9581 - tn: 441.7708 - tp: 7993.3125 - val_accuracy: 0.6737 - val_binary cross entropy: 0.6029 - val_fn: 60.0000 - val_fp: 919.0000 - val_loss: 0.6029 - val_precision: 0.6781 - val_recall: 0.9699 - val_tn: 85.0000 - val_tp: 1936.0000 - learning_rate: 0.0050\n",
            "Epoch 7/1000\n",
            "\u001b[1m47/47\u001b[0m \u001b[32m━━━━━━━━━━━━━━━━━━━━\u001b[0m\u001b[37m\u001b[0m \u001b[1m2s\u001b[0m 38ms/step - accuracy: 0.6745 - binary cross entropy: 0.6078 - fn: 392.2292 - fp: 3682.4375 - loss: 0.6078 - precision: 0.6838 - recall: 0.9519 - tn: 498.4375 - tp: 7957.5210 - val_accuracy: 0.6753 - val_binary cross entropy: 0.6013 - val_fn: 31.0000 - val_fp: 943.0000 - val_loss: 0.6013 - val_precision: 0.6757 - val_recall: 0.9845 - val_tn: 61.0000 - val_tp: 1965.0000 - learning_rate: 0.0050\n",
            "Epoch 8/1000\n",
            "\u001b[1m47/47\u001b[0m \u001b[32m━━━━━━━━━━━━━━━━━━━━\u001b[0m\u001b[37m\u001b[0m \u001b[1m2s\u001b[0m 48ms/step - accuracy: 0.6743 - binary cross entropy: 0.6083 - fn: 316.7708 - fp: 3756.7083 - loss: 0.6083 - precision: 0.6802 - recall: 0.9623 - tn: 431.1250 - tp: 8026.0210 - val_accuracy: 0.6767 - val_binary cross entropy: 0.6007 - val_fn: 42.0000 - val_fp: 928.0000 - val_loss: 0.6007 - val_precision: 0.6780 - val_recall: 0.9790 - val_tn: 76.0000 - val_tp: 1954.0000 - learning_rate: 0.0050\n",
            "Epoch 9/1000\n",
            "\u001b[1m47/47\u001b[0m \u001b[32m━━━━━━━━━━━━━━━━━━━━\u001b[0m\u001b[37m\u001b[0m \u001b[1m2s\u001b[0m 47ms/step - accuracy: 0.6782 - binary cross entropy: 0.6110 - fn: 261.6250 - fp: 3773.1667 - loss: 0.6110 - precision: 0.6815 - recall: 0.9694 - tn: 413.2708 - tp: 8082.5625 - val_accuracy: 0.6803 - val_binary cross entropy: 0.5980 - val_fn: 39.0000 - val_fp: 920.0000 - val_loss: 0.5980 - val_precision: 0.6802 - val_recall: 0.9805 - val_tn: 84.0000 - val_tp: 1957.0000 - learning_rate: 0.0050\n",
            "Epoch 10/1000\n",
            "\u001b[1m47/47\u001b[0m \u001b[32m━━━━━━━━━━━━━━━━━━━━\u001b[0m\u001b[37m\u001b[0m \u001b[1m2s\u001b[0m 39ms/step - accuracy: 0.6747 - binary cross entropy: 0.6055 - fn: 333.3750 - fp: 3727.6667 - loss: 0.6055 - precision: 0.6813 - recall: 0.9599 - tn: 454.6875 - tp: 8014.8960 - val_accuracy: 0.6767 - val_binary cross entropy: 0.5992 - val_fn: 22.0000 - val_fp: 948.0000 - val_loss: 0.5992 - val_precision: 0.6756 - val_recall: 0.9890 - val_tn: 56.0000 - val_tp: 1974.0000 - learning_rate: 0.0050\n",
            "Epoch 11/1000\n",
            "\u001b[1m47/47\u001b[0m \u001b[32m━━━━━━━━━━━━━━━━━━━━\u001b[0m\u001b[37m\u001b[0m \u001b[1m3s\u001b[0m 38ms/step - accuracy: 0.6824 - binary cross entropy: 0.5975 - fn: 282.0000 - fp: 3725.3125 - loss: 0.5975 - precision: 0.6863 - recall: 0.9693 - tn: 420.6875 - tp: 8102.6250 - val_accuracy: 0.6787 - val_binary cross entropy: 0.5999 - val_fn: 54.0000 - val_fp: 910.0000 - val_loss: 0.5999 - val_precision: 0.6809 - val_recall: 0.9729 - val_tn: 94.0000 - val_tp: 1942.0000 - learning_rate: 0.0050\n",
            "Epoch 12/1000\n",
            "\u001b[1m47/47\u001b[0m \u001b[32m━━━━━━━━━━━━━━━━━━━━\u001b[0m\u001b[37m\u001b[0m \u001b[1m2s\u001b[0m 38ms/step - accuracy: 0.6738 - binary cross entropy: 0.6029 - fn: 367.6458 - fp: 3709.4792 - loss: 0.6029 - precision: 0.6817 - recall: 0.9540 - tn: 489.4167 - tp: 7964.0835 - val_accuracy: 0.6820 - val_binary cross entropy: 0.6008 - val_fn: 24.0000 - val_fp: 930.0000 - val_loss: 0.6008 - val_precision: 0.6795 - val_recall: 0.9880 - val_tn: 74.0000 - val_tp: 1972.0000 - learning_rate: 0.0050\n",
            "Epoch 13/1000\n",
            "\u001b[1m47/47\u001b[0m \u001b[32m━━━━━━━━━━━━━━━━━━━━\u001b[0m\u001b[37m\u001b[0m \u001b[1m3s\u001b[0m 38ms/step - accuracy: 0.6840 - binary cross entropy: 0.5991 - fn: 296.9375 - fp: 3684.7917 - loss: 0.5991 - precision: 0.6869 - recall: 0.9676 - tn: 491.0000 - tp: 8057.8960 - val_accuracy: 0.6780 - val_binary cross entropy: 0.5955 - val_fn: 47.0000 - val_fp: 919.0000 - val_loss: 0.5955 - val_precision: 0.6796 - val_recall: 0.9765 - val_tn: 85.0000 - val_tp: 1949.0000 - learning_rate: 0.0050\n",
            "Epoch 14/1000\n",
            "\u001b[1m47/47\u001b[0m \u001b[32m━━━━━━━━━━━━━━━━━━━━\u001b[0m\u001b[37m\u001b[0m \u001b[1m3s\u001b[0m 63ms/step - accuracy: 0.6764 - binary cross entropy: 0.6010 - fn: 323.3542 - fp: 3724.7917 - loss: 0.6010 - precision: 0.6826 - recall: 0.9609 - tn: 467.0833 - tp: 8015.3960 - val_accuracy: 0.6800 - val_binary cross entropy: 0.5987 - val_fn: 26.0000 - val_fp: 934.0000 - val_loss: 0.5987 - val_precision: 0.6784 - val_recall: 0.9870 - val_tn: 70.0000 - val_tp: 1970.0000 - learning_rate: 0.0050\n",
            "Epoch 15/1000\n",
            "\u001b[1m47/47\u001b[0m \u001b[32m━━━━━━━━━━━━━━━━━━━━\u001b[0m\u001b[37m\u001b[0m \u001b[1m2s\u001b[0m 38ms/step - accuracy: 0.6745 - binary cross entropy: 0.6013 - fn: 365.9583 - fp: 3681.8750 - loss: 0.6013 - precision: 0.6807 - recall: 0.9577 - tn: 536.8958 - tp: 7945.8960 - val_accuracy: 0.6847 - val_binary cross entropy: 0.5958 - val_fn: 31.0000 - val_fp: 915.0000 - val_loss: 0.5958 - val_precision: 0.6823 - val_recall: 0.9845 - val_tn: 89.0000 - val_tp: 1965.0000 - learning_rate: 0.0050\n",
            "Epoch 16/1000\n",
            "\u001b[1m47/47\u001b[0m \u001b[32m━━━━━━━━━━━━━━━━━━━━\u001b[0m\u001b[37m\u001b[0m \u001b[1m3s\u001b[0m 38ms/step - accuracy: 0.6780 - binary cross entropy: 0.6024 - fn: 316.3125 - fp: 3700.0208 - loss: 0.6024 - precision: 0.6823 - recall: 0.9617 - tn: 510.4375 - tp: 8003.8540 - val_accuracy: 0.6847 - val_binary cross entropy: 0.5943 - val_fn: 39.0000 - val_fp: 907.0000 - val_loss: 0.5943 - val_precision: 0.6833 - val_recall: 0.9805 - val_tn: 97.0000 - val_tp: 1957.0000 - learning_rate: 0.0050\n",
            "Epoch 17/1000\n",
            "\u001b[1m47/47\u001b[0m \u001b[32m━━━━━━━━━━━━━━━━━━━━\u001b[0m\u001b[37m\u001b[0m \u001b[1m2s\u001b[0m 38ms/step - accuracy: 0.6831 - binary cross entropy: 0.5972 - fn: 347.0000 - fp: 3655.0625 - loss: 0.5972 - precision: 0.6891 - recall: 0.9592 - tn: 509.0417 - tp: 8019.5210 - val_accuracy: 0.6823 - val_binary cross entropy: 0.5954 - val_fn: 33.0000 - val_fp: 920.0000 - val_loss: 0.5954 - val_precision: 0.6809 - val_recall: 0.9835 - val_tn: 84.0000 - val_tp: 1963.0000 - learning_rate: 0.0050\n",
            "Epoch 18/1000\n",
            "\u001b[1m47/47\u001b[0m \u001b[32m━━━━━━━━━━━━━━━━━━━━\u001b[0m\u001b[37m\u001b[0m \u001b[1m3s\u001b[0m 39ms/step - accuracy: 0.6823 - binary cross entropy: 0.5962 - fn: 390.6667 - fp: 3599.3958 - loss: 0.5962 - precision: 0.6894 - recall: 0.9529 - tn: 567.0625 - tp: 7973.5000 - val_accuracy: 0.6793 - val_binary cross entropy: 0.5968 - val_fn: 85.0000 - val_fp: 877.0000 - val_loss: 0.5968 - val_precision: 0.6854 - val_recall: 0.9574 - val_tn: 127.0000 - val_tp: 1911.0000 - learning_rate: 0.0050\n",
            "Epoch 19/1000\n",
            "\u001b[1m47/47\u001b[0m \u001b[32m━━━━━━━━━━━━━━━━━━━━\u001b[0m\u001b[37m\u001b[0m \u001b[1m2s\u001b[0m 50ms/step - accuracy: 0.6762 - binary cross entropy: 0.6066 - fn: 394.2292 - fp: 3619.1250 - loss: 0.6066 - precision: 0.6826 - recall: 0.9513 - tn: 597.3333 - tp: 7919.9375 - val_accuracy: 0.6793 - val_binary cross entropy: 0.5958 - val_fn: 66.0000 - val_fp: 896.0000 - val_loss: 0.5958 - val_precision: 0.6829 - val_recall: 0.9669 - val_tn: 108.0000 - val_tp: 1930.0000 - learning_rate: 0.0050\n",
            "Epoch 20/1000\n",
            "\u001b[1m47/47\u001b[0m \u001b[32m━━━━━━━━━━━━━━━━━━━━\u001b[0m\u001b[37m\u001b[0m \u001b[1m2s\u001b[0m 50ms/step - accuracy: 0.6799 - binary cross entropy: 0.5961 - fn: 396.0417 - fp: 3605.0000 - loss: 0.5961 - precision: 0.6875 - recall: 0.9512 - tn: 573.6875 - tp: 7955.8960 - val_accuracy: 0.6830 - val_binary cross entropy: 0.5942 - val_fn: 33.0000 - val_fp: 918.0000 - val_loss: 0.5942 - val_precision: 0.6814 - val_recall: 0.9835 - val_tn: 86.0000 - val_tp: 1963.0000 - learning_rate: 0.0050\n",
            "Epoch 21/1000\n",
            "\u001b[1m47/47\u001b[0m \u001b[32m━━━━━━━━━━━━━━━━━━━━\u001b[0m\u001b[37m\u001b[0m \u001b[1m2s\u001b[0m 38ms/step - accuracy: 0.6817 - binary cross entropy: 0.5956 - fn: 389.6458 - fp: 3605.3333 - loss: 0.5956 - precision: 0.6887 - recall: 0.9543 - tn: 568.3958 - tp: 7967.2500 - val_accuracy: 0.6843 - val_binary cross entropy: 0.5951 - val_fn: 61.0000 - val_fp: 886.0000 - val_loss: 0.5951 - val_precision: 0.6859 - val_recall: 0.9694 - val_tn: 118.0000 - val_tp: 1935.0000 - learning_rate: 0.0050\n",
            "Epoch 22/1000\n",
            "\u001b[1m47/47\u001b[0m \u001b[32m━━━━━━━━━━━━━━━━━━━━\u001b[0m\u001b[37m\u001b[0m \u001b[1m2s\u001b[0m 38ms/step - accuracy: 0.6838 - binary cross entropy: 0.5960 - fn: 402.6042 - fp: 3572.2917 - loss: 0.5960 - precision: 0.6909 - recall: 0.9514 - tn: 614.6458 - tp: 7941.0835 - val_accuracy: 0.6823 - val_binary cross entropy: 0.5990 - val_fn: 19.0000 - val_fp: 934.0000 - val_loss: 0.5990 - val_precision: 0.6791 - val_recall: 0.9905 - val_tn: 70.0000 - val_tp: 1977.0000 - learning_rate: 0.0050\n",
            "Epoch 23/1000\n",
            "\u001b[1m47/47\u001b[0m \u001b[32m━━━━━━━━━━━━━━━━━━━━\u001b[0m\u001b[37m\u001b[0m \u001b[1m2s\u001b[0m 39ms/step - accuracy: 0.6842 - binary cross entropy: 0.5970 - fn: 375.6458 - fp: 3591.6667 - loss: 0.5970 - precision: 0.6896 - recall: 0.9577 - tn: 573.6250 - tp: 7989.6875 - val_accuracy: 0.6833 - val_binary cross entropy: 0.5951 - val_fn: 60.0000 - val_fp: 890.0000 - val_loss: 0.5951 - val_precision: 0.6851 - val_recall: 0.9699 - val_tn: 114.0000 - val_tp: 1936.0000 - learning_rate: 0.0050\n",
            "Epoch 24/1000\n",
            "\u001b[1m47/47\u001b[0m \u001b[32m━━━━━━━━━━━━━━━━━━━━\u001b[0m\u001b[37m\u001b[0m \u001b[1m2s\u001b[0m 38ms/step - accuracy: 0.6820 - binary cross entropy: 0.5946 - fn: 444.8542 - fp: 3557.2917 - loss: 0.5946 - precision: 0.6907 - recall: 0.9450 - tn: 635.5833 - tp: 7892.8960 - val_accuracy: 0.6797 - val_binary cross entropy: 0.5955 - val_fn: 59.0000 - val_fp: 902.0000 - val_loss: 0.5955 - val_precision: 0.6823 - val_recall: 0.9704 - val_tn: 102.0000 - val_tp: 1937.0000 - learning_rate: 0.0050\n",
            "Epoch 25/1000\n",
            "\u001b[1m47/47\u001b[0m \u001b[32m━━━━━━━━━━━━━━━━━━━━\u001b[0m\u001b[37m\u001b[0m \u001b[1m2s\u001b[0m 44ms/step - accuracy: 0.6846 - binary cross entropy: 0.5915 - fn: 437.2708 - fp: 3546.8333 - loss: 0.5915 - precision: 0.6937 - recall: 0.9493 - tn: 618.7708 - tp: 7927.7500 - val_accuracy: 0.6803 - val_binary cross entropy: 0.5981 - val_fn: 23.0000 - val_fp: 936.0000 - val_loss: 0.5981 - val_precision: 0.6782 - val_recall: 0.9885 - val_tn: 68.0000 - val_tp: 1973.0000 - learning_rate: 0.0050\n",
            "Epoch 26/1000\n",
            "\u001b[1m47/47\u001b[0m \u001b[32m━━━━━━━━━━━━━━━━━━━━\u001b[0m\u001b[37m\u001b[0m \u001b[1m3s\u001b[0m 49ms/step - accuracy: 0.6848 - binary cross entropy: 0.5942 - fn: 316.9583 - fp: 3627.2917 - loss: 0.5942 - precision: 0.6882 - recall: 0.9657 - tn: 530.5000 - tp: 8055.8750 - val_accuracy: 0.6830 - val_binary cross entropy: 0.5949 - val_fn: 57.0000 - val_fp: 894.0000 - val_loss: 0.5949 - val_precision: 0.6844 - val_recall: 0.9714 - val_tn: 110.0000 - val_tp: 1939.0000 - learning_rate: 0.0025\n",
            "Epoch 27/1000\n",
            "\u001b[1m47/47\u001b[0m \u001b[32m━━━━━━━━━━━━━━━━━━━━\u001b[0m\u001b[37m\u001b[0m \u001b[1m2s\u001b[0m 38ms/step - accuracy: 0.6846 - binary cross entropy: 0.5910 - fn: 412.2500 - fp: 3543.3125 - loss: 0.5910 - precision: 0.6923 - recall: 0.9472 - tn: 636.8125 - tp: 7938.2500 - val_accuracy: 0.6803 - val_binary cross entropy: 0.5949 - val_fn: 80.0000 - val_fp: 879.0000 - val_loss: 0.5949 - val_precision: 0.6855 - val_recall: 0.9599 - val_tn: 125.0000 - val_tp: 1916.0000 - learning_rate: 0.0025\n",
            "Epoch 28/1000\n",
            "\u001b[1m47/47\u001b[0m \u001b[32m━━━━━━━━━━━━━━━━━━━━\u001b[0m\u001b[37m\u001b[0m \u001b[1m2s\u001b[0m 38ms/step - accuracy: 0.6852 - binary cross entropy: 0.5903 - fn: 439.7292 - fp: 3497.3958 - loss: 0.5903 - precision: 0.6934 - recall: 0.9444 - tn: 697.6667 - tp: 7895.8335 - val_accuracy: 0.6830 - val_binary cross entropy: 0.5932 - val_fn: 62.0000 - val_fp: 889.0000 - val_loss: 0.5932 - val_precision: 0.6851 - val_recall: 0.9689 - val_tn: 115.0000 - val_tp: 1934.0000 - learning_rate: 0.0025\n",
            "Epoch 29/1000\n",
            "\u001b[1m47/47\u001b[0m \u001b[32m━━━━━━━━━━━━━━━━━━━━\u001b[0m\u001b[37m\u001b[0m \u001b[1m3s\u001b[0m 38ms/step - accuracy: 0.6837 - binary cross entropy: 0.5911 - fn: 395.1667 - fp: 3565.9792 - loss: 0.5911 - precision: 0.6902 - recall: 0.9529 - tn: 619.9167 - tp: 7949.5625 - val_accuracy: 0.6873 - val_binary cross entropy: 0.5931 - val_fn: 52.0000 - val_fp: 886.0000 - val_loss: 0.5931 - val_precision: 0.6869 - val_recall: 0.9739 - val_tn: 118.0000 - val_tp: 1944.0000 - learning_rate: 0.0025\n",
            "Epoch 30/1000\n",
            "\u001b[1m47/47\u001b[0m \u001b[32m━━━━━━━━━━━━━━━━━━━━\u001b[0m\u001b[37m\u001b[0m \u001b[1m2s\u001b[0m 38ms/step - accuracy: 0.6868 - binary cross entropy: 0.5873 - fn: 439.6458 - fp: 3499.1667 - loss: 0.5873 - precision: 0.6934 - recall: 0.9476 - tn: 705.1042 - tp: 7886.7085 - val_accuracy: 0.6840 - val_binary cross entropy: 0.5923 - val_fn: 53.0000 - val_fp: 895.0000 - val_loss: 0.5923 - val_precision: 0.6846 - val_recall: 0.9734 - val_tn: 109.0000 - val_tp: 1943.0000 - learning_rate: 0.0025\n",
            "Epoch 31/1000\n",
            "\u001b[1m47/47\u001b[0m \u001b[32m━━━━━━━━━━━━━━━━━━━━\u001b[0m\u001b[37m\u001b[0m \u001b[1m2s\u001b[0m 52ms/step - accuracy: 0.6875 - binary cross entropy: 0.5874 - fn: 416.1458 - fp: 3525.1875 - loss: 0.5874 - precision: 0.6930 - recall: 0.9503 - tn: 685.5208 - tp: 7903.7710 - val_accuracy: 0.6853 - val_binary cross entropy: 0.5928 - val_fn: 53.0000 - val_fp: 891.0000 - val_loss: 0.5928 - val_precision: 0.6856 - val_recall: 0.9734 - val_tn: 113.0000 - val_tp: 1943.0000 - learning_rate: 0.0025\n",
            "Epoch 32/1000\n",
            "\u001b[1m47/47\u001b[0m \u001b[32m━━━━━━━━━━━━━━━━━━━━\u001b[0m\u001b[37m\u001b[0m \u001b[1m2s\u001b[0m 48ms/step - accuracy: 0.6865 - binary cross entropy: 0.5878 - fn: 355.8125 - fp: 3568.1667 - loss: 0.5878 - precision: 0.6911 - recall: 0.9578 - tn: 604.8958 - tp: 8001.7500 - val_accuracy: 0.6853 - val_binary cross entropy: 0.5906 - val_fn: 77.0000 - val_fp: 867.0000 - val_loss: 0.5906 - val_precision: 0.6888 - val_recall: 0.9614 - val_tn: 137.0000 - val_tp: 1919.0000 - learning_rate: 0.0025\n",
            "Epoch 33/1000\n",
            "\u001b[1m47/47\u001b[0m \u001b[32m━━━━━━━━━━━━━━━━━━━━\u001b[0m\u001b[37m\u001b[0m \u001b[1m2s\u001b[0m 38ms/step - accuracy: 0.6874 - binary cross entropy: 0.5864 - fn: 436.9583 - fp: 3469.6250 - loss: 0.5864 - precision: 0.6952 - recall: 0.9451 - tn: 705.1042 - tp: 7918.9375 - val_accuracy: 0.6850 - val_binary cross entropy: 0.5954 - val_fn: 42.0000 - val_fp: 903.0000 - val_loss: 0.5954 - val_precision: 0.6839 - val_recall: 0.9790 - val_tn: 101.0000 - val_tp: 1954.0000 - learning_rate: 0.0025\n",
            "Epoch 34/1000\n",
            "\u001b[1m47/47\u001b[0m \u001b[32m━━━━━━━━━━━━━━━━━━━━\u001b[0m\u001b[37m\u001b[0m \u001b[1m2s\u001b[0m 38ms/step - accuracy: 0.6887 - binary cross entropy: 0.5895 - fn: 443.0000 - fp: 3478.3958 - loss: 0.5895 - precision: 0.6956 - recall: 0.9466 - tn: 716.2500 - tp: 7892.9790 - val_accuracy: 0.6843 - val_binary cross entropy: 0.5915 - val_fn: 34.0000 - val_fp: 913.0000 - val_loss: 0.5915 - val_precision: 0.6824 - val_recall: 0.9830 - val_tn: 91.0000 - val_tp: 1962.0000 - learning_rate: 0.0025\n",
            "Epoch 35/1000\n",
            "\u001b[1m47/47\u001b[0m \u001b[32m━━━━━━━━━━━━━━━━━━━━\u001b[0m\u001b[37m\u001b[0m \u001b[1m3s\u001b[0m 38ms/step - accuracy: 0.6866 - binary cross entropy: 0.5893 - fn: 399.4792 - fp: 3527.2083 - loss: 0.5893 - precision: 0.6924 - recall: 0.9528 - tn: 660.5417 - tp: 7943.3960 - val_accuracy: 0.6837 - val_binary cross entropy: 0.5930 - val_fn: 56.0000 - val_fp: 893.0000 - val_loss: 0.5930 - val_precision: 0.6848 - val_recall: 0.9719 - val_tn: 111.0000 - val_tp: 1940.0000 - learning_rate: 0.0025\n",
            "Epoch 36/1000\n",
            "\u001b[1m47/47\u001b[0m \u001b[32m━━━━━━━━━━━━━━━━━━━━\u001b[0m\u001b[37m\u001b[0m \u001b[1m2s\u001b[0m 38ms/step - accuracy: 0.6842 - binary cross entropy: 0.5870 - fn: 426.6250 - fp: 3524.1042 - loss: 0.5870 - precision: 0.6908 - recall: 0.9505 - tn: 670.8958 - tp: 7909.0000 - val_accuracy: 0.6847 - val_binary cross entropy: 0.5945 - val_fn: 52.0000 - val_fp: 894.0000 - val_loss: 0.5945 - val_precision: 0.6850 - val_recall: 0.9739 - val_tn: 110.0000 - val_tp: 1944.0000 - learning_rate: 0.0025\n",
            "Epoch 37/1000\n",
            "\u001b[1m47/47\u001b[0m \u001b[32m━━━━━━━━━━━━━━━━━━━━\u001b[0m\u001b[37m\u001b[0m \u001b[1m3s\u001b[0m 53ms/step - accuracy: 0.6880 - binary cross entropy: 0.5894 - fn: 397.0417 - fp: 3513.3125 - loss: 0.5894 - precision: 0.6929 - recall: 0.9548 - tn: 660.8333 - tp: 7959.4375 - val_accuracy: 0.6813 - val_binary cross entropy: 0.5965 - val_fn: 18.0000 - val_fp: 938.0000 - val_loss: 0.5965 - val_precision: 0.6783 - val_recall: 0.9910 - val_tn: 66.0000 - val_tp: 1978.0000 - learning_rate: 0.0025\n",
            "Epoch 38/1000\n",
            "\u001b[1m47/47\u001b[0m \u001b[32m━━━━━━━━━━━━━━━━━━━━\u001b[0m\u001b[37m\u001b[0m \u001b[1m4s\u001b[0m 39ms/step - accuracy: 0.6926 - binary cross entropy: 0.5816 - fn: 385.0000 - fp: 3468.6667 - loss: 0.5816 - precision: 0.6952 - recall: 0.9589 - tn: 703.7917 - tp: 7973.1665 - val_accuracy: 0.6860 - val_binary cross entropy: 0.5923 - val_fn: 73.0000 - val_fp: 869.0000 - val_loss: 0.5923 - val_precision: 0.6888 - val_recall: 0.9634 - val_tn: 135.0000 - val_tp: 1923.0000 - learning_rate: 0.0012\n",
            "Epoch 39/1000\n",
            "\u001b[1m47/47\u001b[0m \u001b[32m━━━━━━━━━━━━━━━━━━━━\u001b[0m\u001b[37m\u001b[0m \u001b[1m2s\u001b[0m 38ms/step - accuracy: 0.6914 - binary cross entropy: 0.5847 - fn: 408.2708 - fp: 3473.2083 - loss: 0.5847 - precision: 0.6966 - recall: 0.9516 - tn: 711.8542 - tp: 7937.2915 - val_accuracy: 0.6853 - val_binary cross entropy: 0.5930 - val_fn: 58.0000 - val_fp: 886.0000 - val_loss: 0.5930 - val_precision: 0.6863 - val_recall: 0.9709 - val_tn: 118.0000 - val_tp: 1938.0000 - learning_rate: 0.0012\n",
            "Epoch 40/1000\n",
            "\u001b[1m47/47\u001b[0m \u001b[32m━━━━━━━━━━━━━━━━━━━━\u001b[0m\u001b[37m\u001b[0m \u001b[1m3s\u001b[0m 38ms/step - accuracy: 0.6979 - binary cross entropy: 0.5780 - fn: 379.7708 - fp: 3435.6458 - loss: 0.5780 - precision: 0.7030 - recall: 0.9562 - tn: 683.5417 - tp: 8031.6665 - val_accuracy: 0.6860 - val_binary cross entropy: 0.5922 - val_fn: 73.0000 - val_fp: 869.0000 - val_loss: 0.5922 - val_precision: 0.6888 - val_recall: 0.9634 - val_tn: 135.0000 - val_tp: 1923.0000 - learning_rate: 0.0012\n",
            "Epoch 41/1000\n",
            "\u001b[1m47/47\u001b[0m \u001b[32m━━━━━━━━━━━━━━━━━━━━\u001b[0m\u001b[37m\u001b[0m \u001b[1m2s\u001b[0m 50ms/step - accuracy: 0.6904 - binary cross entropy: 0.5830 - fn: 398.9375 - fp: 3485.1875 - loss: 0.5830 - precision: 0.6964 - recall: 0.9508 - tn: 683.9167 - tp: 7962.5835 - val_accuracy: 0.6857 - val_binary cross entropy: 0.5909 - val_fn: 44.0000 - val_fp: 899.0000 - val_loss: 0.5909 - val_precision: 0.6847 - val_recall: 0.9780 - val_tn: 105.0000 - val_tp: 1952.0000 - learning_rate: 0.0012\n"
          ]
        }
      ],
      "execution_count": 113
    },
    {
      "cell_type": "markdown",
      "source": [
        "We've used `restore_best_weights`, so we need to look at the line with the lowest validation loss.  (NOTE: these exact numbers below might be a little different than above due to some non-determinism)"
      ],
      "metadata": {
        "_uuid": "75b660d2-4d7e-499d-9296-741ed1b16d23",
        "_cell_guid": "0fbec8f0-67c8-42a7-9417-f54c8f3c6934",
        "trusted": true,
        "collapsed": false,
        "jupyter": {
          "outputs_hidden": false
        },
        "id": "cqYexXPUKqFe"
      }
    },
    {
      "cell_type": "markdown",
      "source": [
        "## Learning Curves"
      ],
      "metadata": {
        "_uuid": "eb06f7a4-190f-4cc5-9b1e-0111c1b47269",
        "_cell_guid": "84e56d18-2927-4be6-82d4-9ff29b49f3e6",
        "trusted": true,
        "collapsed": false,
        "jupyter": {
          "outputs_hidden": false
        },
        "id": "s2oixBrLKqFe"
      }
    },
    {
      "cell_type": "code",
      "source": [
        "import matplotlib.pyplot as plt\n",
        "\n",
        "# Plot the loss and accuracy curves for training and validation\n",
        "fig, ax = plt.subplots(2, 1, figsize=(10, 8))\n",
        "\n",
        "# Plot loss\n",
        "ax[0].plot(history.history['loss'], color='b', label=\"Training loss\")\n",
        "ax[0].plot(history.history['val_loss'], color='r', label=\"Validation loss\")  # Removed axes parameter\n",
        "ax[0].set_title('Model Loss')\n",
        "ax[0].set_ylabel('Loss')\n",
        "ax[0].set_xlabel('Epoch')\n",
        "legend = ax[0].legend(loc='best', shadow=True)\n",
        "\n",
        "# Plot accuracy\n",
        "ax[1].plot(history.history['accuracy'], color='b', label=\"Training accuracy\")\n",
        "ax[1].plot(history.history['val_accuracy'], color='r', label=\"Validation accuracy\")\n",
        "ax[1].set_title('Model Accuracy')\n",
        "ax[1].set_ylabel('Accuracy')\n",
        "ax[1].set_xlabel('Epoch')\n",
        "legend = ax[1].legend(loc='best', shadow=True)\n",
        "\n",
        "plt.tight_layout()  # Prevents overlapping of subplots\n",
        "plt.show()"
      ],
      "metadata": {
        "_uuid": "055b49fe-7859-48f6-83ea-e8c0c12c4e1d",
        "_cell_guid": "e38bf3b8-8224-4e93-94e4-c4fa7e04bba4",
        "trusted": true,
        "execution": {
          "iopub.status.busy": "2025-08-23T13:24:17.615989Z",
          "iopub.execute_input": "2025-08-23T13:24:17.616338Z",
          "iopub.status.idle": "2025-08-23T13:24:18.03655Z",
          "shell.execute_reply.started": "2025-08-23T13:24:17.616311Z",
          "shell.execute_reply": "2025-08-23T13:24:18.03536Z"
        },
        "jupyter": {
          "outputs_hidden": false
        },
        "id": "NV7DSZw_KqFe",
        "outputId": "aa4a129a-5968-426b-f0e2-6f005ced3cd6",
        "colab": {
          "base_uri": "https://localhost:8080/",
          "height": 807
        }
      },
      "outputs": [
        {
          "output_type": "display_data",
          "data": {
            "text/plain": [
              "<Figure size 1000x800 with 2 Axes>"
            ],
            "image/png": "[encoded data removed]"
          },
          "metadata": {}
        }
      ],
      "execution_count": 114
    },
    {
      "cell_type": "markdown",
      "source": [
        "Here we can see that with our imbalanced class, the model wants to converge such that the positive class accuracy follows the representation of that class in the data, or here we have a 2:1 positive-to-negative class ratio, or 2/3, and the model wants to follow close to that accuracy, which explains why this model is not learning well.  For example, the accuracy is about 0.68 which is similar to 66.6%.\n",
        "\n",
        "In this case, we have a Precision of 0.692, meaning 69.2% of apps we flag as malware is actually malware.  We have a Recall of 0.941, meaning that we correctly catch 94.1% of all actual malware.  However, we're still flagging 836 apps in our validation set as malware that are not (out of 3000 apps), meaning about 27% of apps are falsely flagged as malware, which is pretty bad.\n",
        "\n",
        "What can we do about it?"
      ],
      "metadata": {
        "_uuid": "05990290-f7ac-4056-bbd2-c26fa743d872",
        "_cell_guid": "238b8456-f215-4fd2-9003-ec2e03334da2",
        "trusted": true,
        "collapsed": false,
        "jupyter": {
          "outputs_hidden": false
        },
        "id": "lec6wM6MKqFe"
      }
    },
    {
      "cell_type": "markdown",
      "source": [
        "## `class_weight` Argument\n",
        "Actually, now Keras can directly handle imbalanced classes by using a class_weight argument.  We calculate these weights below, and they cause the model to \"pay more attention\" to examples from underrepresented classes by giving them larger weights.  This does not give our model any additional information or data, it's more equivalent to changing the decision threshold.  It works under the hood by giving a larger penalty to the loss for misclassified examples in the minority class, to try to compensate.  It makes these errors more expensive."
      ],
      "metadata": {
        "_uuid": "b6c15977-5def-4aa1-af45-520de5c24b3f",
        "_cell_guid": "30ca89d8-13f1-46c0-ae70-eb5132b734ba",
        "trusted": true,
        "collapsed": false,
        "jupyter": {
          "outputs_hidden": false
        },
        "id": "Wkus3O5CKqFe"
      }
    },
    {
      "cell_type": "markdown",
      "source": [
        "> 📝 **NOTE:** I commented out the following `class_weight` experiment.  It doesn't fix the problem, and on the learning curves, saw performance was actually worse."
      ],
      "metadata": {
        "_uuid": "f8cb9698-9810-488e-88fe-423f2977c629",
        "_cell_guid": "34da5afa-4ede-4c79-b557-933d9ea3037c",
        "trusted": true,
        "collapsed": false,
        "jupyter": {
          "outputs_hidden": false
        },
        "id": "gsl_CoIOKqFf"
      }
    },
    {
      "cell_type": "code",
      "source": [
        "# # Calculate the weights\n",
        "# weight_for_0 = 1.0 / malware_pdf['Class'].value_counts()[0]\n",
        "# weight_for_1 = 1.0 / malware_pdf['Class'].value_counts()[1]\n",
        "\n",
        "# print(f\"Weight for 0 class: {weight_for_0}\")  # 1.0 / 9,999  = 0.00010001\n",
        "# print(f\"Weight for 1 class: {weight_for_1}\")  # 1.0 / 20,000 = 0.00005\n",
        "\n",
        "# # We can scale them by total/2 which will keep the overall relative ratios the same,\n",
        "# # but this helps keep our loss to a similar magnitude as without using weights.\n",
        "# total = malware_pdf['Class'].value_counts()[0] + malware_pdf['Class'].value_counts()[1]\n",
        "# weight_for_0 *= (total / 2.0)\n",
        "# weight_for_1 *= (total / 2.0)\n",
        "\n",
        "# print(f\"Weight for 0 class: {weight_for_0}\")  # 1.5\n",
        "# print(f\"Weight for 1 class: {weight_for_1}\")  # 0.75\n",
        "\n",
        "# class_weight = {0: weight_for_0, 1: weight_for_1}"
      ],
      "metadata": {
        "_uuid": "a0c75458-68cb-41a0-98a8-c0e001cab63d",
        "_cell_guid": "6ba5c5c4-30b7-4257-af11-17f143c746b8",
        "trusted": true,
        "execution": {
          "iopub.status.busy": "2025-08-23T13:24:18.038371Z",
          "iopub.execute_input": "2025-08-23T13:24:18.038944Z",
          "iopub.status.idle": "2025-08-23T13:24:18.045108Z",
          "shell.execute_reply.started": "2025-08-23T13:24:18.038897Z",
          "shell.execute_reply": "2025-08-23T13:24:18.043908Z"
        },
        "jupyter": {
          "outputs_hidden": false
        },
        "id": "9Me_y_inKqFf"
      },
      "outputs": [],
      "execution_count": 115
    },
    {
      "cell_type": "code",
      "source": [
        "# # Add the class_weights and compare\n",
        "# history = baseline_model.fit(X_train,\n",
        "#                     y_train,\n",
        "#                     batch_size=BATCH_SIZE,\n",
        "#                     epochs=1000,                     # Early Stopping will happen much sooner, set high to always be stopped by early stopping\n",
        "#                     callbacks=[early_stopping],\n",
        "#                     validation_data=(X_val, y_val),\n",
        "#                     class_weight=class_weight         # Here is where the imbalanced classes is handled\n",
        "#                    )\n",
        "\n",
        "# # Need these for plotting\n",
        "# train_predictions_weighted = baseline_model.predict(X_train, batch_size=BATCH_SIZE)\n",
        "# val_predictions_weighted = baseline_model.predict(X_val, batch_size=BATCH_SIZE)\n",
        "# test_predictions_weighted = baseline_model.predict(X_test, batch_size=BATCH_SIZE)"
      ],
      "metadata": {
        "_uuid": "273a4a9b-25ac-4c7d-b66a-72d8796545cb",
        "_cell_guid": "bfe675df-82be-41c1-98f7-8d7a5920b582",
        "trusted": true,
        "execution": {
          "iopub.status.busy": "2025-08-23T13:24:18.050518Z",
          "iopub.execute_input": "2025-08-23T13:24:18.051027Z",
          "iopub.status.idle": "2025-08-23T13:24:18.060515Z",
          "shell.execute_reply.started": "2025-08-23T13:24:18.050989Z",
          "shell.execute_reply": "2025-08-23T13:24:18.059072Z"
        },
        "jupyter": {
          "outputs_hidden": false
        },
        "id": "K02QYTV3KqFf"
      },
      "outputs": [],
      "execution_count": 116
    },
    {
      "cell_type": "code",
      "source": [
        "# # Plot the loss and accuracy curves for training and validation\n",
        "# fig, ax = plt.subplots(2,1)\n",
        "# ax[0].plot(history.history['loss'], color='b', label=\"Training loss\")\n",
        "# ax[0].plot(history.history['val_loss'], color='r', label=\"validation loss\",axes =ax[0])\n",
        "# legend = ax[0].legend(loc='best', shadow=True)\n",
        "\n",
        "# ax[1].plot(history.history['accuracy'], color='b', label=\"Training accuracy\")\n",
        "# ax[1].plot(history.history['val_accuracy'], color='r',label=\"Validation accuracy\")\n",
        "# legend = ax[1].legend(loc='best', shadow=True)"
      ],
      "metadata": {
        "_uuid": "95b67553-01fd-4bd4-bafd-609e35588177",
        "_cell_guid": "ca4a4352-451c-4e60-b60c-3739fd323330",
        "trusted": true,
        "execution": {
          "iopub.status.busy": "2025-08-23T13:24:18.062031Z",
          "iopub.execute_input": "2025-08-23T13:24:18.062375Z",
          "iopub.status.idle": "2025-08-23T13:24:18.083417Z",
          "shell.execute_reply.started": "2025-08-23T13:24:18.062344Z",
          "shell.execute_reply": "2025-08-23T13:24:18.082237Z"
        },
        "jupyter": {
          "outputs_hidden": false
        },
        "id": "crSCGnDZKqFf"
      },
      "outputs": [],
      "execution_count": 117
    },
    {
      "cell_type": "markdown",
      "source": [
        "⚠ As mentioned earlier, playing with the class weights has only really pushed the decision threshold around.  Due to the Precision-Recall tradeoff, this model isn't really \"better\" necessarily, we need to decide which is better for this application.  For example, with this higher precision model, we are more confident that if we flag something as malware, it actually is.  However, this came with sweeping in many more apps being flagged as malware that aren't."
      ],
      "metadata": {
        "_uuid": "d30e776b-7698-4540-9632-669467157c5f",
        "_cell_guid": "5b5e3325-8460-4ae9-bfcb-2684c68761f4",
        "trusted": true,
        "collapsed": false,
        "jupyter": {
          "outputs_hidden": false
        },
        "id": "SNdNwA-hKqFf"
      }
    },
    {
      "cell_type": "markdown",
      "source": [
        "## Oversampling\n",
        "\n",
        "One other thing we could do to deal with skewed datasets is to try to unskew them.  You can try to undersample, which means deleting data from your dataset that is over-represented.  This is a good idea when you have tons of data (hundreds of thousands to millions of data points).  But in our case where we only have tens of thousands of datapoints anyway, this is undesirable.  We'd be getting rid of half of our malware examples!\n",
        "\n",
        "For cases where you don't have lots of data, you can try oversampling, which means adding copies of under-represented instances to the dataset.  This can sometimes help training, but it's similar to weighting the classes during learning in that it's not magic &mdash; we don't have any real additional data.  As we'll see shortly, we can essentially get mostly around the skewed data issue by looking at F1-Score instead of Accuracy.\n",
        "\n",
        "You could also try using an algorithm like [SMOTE](https://arxiv.org/abs/1106.1813), which synthetically generates new data based on existing examples in your dataset.  They're not *exactly* the same, but have some random variation.\n",
        "\n",
        "In the end, I think a 2:1 ratio is not actually that imbalanced, and looking at F1-Score instead of Accuracy gives us a decent way to deal with it."
      ],
      "metadata": {
        "_uuid": "d0cd5f4a-2f71-416e-942b-1becd70c732c",
        "_cell_guid": "d846cfcf-0e3d-4a32-8849-8b6e3afc6ba9",
        "trusted": true,
        "collapsed": false,
        "jupyter": {
          "outputs_hidden": false
        },
        "id": "KyC4dos2KqFf"
      }
    },
    {
      "cell_type": "markdown",
      "source": [
        "## Confusion Matrix"
      ],
      "metadata": {
        "_uuid": "96cf705e-7221-4314-bc57-927f61c75afe",
        "_cell_guid": "65569560-db93-4c6e-9a53-452a256ac19d",
        "trusted": true,
        "collapsed": false,
        "jupyter": {
          "outputs_hidden": false
        },
        "id": "lVLMKTGoKqFf"
      }
    },
    {
      "cell_type": "markdown",
      "source": [
        "💡 Let's plot the confusion matrix, which is a helpful way to evaluate the performance of a classifier.\n",
        "\n",
        "It provides a summary of the predictions made by a model as compared to the ground truth labels."
      ],
      "metadata": {
        "_uuid": "5d5fad28-5c22-466c-9be4-6b25e5ec997d",
        "_cell_guid": "29758fc5-5888-4da3-955f-4d07333d845c",
        "trusted": true,
        "collapsed": false,
        "jupyter": {
          "outputs_hidden": false
        },
        "id": "NioUePPtKqFf"
      }
    },
    {
      "cell_type": "code",
      "source": [
        "import numpy as np\n",
        "import matplotlib.pyplot as plt\n",
        "import seaborn as sns\n",
        "from sklearn.metrics import confusion_matrix\n",
        "\n",
        "def plot_cm(labels, predictions, threshold=0.5):\n",
        "    cm = confusion_matrix(labels, predictions > threshold)\n",
        "    plt.figure(figsize=(5,5))\n",
        "    sns.heatmap(cm, annot=True, fmt=\"d\")\n",
        "    plt.title('Confusion matrix @{:.2f}'.format(threshold))\n",
        "    plt.ylabel('Actual label')\n",
        "    plt.xlabel('Predicted label')\n",
        "\n",
        "    print('Legitimate Benign Apps Detected (True Negatives): ', cm[0][0])\n",
        "    print('Legitimate Benign Apps Incorrectly Detected (False Positives): ', cm[0][1])\n",
        "    print('Malicious Apps Missed (False Negatives): ', cm[1][0])\n",
        "    print('Malicious Apps Detected (True Positives): ', cm[1][1])\n",
        "    print('Total Malicious Apps: ', np.sum(cm[1]))\n",
        "\n",
        "# Reshape y_test to match the model's expected output shape\n",
        "y_test_reshaped = y_test.reshape(-1, 1)\n",
        "\n",
        "# Get the baseline results for the original model (without the class weights)\n",
        "baseline_results = baseline_model.evaluate(X_test, y_test_reshaped, batch_size=BATCH_SIZE, verbose=0)\n",
        "for name, value in zip(baseline_model.metrics_names, baseline_results):\n",
        "    print(name, ': ', value)\n",
        "print()\n",
        "\n",
        "# Get predictions for the Confusion Matrix\n",
        "test_predictions_baseline = baseline_model.predict(X_test, batch_size=BATCH_SIZE)\n",
        "\n",
        "# For confusion matrix, we need 1D arrays, so flatten the predictions and use original y_test\n",
        "test_predictions_baseline_flat = test_predictions_baseline.flatten()\n",
        "\n",
        "# Use original y_test (1D) for confusion matrix since sklearn expects 1D arrays\n",
        "plot_cm(y_test, test_predictions_baseline_flat)\n",
        "\n",
        "plt.show()"
      ],
      "metadata": {
        "_uuid": "f8d95e3b-cc94-4cd1-a8e3-c28e23e48c3f",
        "_cell_guid": "18a04a40-5707-4d4b-916d-18630e12fbb5",
        "trusted": true,
        "execution": {
          "iopub.status.busy": "2025-08-23T13:24:18.084952Z",
          "iopub.execute_input": "2025-08-23T13:24:18.085939Z",
          "iopub.status.idle": "2025-08-23T13:24:18.796199Z",
          "shell.execute_reply.started": "2025-08-23T13:24:18.08588Z",
          "shell.execute_reply": "2025-08-23T13:24:18.795104Z"
        },
        "jupyter": {
          "outputs_hidden": false
        },
        "id": "IcAOLMFEKqFg",
        "outputId": "a2b46852-0e9f-4dc1-ecde-b1f6b1819405",
        "colab": {
          "base_uri": "https://localhost:8080/",
          "height": 643
        }
      },
      "outputs": [
        {
          "output_type": "stream",
          "name": "stdout",
          "text": [
            "loss :  0.5972740650177002\n",
            "compile_metrics :  79.0\n",
            "\n",
            "\u001b[1m6/6\u001b[0m \u001b[32m━━━━━━━━━━━━━━━━━━━━\u001b[0m\u001b[37m\u001b[0m \u001b[1m0s\u001b[0m 23ms/step\n",
            "Legitimate Benign Apps Detected (True Negatives):  109\n",
            "Legitimate Benign Apps Incorrectly Detected (False Positives):  880\n",
            "Malicious Apps Missed (False Negatives):  79\n",
            "Malicious Apps Detected (True Positives):  1932\n",
            "Total Malicious Apps:  2011\n"
          ]
        },
        {
          "output_type": "display_data",
          "data": {
            "text/plain": [
              "<Figure size 500x500 with 2 Axes>"
            ],
            "image/png": "[encoded data removed]"
          },
          "metadata": {}
        }
      ],
      "execution_count": 118
    },
    {
      "cell_type": "markdown",
      "source": [
        "The top row is for the ground truth equal to 0, or samples that are actually benign.\n",
        "The second row contains examples where the ground truth was 1, or malware samples.\n",
        "\n",
        "The leftmost column contains examples that were predicted to be benign.\n",
        "The rightmost column contains examples that were predicted to be malware.\n",
        "\n",
        "Therefore the top-left quadrant is called `true negatives`, benign apps that were classified accurately.\n",
        "The bottom-right quadrant contains `true positives`, malware apps that were classified accurately.\n",
        "\n",
        "The top-right quadrant contains app examples that were actually benign but were labeled by our classifier as malware.  These are called `false positives`.\n",
        "Similarly, the bottom left quadrant is apps that were actually malware but were labeled as benign.  These are called `false negatives`.\n",
        "\n",
        "Ideally, the confusion matrix would only contain examples along the diagonal, with the off-diagonal entries being 0.  But this is real-world data and so that never is the case for non-trivial problems.\n",
        "\n",
        "Our classifier outputs predictions, which are probabilities.  In other words, a 0.99 is very certain this is malware, where a probability of 0.01 is very certain to be benign.  But we can compare these probabilities to a certain threshold (default of 0.5 in the confusion matrix above) to allow us to tweak the `precision` or `recall` best for our use case.  What are precision and recall?  Please see my other notebook [What Kaggle WON'T Tell You About Your Notebooks](https://www.kaggle.com/code/quackaddict7/what-kaggle-won-t-tell-you-about-your-notebooks/notebook#Precision-and-Recall), where I explain these terms intuitively and in-depth.\n",
        "\n",
        "Well, so which do we actually want for our made-up virus scanner?  If we have a high recall (low precision), then we capture more of the true positives.  In other words, we'll have a low number of false negatives (malware apps incorrectly flagged as safe).  This is desired.  But we'll also then have a higher number of false positives (benign apps flagged as malware).  For a virus scanner, it'd be better to have more false positives (so, high recall and low precision).  In other words, a LOWER threshold.  But if there are too many false positives, this will annoy users, keep a lot of safe apps out of the app store, and make the whole classifier untrustworthy.\n",
        "\n",
        "Let's explore this better by sweeping the decision threshold and plotting the Precision and Recall curves now."
      ],
      "metadata": {
        "_uuid": "2528c097-358d-449d-91b5-6209d4c173f6",
        "_cell_guid": "05483d6a-f759-41bf-a54c-92008862e708",
        "trusted": true,
        "collapsed": false,
        "jupyter": {
          "outputs_hidden": false
        },
        "id": "Mm6lX5ldKqFg"
      }
    },
    {
      "cell_type": "markdown",
      "source": [
        "## Precision-Recall Curves"
      ],
      "metadata": {
        "_uuid": "2ff9568e-0c64-40ce-b5ee-b59c93baca28",
        "_cell_guid": "dc019f1d-e7e1-4f8b-9b26-3871de29bb51",
        "trusted": true,
        "collapsed": false,
        "jupyter": {
          "outputs_hidden": false
        },
        "id": "nqHtCw0KKqFg"
      }
    },
    {
      "cell_type": "code",
      "source": [
        "from sklearn.metrics import precision_score, recall_score, f1_score\n",
        "\n",
        "# Set threshold from 0.0 to 1.0 in 0.05 increments\n",
        "thresh_list = np.arange(0, 1.05, 0.05).tolist()\n",
        "\n",
        "P_list = []\n",
        "R_list = []\n",
        "F1_list = []\n",
        "\n",
        "# Calculate P and R for each threshold\n",
        "for thresh in thresh_list:\n",
        "    # Get predictions from the model on the test set, these are probabilities\n",
        "    pred_baseline = baseline_model.predict(X_test, batch_size=BATCH_SIZE, verbose=0)\n",
        "\n",
        "    # Need to convert these probabilities into predictions based on the threshold\n",
        "    y_hat_pred = (pred_baseline > thresh).astype(\"int32\")  # Snap to binary class labels based on threshold\n",
        "\n",
        "    # Add the metrics to the proper lists\n",
        "    P_list.append(precision_score(y_test, y_hat_pred))\n",
        "    R_list.append(recall_score(y_test, y_hat_pred))\n",
        "    F1_list.append(f1_score(y_test, y_hat_pred))\n",
        "\n",
        "# Now plot P and R\n",
        "plt.plot(thresh_list, P_list, color='b', label=\"Precision\")\n",
        "plt.plot(thresh_list, R_list, color='r', label=\"Recall\")\n",
        "plt.plot(thresh_list, F1_list, color='g', label=\"F1-Score\")\n",
        "plt.xlabel('Threshold')\n",
        "plt.title('Precision/Recall/F1-Score for various Thresholds')\n",
        "plt.legend(loc='best', shadow=True)\n",
        "\n",
        "print(f\"\\nBest F1-Score to beat is {F1_list[np.argmax(F1_list)]} with threshold {thresh_list[np.argmax(F1_list)]}.\")"
      ],
      "metadata": {
        "_uuid": "4e4366ca-f4dc-4cce-9249-b00a658ce065",
        "_cell_guid": "5586871c-da95-4c24-a313-636ca57fa6ac",
        "trusted": true,
        "execution": {
          "iopub.status.busy": "2025-08-23T13:24:18.797717Z",
          "iopub.execute_input": "2025-08-23T13:24:18.79818Z",
          "iopub.status.idle": "2025-08-23T13:24:22.081361Z",
          "shell.execute_reply.started": "2025-08-23T13:24:18.798139Z",
          "shell.execute_reply": "2025-08-23T13:24:22.0801Z"
        },
        "jupyter": {
          "outputs_hidden": false
        },
        "id": "jYBIQqqYKqFg",
        "outputId": "b14ca9a8-c8d7-4cbf-bac7-a10bddafba64",
        "colab": {
          "base_uri": "https://localhost:8080/",
          "height": 541
        }
      },
      "outputs": [
        {
          "output_type": "stream",
          "name": "stdout",
          "text": [
            "\n",
            "Best F1-Score to beat is 0.8047408597830454 with threshold 0.2.\n"
          ]
        },
        {
          "output_type": "stream",
          "name": "stderr",
          "text": [
            "/usr/local/lib/python3.12/dist-packages/sklearn/metrics/_classification.py:1565: UndefinedMetricWarning: Precision is ill-defined and being set to 0.0 due to no predicted samples. Use `zero_division` parameter to control this behavior.\n",
            "  _warn_prf(average, modifier, f\"{metric.capitalize()} is\", len(result))\n"
          ]
        },
        {
          "output_type": "display_data",
          "data": {
            "text/plain": [
              "<Figure size 640x480 with 1 Axes>"
            ],
            "image/png": "[encoded data removed]"
          },
          "metadata": {}
        }
      ],
      "execution_count": 119
    },
    {
      "cell_type": "markdown",
      "source": [
        "From the graph above, we can see that if the threshold is set to 0, our classifier labels everything as malware.  Therefore it makes sense that the Recall is 1.0 or perfect, because we *do* perfectly classify all malware.  However, in this case Precision is low, meaning, of the things we predict to be malware, our accuracy is low.  It makes sense that Precision is about 0.666 in this case, because of the skewed data, about 1/3 of our predictions on the positive class are wrong.\n",
        "\n",
        "Similarly, if the threshold is set very high, then nothing is predicted as malware.  We essentially never predict the positive class.  Precision will be very high because we are saying, \"only predict malware if you are EXTREMELY confident (high probability).\"  So the precision is good, but almost nothing is that confident, so most positive class don't get labeled as malware and Recall is very low.  \n",
        "\n",
        "> 📝 *Note that precision drops off a cliff when the threshold actually reaches 1.0, since the numerator becomes 0.  From the graph, it looks like the last datapoint where the numerator is just 1 data point is where probability/confidence is about 0.95.*\n",
        "\n",
        "But we have to find a balance.  I mean, the *safest* thing is to set the threshold so low on prediction that everything gets flagged as malicious.  Then nothing gets through, but we're flagging so much that we're annoying all our users and our virus-scanner is useless.  \n",
        "\n",
        "It's easier to compare classifier performance if we have a single metric to look at, instead of two.  If we look at the F1-Score instead, which is the harmonic mean of Precision and Recall, we can have a single metric to evaluate models on.  The chart plots F1-Score as well, and we can see that a threshold of 0.5 actually looks like probably the best threshold, for this learning algorithm anyway, as it's about the highest F1-Score before the Recall falls off the cliff.\n",
        "\n",
        "However, this performance is inadequate.  Even setting the threshold to 0.5, we might as well set it to 0.  Both the Precision, Recall, and F1-Score are about the same up to that point.  Basically we are unable to learn anything statistically relevant, versus random guessing proportional to the data in the dataset!  If we guess malware 2 out of every 3 guesses randomly, we'll perform as well as our trained model.\n",
        "\n",
        "<mark>Perhaps it is just not possible to predict malware based on permissions alone?</mark>  Is this a fundamental limitation of our data, or is this limited by our neural network's capacity?\n",
        "\n",
        "Let's see if we can do better than an F1-Score of 0.803 using other architectures."
      ],
      "metadata": {
        "_uuid": "eb78d72d-9d77-44d5-931e-8e203aa92a62",
        "_cell_guid": "5d977488-0443-491f-9b0e-e4481ad35088",
        "trusted": true,
        "collapsed": false,
        "jupyter": {
          "outputs_hidden": false
        },
        "id": "dWyNbqt7KqFg"
      }
    },
    {
      "cell_type": "markdown",
      "source": [
        "# Decision Trees and Random Forests"
      ],
      "metadata": {
        "_uuid": "ffb96fa1-85b3-49cc-8971-23fd6fb0bae0",
        "_cell_guid": "aeb04b9e-ca83-4386-8b09-83c2c21aff08",
        "trusted": true,
        "collapsed": false,
        "jupyter": {
          "outputs_hidden": false
        },
        "id": "IJ8Xqw9vKqFh"
      }
    },
    {
      "cell_type": "markdown",
      "source": [
        "We'll try using decision trees and random forests for this dataset instead, since decision trees (and by extension, random forests) don't have a problem with imbalanced datasets.  The other main benefit of decision trees is they offer better **explainability**, by showing us which features are most relevant to the classification decision.\n",
        "\n",
        "There are some differences we'll need to keep in mind when working with these instead of neural networks, since there are some major differences.  In general, decision trees are a lot easier to deal with than our diva neural networks!\n",
        "\n",
        "- We don't need a validation dataset.  Decision trees only read over the data once to train, so there is no concept of early stopping or detecting overfitting. (⚠ We will need a validation set later again when we use a tuner to search the solution space).\n",
        "- Since we only iterate over the data once, think of this like epochs=1\n",
        "- Datasets do not need to be shuffled (though we already did this earlier and it doesn't hurt)\n",
        "- There is no concept of a batch size.  All the data must fit into memory.  Doing a quick rule of thumb, if each entry is a 32-bit value (4 bytes), then we have roughly 30K examples, across ~50 features, which would be only 6MB (easy-peasy here, just one thing to keep in mind when training decision trees).\n",
        "- Decision trees can consume data as numeric or even categorical strings.  No pre-processing to numbers is necessary.  Here we already have exclusively binary features.\n",
        "- The labels *are* expected to be integers, but we've already made it so for the neural network case.\n",
        "- Decision trees do not need features to be normalized or standardized, since the data is simply split on features there is no numerical stability issue.\n",
        "\n",
        "We'll use Tensorflow Decision Forests library for this task.  When using this, we also don't specify a loss function (as we're not doing gradient descent).  Instead we simply specify a task instead, such as Classification in this case.  Currently, TFDF library also does not support GPU, but random forests tend to train much faster anyway even on a CPU."
      ],
      "metadata": {
        "_uuid": "c2dcb492-155b-4b21-83dd-b5566c5d7c92",
        "_cell_guid": "5c209742-a8b5-4051-94ef-39d0d5169a10",
        "trusted": true,
        "collapsed": false,
        "jupyter": {
          "outputs_hidden": false
        },
        "id": "oG2I2OiEKqFh"
      }
    },
    {
      "cell_type": "markdown",
      "source": [
        "## Prepare the Data for Decision Forests Library"
      ],
      "metadata": {
        "_uuid": "981aba2f-661d-4ee3-84c3-94434f9d3600",
        "_cell_guid": "2ae77aa2-6206-469c-bff9-43c8588ee150",
        "trusted": true,
        "collapsed": false,
        "jupyter": {
          "outputs_hidden": false
        },
        "id": "6pP_DK4ZKqFh"
      }
    },
    {
      "cell_type": "markdown",
      "source": [
        "As mentioned, we don't need a separate validation dataset, so let's merge these back."
      ],
      "metadata": {
        "_uuid": "43248d45-e760-4c22-b208-7c830f00630d",
        "_cell_guid": "9ed39d2f-9215-4a68-9e66-45ff590b6895",
        "trusted": true,
        "collapsed": false,
        "jupyter": {
          "outputs_hidden": false
        },
        "id": "Sq2DiyQ3KqFh"
      }
    },
    {
      "cell_type": "code",
      "source": [
        "print(f\"X_train: {X_train.shape} of type {type(X_train)}\")\n",
        "print(f\"y_train: {y_train.shape} of type {type(y_train)}\\n\")\n",
        "\n",
        "print(f\"X_val: {X_val.shape} of type {type(X_val)}\")\n",
        "print(f\"y_val: {y_val.shape} of type {type(y_val)}\\n\")\n",
        "\n",
        "print(\"Combining train and val datasets since separate val dataset not needed for decision trees.\\n\")\n",
        "\n",
        "# Concatenate train and val datasets\n",
        "X_train = np.concatenate((X_train, X_val), axis=0)\n",
        "y_train = np.concatenate((y_train, y_val), axis=0)\n",
        "\n",
        "print(f\"X_train: {X_train.shape} of type {type(X_train)}\")\n",
        "print(f\"y_train: {y_train.shape} of type {type(y_train)}\\n\")"
      ],
      "metadata": {
        "_uuid": "3ae58724-84e3-4dce-a65a-ca9430dd86ce",
        "_cell_guid": "f9707b7e-e371-4775-b83a-eff0eab170d8",
        "trusted": true,
        "execution": {
          "iopub.status.busy": "2025-08-23T13:24:22.083136Z",
          "iopub.execute_input": "2025-08-23T13:24:22.083618Z",
          "iopub.status.idle": "2025-08-23T13:24:22.116222Z",
          "shell.execute_reply.started": "2025-08-23T13:24:22.083575Z",
          "shell.execute_reply": "2025-08-23T13:24:22.114982Z"
        },
        "jupyter": {
          "outputs_hidden": false
        },
        "id": "uXg6esrmKqFh",
        "outputId": "01d9b247-2e53-454b-fee3-68e4ad5575e1",
        "colab": {
          "base_uri": "https://localhost:8080/"
        }
      },
      "outputs": [
        {
          "output_type": "stream",
          "name": "stdout",
          "text": [
            "X_train: (23999, 51) of type <class 'pandas.core.frame.DataFrame'>\n",
            "y_train: (23999,) of type <class 'numpy.ndarray'>\n",
            "\n",
            "X_val: (3000, 51) of type <class 'pandas.core.frame.DataFrame'>\n",
            "y_val: (3000,) of type <class 'numpy.ndarray'>\n",
            "\n",
            "Combining train and val datasets since separate val dataset not needed for decision trees.\n",
            "\n",
            "X_train: (26999, 51) of type <class 'numpy.ndarray'>\n",
            "y_train: (26999,) of type <class 'numpy.ndarray'>\n",
            "\n"
          ]
        }
      ],
      "execution_count": 120
    },
    {
      "cell_type": "markdown",
      "source": [
        "## Random Forest Model"
      ],
      "metadata": {
        "_uuid": "0c5e959c-df48-41b8-84be-278ac93f7fb5",
        "_cell_guid": "a3187db7-4756-42d2-ad25-307c57d776c3",
        "trusted": true,
        "collapsed": false,
        "jupyter": {
          "outputs_hidden": false
        },
        "id": "8cRWswKcKqFh"
      }
    },
    {
      "cell_type": "code",
      "source": [
        "import tensorflow_decision_forests as tfdf\n",
        "\n",
        "# Check the version of TensorFlow Decision Forests\n",
        "print(\"Found TensorFlow Decision Forests v\" + tfdf.__version__)"
      ],
      "metadata": {
        "_uuid": "f01e325c-d8dd-4fe4-b7a3-ee49c2194e82",
        "_cell_guid": "c3c10496-5a6a-4bf2-bf04-0322167b5224",
        "trusted": true,
        "execution": {
          "iopub.status.busy": "2025-08-23T13:24:22.117628Z",
          "iopub.execute_input": "2025-08-23T13:24:22.118038Z",
          "iopub.status.idle": "2025-08-23T13:24:22.556138Z",
          "shell.execute_reply.started": "2025-08-23T13:24:22.118006Z",
          "shell.execute_reply": "2025-08-23T13:24:22.555121Z"
        },
        "jupyter": {
          "outputs_hidden": false
        },
        "id": "je3Tx9PhKqFh",
        "outputId": "28598c6c-21ca-4d1f-a68f-574ecbb13d59",
        "colab": {
          "base_uri": "https://localhost:8080/"
        }
      },
      "outputs": [
        {
          "output_type": "stream",
          "name": "stdout",
          "text": [
            "Found TensorFlow Decision Forests v1.12.0\n"
          ]
        }
      ],
      "execution_count": 121
    },
    {
      "cell_type": "code",
      "source": [
        "# The loss is automatically determined from the task.\n",
        "rf_model = tfdf.keras.RandomForestModel(task=tfdf.keras.Task.CLASSIFICATION, verbose=2)\n",
        "\n",
        "# Optional if you want to report other than the accuracy.\n",
        "# TFDF models work better with basic metrics, so use simple ones instead\n",
        "rf_model.compile(metrics=['accuracy'])  # Use basic accuracy instead of custom metrics"
      ],
      "metadata": {
        "_uuid": "e7a4aabc-b25e-41cf-b919-b738ba1ab591",
        "_cell_guid": "bf68d700-aded-4f4e-8f7a-c690db50f4b1",
        "trusted": true,
        "execution": {
          "iopub.status.busy": "2025-08-23T13:24:22.557341Z",
          "iopub.execute_input": "2025-08-23T13:24:22.557669Z",
          "iopub.status.idle": "2025-08-23T13:24:22.602186Z",
          "shell.execute_reply.started": "2025-08-23T13:24:22.557639Z",
          "shell.execute_reply": "2025-08-23T13:24:22.600952Z"
        },
        "jupyter": {
          "outputs_hidden": false
        },
        "id": "3mUCHdHUKqFi",
        "outputId": "2ea12e79-8d1c-4d22-89ab-4ae38d50fb80",
        "colab": {
          "base_uri": "https://localhost:8080/"
        }
      },
      "outputs": [
        {
          "output_type": "stream",
          "name": "stdout",
          "text": [
            "Use 2 thread(s) for training\n",
            "Use /tmp/tmp91wy8cop as temporary training directory\n"
          ]
        }
      ],
      "execution_count": 122
    },
    {
      "cell_type": "code",
      "source": [
        "# Fit the model\n",
        "rf_model.fit(X_train, y_train, verbose=1)"
      ],
      "metadata": {
        "_uuid": "ac0c37cf-3ad7-454b-a751-a73dbcdfc2f6",
        "_cell_guid": "fb41be73-ac70-4dc6-b8ae-6a77328a6896",
        "trusted": true,
        "execution": {
          "iopub.status.busy": "2025-08-23T13:24:22.604303Z",
          "iopub.execute_input": "2025-08-23T13:24:22.604908Z",
          "iopub.status.idle": "2025-08-23T13:24:49.981575Z",
          "shell.execute_reply.started": "2025-08-23T13:24:22.604832Z",
          "shell.execute_reply": "2025-08-23T13:24:49.980421Z"
        },
        "jupyter": {
          "outputs_hidden": false
        },
        "id": "6wDjNMAIKqFi",
        "outputId": "3800dd44-bce0-4f68-e8b3-4e7f5ad19728",
        "colab": {
          "base_uri": "https://localhost:8080/"
        }
      },
      "outputs": [
        {
          "output_type": "stream",
          "name": "stdout",
          "text": [
            "Reading training dataset...\n",
            "Training dataset read in 0:00:00.902656. Found 26999 examples.\n",
            "Training model...\n",
            "Model trained in 0:00:33.160320\n",
            "Compiling model...\n",
            "Model compiled.\n"
          ]
        },
        {
          "output_type": "execute_result",
          "data": {
            "text/plain": [
              "<tf_keras.src.callbacks.History at 0x7d64cd9c1940>"
            ]
          },
          "metadata": {},
          "execution_count": 123
        }
      ],
      "execution_count": 123
    },
    {
      "cell_type": "code",
      "source": [
        "# Evaluate the model\n",
        "rf_eval = rf_model.evaluate(X_test, y_test, return_dict=True)\n",
        "\n",
        "for name, value in rf_eval.items():\n",
        "  print(f\"{name}: {value:.4f}\")"
      ],
      "metadata": {
        "_uuid": "8737a070-f25e-42ce-8ea5-c214b42b247e",
        "_cell_guid": "07f4ecfe-79c6-4a96-ba60-31548a5e9830",
        "trusted": true,
        "execution": {
          "iopub.status.busy": "2025-08-23T13:24:49.983038Z",
          "iopub.execute_input": "2025-08-23T13:24:49.983389Z",
          "iopub.status.idle": "2025-08-23T13:24:51.462335Z",
          "shell.execute_reply.started": "2025-08-23T13:24:49.983358Z",
          "shell.execute_reply": "2025-08-23T13:24:51.460947Z"
        },
        "jupyter": {
          "outputs_hidden": false
        },
        "id": "iFLJSWFHKqFi",
        "outputId": "b0f8963a-0974-485b-eed7-4b7f1d8cf3e7",
        "colab": {
          "base_uri": "https://localhost:8080/"
        }
      },
      "outputs": [
        {
          "output_type": "stream",
          "name": "stdout",
          "text": [
            "94/94 [==============================] - 0s 2ms/step - loss: 0.0000e+00 - accuracy: 0.6793\n",
            "loss: 0.0000\n",
            "accuracy: 0.6793\n"
          ]
        }
      ],
      "execution_count": 124
    },
    {
      "cell_type": "markdown",
      "source": [
        "Comparing this to the Neural Network models, which as a reminder had Precision = 0.685, Recall = 0.971, and F1-Score of 0.803.\n",
        "\n",
        "This out-of-the-box decision tree gave us Precision = 0.684, Recall = 0.972, and F1-Score of 0.802 `(harmonic mean = 2/((1/0.684)+(1/0.972)))`, and so we're about perfectly equal to the neural networks, with no optimizations yet."
      ],
      "metadata": {
        "_uuid": "2d8f03c4-1005-47b7-9cec-1e08a5a2b673",
        "_cell_guid": "daa96ed0-41fa-44dd-89af-0044cfacd54c",
        "trusted": true,
        "collapsed": false,
        "jupyter": {
          "outputs_hidden": false
        },
        "id": "B58fLknwKqFi"
      }
    },
    {
      "cell_type": "markdown",
      "source": [
        "## Variable Importance\n",
        "\n",
        "One cool thing about random-forest-based architectures, is they offer better explainability than neural networks.  Or at least, it's easier to find what variables are important to the model.  \n",
        "\n",
        "We can get these important features from a Tensorflow inspector object, but when we converted the dataset from Pandas to NumPy arrays, we lost the feature names.  Let's get those back now so they are actually humanly meaningful."
      ],
      "metadata": {
        "_uuid": "3f44fc09-66b0-4949-b320-eb45a544fe30",
        "_cell_guid": "c56f8eba-2998-47e3-a9fa-64384f4a27ae",
        "trusted": true,
        "collapsed": false,
        "jupyter": {
          "outputs_hidden": false
        },
        "id": "7q-LzXjzKqFi"
      }
    },
    {
      "cell_type": "markdown",
      "source": [
        "### Restore Feature Names"
      ],
      "metadata": {
        "_uuid": "9dea2658-b536-4d80-bff4-0f703951120b",
        "_cell_guid": "d030f955-40d4-45c6-9d6f-97985270a0a7",
        "trusted": true,
        "collapsed": false,
        "jupyter": {
          "outputs_hidden": false
        },
        "id": "fqOO71sWKqFi"
      }
    },
    {
      "cell_type": "code",
      "source": [
        "# When we converted Pandas to NumPy on dataset, we lost the feature names.\n",
        "# Let's get those back\n",
        "feature_names = malware_pdf.iloc[0]\n",
        "print(feature_names.shape)\n",
        "\n",
        "# And drop the last column, which is the Class labels\n",
        "feature_names = feature_names.drop(['Class'])  # No axis argument since just a single row\n",
        "print(feature_names.shape)\n",
        "\n",
        "# Build feature headers as a Python list\n",
        "feature_headers_list = []\n",
        "for col_header in feature_names.index:\n",
        "    feature_headers_list.append(col_header)\n",
        "\n",
        "# Final list is 51 elements long, features 0:50\n",
        "print(feature_headers_list)"
      ],
      "metadata": {
        "_uuid": "af711888-f088-44b7-8fb7-cbda48d0794d",
        "_cell_guid": "cc5d564d-60dc-41c3-9d64-b02e01a96791",
        "trusted": true,
        "execution": {
          "iopub.status.busy": "2025-08-23T13:24:51.46437Z",
          "iopub.execute_input": "2025-08-23T13:24:51.464823Z",
          "iopub.status.idle": "2025-08-23T13:24:51.475188Z",
          "shell.execute_reply.started": "2025-08-23T13:24:51.464782Z",
          "shell.execute_reply": "2025-08-23T13:24:51.47371Z"
        },
        "jupyter": {
          "outputs_hidden": false
        },
        "id": "Ph6R9dDpKqFi",
        "outputId": "d8384a52-2ed0-4a01-e496-9e6cc9d29f84",
        "colab": {
          "base_uri": "https://localhost:8080/"
        }
      },
      "outputs": [
        {
          "output_type": "stream",
          "name": "stdout",
          "text": [
            "(52,)\n",
            "(51,)\n",
            "['Default : modify battery statistics (S)', 'Default : power device on or off (S)', 'Hardware controls : change your audio settings (D)', 'Hardware controls : control flashlight (S)', 'Hardware controls : control vibrator (S)', 'Hardware controls : record audio (D)', 'Hardware controls : take pictures and videos (D)', 'Network communication : create Bluetooth connections (D)', 'Network communication : full Internet access (D)', 'Network communication : receive data from Internet (S)', 'Network communication : view Wi-Fi state (S)', 'Network communication : view network state (S)', 'Phone calls : intercept outgoing calls (D)', 'Phone calls : modify phone state (S)', 'Phone calls : read phone state and identity (D)', 'Services that cost you money : directly call phone numbers (D)', 'Services that cost you money : send SMS messages (D)', 'Storage : modify/delete USB storage contents modify/delete SD card contents (D)', 'System tools : automatically start at boot (S)', 'System tools : bluetooth administration (D)', 'System tools : change Wi-Fi state (D)', 'System tools : change network connectivity (D)', 'System tools : disable keylock (D)', 'System tools : display system-level alerts (D)', 'System tools : kill background processes (S)', 'System tools : modify global system settings (D)', 'System tools : mount and unmount filesystems (D)', 'System tools : prevent device from sleeping (D)', 'System tools : read sync settings (S)', 'System tools : retrieve running applications (D)', 'System tools : send sticky broadcast (S)', 'System tools : set wallpaper (S)', 'System tools : write sync settings (D)', 'Your accounts : act as an account authenticator (D)', 'Your accounts : discover known accounts (S)', 'Your accounts : manage the accounts list (D)', 'Your accounts : use the authentication credentials of an account (D)', 'Your location : access extra location provider commands (S)', 'Your location : coarse (network-based) location (D)', 'Your location : fine (GPS) location (D)', 'Your location : mock location sources for testing (D)', 'Your messages : edit SMS or MMS (D)', 'Your messages : read SMS or MMS (D)', 'Your messages : receive SMS (D)', 'Your personal information : add or modify calendar events and send email to guests (D)', \"Your personal information : read Browser's history and bookmarks (D)\", 'Your personal information : read calendar events (D)', 'Your personal information : read contact data (D)', 'Your personal information : read sensitive log data (D)', \"Your personal information : write Browser's history and bookmarks (D)\", 'Your personal information : write contact data (D)']\n"
          ]
        }
      ],
      "execution_count": 125
    },
    {
      "cell_type": "markdown",
      "source": [
        "### Variable Importance &mdash; Bar Plot"
      ],
      "metadata": {
        "_uuid": "954e6994-06f5-4a2b-b25b-49c104dfadba",
        "_cell_guid": "e08ad306-52fb-46d5-906b-b36e51793927",
        "trusted": true,
        "collapsed": false,
        "jupyter": {
          "outputs_hidden": false
        },
        "id": "hv2t5GuKKqFi"
      }
    },
    {
      "cell_type": "code",
      "source": [
        "# Summary is way too verbose, looked once and then turned it off\n",
        "# rf_model.summary()\n",
        "\n",
        "# Instead, lets look at the feature importance\n",
        "inspector = rf_model.make_inspector()\n",
        "\n",
        "print(f\"Available variable importances:\")\n",
        "for importance in inspector.variable_importances().keys():\n",
        "  print(\"\\t\", importance)\n",
        "\n",
        "# These are the nameless version\n",
        "# print(inspector.features())\n",
        "\n",
        "# https://www.spaywall.com/news/https://towardsdatascience.com/tensorflow-decision-forests-a-comprehensive-introduction-3b6056a6d6b0\n",
        "def plot_tfdf_importances(inspector, importance_type):\n",
        "    \"\"\"Extracts and plots TFDF importances from the given inspector object\n",
        "\n",
        "    Args:\n",
        "        inspector (tfdf.inspector.AbstractInspector): inspector object created from your TFDF model\n",
        "        importance_type (str): importance type to plot\n",
        "    \"\"\"\n",
        "    try:\n",
        "        importances = inspector.variable_importances()[importance_type]\n",
        "    except KeyError:\n",
        "        raise ValueError(\n",
        "            f\"No {importance_type} importances found in the given inspector object\"\n",
        "        )\n",
        "\n",
        "    names = []\n",
        "    scores = []\n",
        "    # Just the top 10\n",
        "    for f in importances[:10]:\n",
        "        # Add the actual feature names back in instead of the feature index\n",
        "        # names.append(f[0].name)           # e.g. \"data:0.17\"\n",
        "        idx = int(f[0].name.split(\".\")[1])  # e.g. 17\n",
        "        names.append(feature_headers_list[idx])  # e.g. Network communication : create Bluetooth connections (D)'\n",
        "        scores.append(f[1])\n",
        "\n",
        "    sns.barplot(x=scores, y=names, color=\"#5a7dbf\")\n",
        "    plt.xlabel(importance_type)\n",
        "    plt.title(\"Variable Importance\")\n",
        "    plt.show()\n",
        "\n",
        "plot_tfdf_importances(inspector, \"INV_MEAN_MIN_DEPTH\")"
      ],
      "metadata": {
        "_uuid": "28bc728d-45a2-45d4-834d-110ff1911f6c",
        "_cell_guid": "01d6f221-066c-41c0-bee8-9a1b6a5486d9",
        "trusted": true,
        "execution": {
          "iopub.status.busy": "2025-08-23T13:24:51.476564Z",
          "iopub.execute_input": "2025-08-23T13:24:51.476943Z",
          "iopub.status.idle": "2025-08-23T13:24:51.836537Z",
          "shell.execute_reply.started": "2025-08-23T13:24:51.476908Z",
          "shell.execute_reply": "2025-08-23T13:24:51.835363Z"
        },
        "jupyter": {
          "outputs_hidden": false
        },
        "id": "Pr-OfFsEKqFj",
        "outputId": "b9eca502-273e-42fa-8b2e-c25ad57be06d",
        "colab": {
          "base_uri": "https://localhost:8080/",
          "height": 559
        }
      },
      "outputs": [
        {
          "output_type": "stream",
          "name": "stdout",
          "text": [
            "Available variable importances:\n",
            "\t INV_MEAN_MIN_DEPTH\n",
            "\t SUM_SCORE\n",
            "\t NUM_AS_ROOT\n",
            "\t NUM_NODES\n"
          ]
        },
        {
          "output_type": "display_data",
          "data": {
            "text/plain": [
              "<Figure size 640x480 with 1 Axes>"
            ],
            "image/png": "[encoded data removed]"
          },
          "metadata": {}
        }
      ],
      "execution_count": 126
    },
    {
      "cell_type": "markdown",
      "source": [
        "### Variable Importance &mdash; Possible Explanations\n",
        "\n",
        "Above we plotted the Top Ten most statistically important Android permissions which have predictive value over whether an app is malware or not.\n",
        "\n",
        "Let's look at them, putting on our Red Team hat for a sec and see what havoc we can wreak 😈:\n",
        "1. View network state &rarr; We need to know when your phone is online so we can download crypto workloads, and upload your keystroke logs.\n",
        "2. Fine GPS location &rarr; It's nice to know where in the world you are, for social engineering and threatening intimidation.\n",
        "3. Full Internet access &rarr; Jackpot!\n",
        "4. Read phone state and identity &rarr; Getting your phone number, real name.\n",
        "5. Directly call phone numbers &rarr; Spam people with texts from your phone number, that isn't (yet) on a blacklist.\n",
        "6. Mock location sources for testing &rarr; Get around geolocation filters.\n",
        "7. Write browser's history and bookmarks &rarr; Your new tab page should be my eth wallet, check it out! 😎💲💲\n",
        "8. Discover known accounts &rarr; Why yes, let's login to everything with Google and Facebook kthxbye\n",
        "9. Read browser's history &rarr; Good for blackmail / extortion purposes.  You visited *what* site??\n",
        "10. Control vibrator &rarr; I think this is becoming less predictive right about here.  Buzz your phone 'til we kill the batteries?"
      ],
      "metadata": {
        "_uuid": "95199fd9-20a0-49bf-a572-6946e7994c63",
        "_cell_guid": "800e4b00-b23f-45ca-9885-3b36b144deb1",
        "trusted": true,
        "collapsed": false,
        "jupyter": {
          "outputs_hidden": false
        },
        "id": "JQ08l5OWKqFk"
      }
    },
    {
      "cell_type": "markdown",
      "source": [
        "## Gradient Boosted Trees\n",
        "\n",
        "Let's try using a Gradient Boosted Tree instead of a Random Forest, based on the original 1999 paper by Jerome Friedman.  Boosted trees can improve accuracy by training sequential tree models where each tree is trained to focus on and correct the errors of the tree came before it, based on the loss gradients."
      ],
      "metadata": {
        "_uuid": "4ab9b9b2-8738-4659-a0d3-ffcc618ddc73",
        "_cell_guid": "86d0126c-9cec-423a-bb8e-ea1eadabd7c3",
        "trusted": true,
        "collapsed": false,
        "jupyter": {
          "outputs_hidden": false
        },
        "id": "OgqYz3EUKqFl"
      }
    },
    {
      "cell_type": "code",
      "source": [
        "# Define a gradient boosted trees model\n",
        "gbt_model = tfdf.keras.GradientBoostedTreesModel(task=tfdf.keras.Task.CLASSIFICATION, verbose=2)\n",
        "\n",
        "# Same metrics as other model - use basic metrics instead of custom ones\n",
        "gbt_model.compile(metrics=['accuracy'])  # Use basic accuracy instead of custom metrics\n",
        "\n",
        "# Googling around, the WARNINGS that come from this are OK"
      ],
      "metadata": {
        "_uuid": "8ddf700f-dae7-4da9-849f-aae0a53421ad",
        "_cell_guid": "21171918-ea24-479f-9049-2a7ac3448acd",
        "trusted": true,
        "execution": {
          "iopub.status.busy": "2025-08-23T13:24:51.837909Z",
          "iopub.execute_input": "2025-08-23T13:24:51.838234Z",
          "iopub.status.idle": "2025-08-23T13:24:51.869109Z",
          "shell.execute_reply.started": "2025-08-23T13:24:51.838208Z",
          "shell.execute_reply": "2025-08-23T13:24:51.868072Z"
        },
        "jupyter": {
          "outputs_hidden": false
        },
        "id": "A1B7Ujk9KqFl",
        "outputId": "8ee48b23-ebcc-430e-cbcc-3cc45cd99cfa",
        "colab": {
          "base_uri": "https://localhost:8080/"
        }
      },
      "outputs": [
        {
          "output_type": "stream",
          "name": "stdout",
          "text": [
            "Use 2 thread(s) for training\n",
            "Use /tmp/tmpweac8zjo as temporary training directory\n"
          ]
        }
      ],
      "execution_count": 127
    },
    {
      "cell_type": "code",
      "source": [
        "gbt_model.fit(X_train, y_train, verbose=1)"
      ],
      "metadata": {
        "_uuid": "5177494f-f066-47a0-bf95-0d23b9617931",
        "_cell_guid": "89d2c5a2-7b83-4e73-a6df-ac442782ac52",
        "trusted": true,
        "execution": {
          "iopub.status.busy": "2025-08-23T13:24:51.870427Z",
          "iopub.execute_input": "2025-08-23T13:24:51.870725Z",
          "iopub.status.idle": "2025-08-23T13:25:08.071762Z",
          "shell.execute_reply.started": "2025-08-23T13:24:51.8707Z",
          "shell.execute_reply": "2025-08-23T13:25:08.070314Z"
        },
        "jupyter": {
          "outputs_hidden": false
        },
        "id": "RFa1yLrAKqFm",
        "outputId": "45b332e9-7988-4ece-ee93-52897af7442c",
        "colab": {
          "base_uri": "https://localhost:8080/"
        }
      },
      "outputs": [
        {
          "output_type": "stream",
          "name": "stdout",
          "text": [
            "Reading training dataset...\n",
            "Training dataset read in 0:00:00.844615. Found 26999 examples.\n",
            "Training model...\n",
            "Model trained in 0:00:13.343831\n",
            "Compiling model...\n",
            "Model compiled.\n"
          ]
        },
        {
          "output_type": "execute_result",
          "data": {
            "text/plain": [
              "<tf_keras.src.callbacks.History at 0x7d64cd9e5490>"
            ]
          },
          "metadata": {},
          "execution_count": 128
        }
      ],
      "execution_count": 128
    },
    {
      "cell_type": "code",
      "source": [
        "# Evaluate the model\n",
        "gbt_eval = gbt_model.evaluate(X_test, y_test, return_dict=True)\n",
        "\n",
        "for name, value in gbt_eval.items():\n",
        "  print(f\"{name}: {value:.4f}\")"
      ],
      "metadata": {
        "_uuid": "e8725ce7-70a5-4f4a-9c40-68d8517b11c9",
        "_cell_guid": "8df6aac7-7fab-4ed7-bbea-bca6bfa4d093",
        "trusted": true,
        "execution": {
          "iopub.status.busy": "2025-08-23T13:25:08.07372Z",
          "iopub.execute_input": "2025-08-23T13:25:08.074134Z",
          "iopub.status.idle": "2025-08-23T13:25:09.197677Z",
          "shell.execute_reply.started": "2025-08-23T13:25:08.074103Z",
          "shell.execute_reply": "2025-08-23T13:25:09.196517Z"
        },
        "jupyter": {
          "outputs_hidden": false
        },
        "id": "oO-0zAlgKqFm",
        "outputId": "0645e48e-8895-4219-b6e0-eb125fc0061c",
        "colab": {
          "base_uri": "https://localhost:8080/"
        }
      },
      "outputs": [
        {
          "output_type": "stream",
          "name": "stdout",
          "text": [
            "94/94 [==============================] - 0s 1ms/step - loss: 0.0000e+00 - accuracy: 0.6797\n",
            "loss: 0.0000\n",
            "accuracy: 0.6797\n"
          ]
        }
      ],
      "execution_count": 129
    },
    {
      "cell_type": "markdown",
      "source": [
        "## Architecture Comparison So Far\n",
        "\n",
        "Let's compare everything we've used so far in a table, as it's starting to get hard to keep track.\n",
        "\n",
        "\n",
        "|           | Neural Networks | Random Forest | Gradient Boosted Trees |\n",
        "|-----------|-----------------|---------------|------------------------|\n",
        "| Precision | 0.685           | 0.684         | 0.685                  |\n",
        "| Recall    | 0.971           | 0.972         | 0.965                  |\n",
        "| F1-Score  | 0.803           | 0.802         | 0.801                  |\n",
        "\n",
        "We can see that the Gradient Boosted Trees performed about the same as the Random Forest (going by F1-Score), and very similar to Neural Networks.  It's starting to look like our ceiling on performance is due to a limitation of the data and not architecture, but let's keep trying a few more things.\n",
        "\n",
        "We just used the default settings.  Let's see if we can get better performance from the GBT by playing with some hyperparameters."
      ],
      "metadata": {
        "_uuid": "c6fe04f2-2ed5-4d4a-b3f8-3db9b9447770",
        "_cell_guid": "ee9f2f7a-57bc-4010-b99b-4102ef347cb2",
        "trusted": true,
        "collapsed": false,
        "jupyter": {
          "outputs_hidden": false
        },
        "id": "h1E8V_yrKqFm"
      }
    },
    {
      "cell_type": "markdown",
      "source": [
        "### Hyperparameter Templates\n",
        "\n",
        "The Tensorflow Decision Forests library has added templates of hyper-parameters that have proven well as better default settings from Google's internal testing against hundreds of datasets.  They made these template options so that they never change the \"default\" settings and don't break any existing codebases.\n",
        "\n",
        "This is the easiest way to try to gain some performance, so let's try it."
      ],
      "metadata": {
        "_uuid": "6b531c2c-c34e-40ee-8654-7b29488eb894",
        "_cell_guid": "bcad9f32-d64d-49b5-8cbc-054b45edd110",
        "trusted": true,
        "collapsed": false,
        "jupyter": {
          "outputs_hidden": false
        },
        "id": "aFF0rLsyKqFm"
      }
    },
    {
      "cell_type": "code",
      "source": [
        "# Added the \"best\" hyperparameters, and boosted tree count from 300 (default) to 500\n",
        "gbt_model_hyperptemplate = tfdf.keras.GradientBoostedTreesModel(\n",
        "    num_trees=500,\n",
        "    hyperparameter_template=\"benchmark_rank1\",\n",
        "    task=tfdf.keras.Task.CLASSIFICATION,\n",
        "    verbose=2\n",
        ")\n",
        "\n",
        "# Same metrics as other model - use basic metrics instead of custom ones\n",
        "gbt_model_hyperptemplate.compile(metrics=['accuracy'])  # Use basic accuracy instead of custom metrics"
      ],
      "metadata": {
        "_uuid": "68f0b81b-a7b5-4b53-b573-e5e23eb53774",
        "_cell_guid": "2f8ce802-a39a-42f5-b4c6-5b3cc397f22a",
        "trusted": true,
        "execution": {
          "iopub.status.busy": "2025-08-23T13:25:09.199164Z",
          "iopub.execute_input": "2025-08-23T13:25:09.199521Z",
          "iopub.status.idle": "2025-08-23T13:25:09.231077Z",
          "shell.execute_reply.started": "2025-08-23T13:25:09.199489Z",
          "shell.execute_reply": "2025-08-23T13:25:09.229646Z"
        },
        "jupyter": {
          "outputs_hidden": false
        },
        "id": "VGsZbO8RKqFm",
        "outputId": "2bb3d1b0-7552-4d73-a362-25fef0b3c502",
        "colab": {
          "base_uri": "https://localhost:8080/"
        }
      },
      "outputs": [
        {
          "output_type": "stream",
          "name": "stdout",
          "text": [
            "Resolve hyper-parameter template \"benchmark_rank1\" to \"benchmark_rank1@v1\" -> {'growing_strategy': 'BEST_FIRST_GLOBAL', 'categorical_algorithm': 'RANDOM', 'split_axis': 'SPARSE_OBLIQUE', 'sparse_oblique_normalization': 'MIN_MAX', 'sparse_oblique_num_projections_exponent': 1.0}.\n",
            "Use 2 thread(s) for training\n",
            "Use /tmp/tmpfh7w_jib as temporary training directory\n"
          ]
        }
      ],
      "execution_count": 130
    },
    {
      "cell_type": "code",
      "source": [
        "gbt_model_hyperptemplate.fit(X_train, y_train, verbose=1)"
      ],
      "metadata": {
        "_uuid": "883141d8-d4c7-47bd-999f-ce08c897f7c6",
        "_cell_guid": "497b01ce-293e-44ce-9b7a-dce69a0839d3",
        "trusted": true,
        "execution": {
          "iopub.status.busy": "2025-08-23T13:25:09.23286Z",
          "iopub.execute_input": "2025-08-23T13:25:09.233255Z",
          "iopub.status.idle": "2025-08-23T13:25:23.600783Z",
          "shell.execute_reply.started": "2025-08-23T13:25:09.233226Z",
          "shell.execute_reply": "2025-08-23T13:25:23.599626Z"
        },
        "jupyter": {
          "outputs_hidden": false
        },
        "id": "jJoFex19KqFm",
        "outputId": "645c14de-155a-4d8f-ec48-b1c69be17469",
        "colab": {
          "base_uri": "https://localhost:8080/"
        }
      },
      "outputs": [
        {
          "output_type": "stream",
          "name": "stdout",
          "text": [
            "Reading training dataset...\n",
            "Training dataset read in 0:00:00.831296. Found 26999 examples.\n",
            "Training model...\n",
            "Model trained in 0:00:21.429290\n",
            "Compiling model...\n",
            "Model compiled.\n"
          ]
        },
        {
          "output_type": "execute_result",
          "data": {
            "text/plain": [
              "<tf_keras.src.callbacks.History at 0x7d64a6d9daf0>"
            ]
          },
          "metadata": {},
          "execution_count": 131
        }
      ],
      "execution_count": 131
    },
    {
      "cell_type": "code",
      "source": [
        "# Evaluate the model\n",
        "gbt_model_hyperptemplate_eval = gbt_model_hyperptemplate.evaluate(X_test, y_test, return_dict=True)\n",
        "\n",
        "for name, value in gbt_model_hyperptemplate_eval.items():\n",
        "  print(f\"{name}: {value:.4f}\")"
      ],
      "metadata": {
        "_uuid": "7aa2f907-3827-4d92-8b2f-f4b5517eca09",
        "_cell_guid": "6bc9b542-ea27-48d2-846b-d2e708a65748",
        "trusted": true,
        "execution": {
          "iopub.status.busy": "2025-08-23T13:25:23.602223Z",
          "iopub.execute_input": "2025-08-23T13:25:23.602554Z",
          "iopub.status.idle": "2025-08-23T13:25:24.713278Z",
          "shell.execute_reply.started": "2025-08-23T13:25:23.602523Z",
          "shell.execute_reply": "2025-08-23T13:25:24.712163Z"
        },
        "jupyter": {
          "outputs_hidden": false
        },
        "id": "ylVErMKFKqFn",
        "outputId": "0a0e17d9-74c2-4ecd-d5b8-80158d77fd24",
        "colab": {
          "base_uri": "https://localhost:8080/"
        }
      },
      "outputs": [
        {
          "output_type": "stream",
          "name": "stdout",
          "text": [
            "94/94 [==============================] - 0s 2ms/step - loss: 0.0000e+00 - accuracy: 0.6827\n",
            "loss: 0.0000\n",
            "accuracy: 0.6827\n"
          ]
        }
      ],
      "execution_count": 132
    },
    {
      "cell_type": "markdown",
      "source": [
        "Only very slightly better than the normal GBT.\n",
        "\n",
        "|           | Neural Networks | Random Forest | Gradient Boosted Trees | GBT (hyperparameter template) |\n",
        "|-----------|-----------------|---------------|------------------------|-------------------------------|\n",
        "| Precision | 0.685           | 0.684         | 0.685                  | 0.686                         |\n",
        "| Recall    | 0.971           | 0.972         | 0.965                  | 0.964                         |\n",
        "| F1-Score  | 0.803           | 0.802         | 0.801                  | 0.802                         |\n",
        "\n",
        "Let's look at the new confusion matrix."
      ],
      "metadata": {
        "_uuid": "d277ad7a-e773-4ffa-b562-4c70f64b7de2",
        "_cell_guid": "02c3d50c-992e-4710-9ffc-e7464530bea3",
        "trusted": true,
        "collapsed": false,
        "jupyter": {
          "outputs_hidden": false
        },
        "id": "xQlmzrDlKqFn"
      }
    },
    {
      "cell_type": "code",
      "source": [
        "gbt_hyp_test_predictions = gbt_model_hyperptemplate.predict(X_test)\n",
        "\n",
        "plot_cm(y_test, gbt_hyp_test_predictions)"
      ],
      "metadata": {
        "_uuid": "8784d973-24db-4837-8004-241cebb0a6c7",
        "_cell_guid": "0315ff97-a78b-4d5f-881f-cdc98a607030",
        "trusted": true,
        "execution": {
          "iopub.status.busy": "2025-08-23T13:25:24.714471Z",
          "iopub.execute_input": "2025-08-23T13:25:24.714778Z",
          "iopub.status.idle": "2025-08-23T13:25:25.519274Z",
          "shell.execute_reply.started": "2025-08-23T13:25:24.714752Z",
          "shell.execute_reply": "2025-08-23T13:25:25.518285Z"
        },
        "jupyter": {
          "outputs_hidden": false
        },
        "id": "fG7FNqLeKqFn",
        "outputId": "4e4b8fc2-2189-4f17-d38d-e9633acc6980",
        "colab": {
          "base_uri": "https://localhost:8080/",
          "height": 629
        }
      },
      "outputs": [
        {
          "output_type": "stream",
          "name": "stderr",
          "text": [
            "WARNING:tensorflow:5 out of the last 98 calls to <function InferenceCoreModel.make_predict_function.<locals>.predict_function_trained at 0x7d64d0499ee0> triggered tf.function retracing. Tracing is expensive and the excessive number of tracings could be due to (1) creating @tf.function repeatedly in a loop, (2) passing tensors with different shapes, (3) passing Python objects instead of tensors. For (1), please define your @tf.function outside of the loop. For (2), @tf.function has reduce_retracing=True option that can avoid unnecessary retracing. For (3), please refer to https://www.tensorflow.org/guide/function#controlling_retracing and https://www.tensorflow.org/api_docs/python/tf/function for  more details.\n"
          ]
        },
        {
          "output_type": "stream",
          "name": "stdout",
          "text": [
            "94/94 [==============================] - 0s 2ms/step\n",
            "Legitimate Benign Apps Detected (True Negatives):  115\n",
            "Legitimate Benign Apps Incorrectly Detected (False Positives):  874\n",
            "Malicious Apps Missed (False Negatives):  78\n",
            "Malicious Apps Detected (True Positives):  1933\n",
            "Total Malicious Apps:  2011\n"
          ]
        },
        {
          "output_type": "display_data",
          "data": {
            "text/plain": [
              "<Figure size 500x500 with 2 Axes>"
            ],
            "image/png": "[encoded data removed]"
          },
          "metadata": {}
        }
      ],
      "execution_count": 133
    },
    {
      "cell_type": "markdown",
      "source": [
        "### Automatic Hyperparameter Tuning\n",
        "\n",
        "This was using Google's template hyperparameters found on their datasets, but we can also perform hyperparameter tuning on our dataset.  This will sweep the hyperparameters and find the best model automatically.  As you can imagine, the training time to explore this solution space explodes exponentially as with any combinatorics problem.  This is handled by setting a max number of trials, and the search space is chosen randomly within that limit of total trials.\n",
        "\n",
        "The TFDF tuner offers both manual and automated tuning approaches.  In the manual approach, you specify the parameters you want to sweep and their ranges. In automatic mode, it automatically chooses what variables to tune.  This is easiest, and often gives the best results.  However, it takes the longest for large datasets.  \n",
        "\n",
        "Even for our case with a smaller dataset, this took a very long time.  About 6 hours!  (It's been disabled now)."
      ],
      "metadata": {
        "_uuid": "3e97c6e9-352e-46f5-9136-9561ef50fdb4",
        "_cell_guid": "d5826c8b-437b-4e2f-a0aa-8e8b3644d67f",
        "trusted": true,
        "collapsed": false,
        "jupyter": {
          "outputs_hidden": false
        },
        "id": "aCHLYOgWKqFn"
      }
    },
    {
      "cell_type": "markdown",
      "source": [
        "### Re-split the Data to Train/Val/Test Sets\n",
        "\n",
        "For the tuning algorithm to have a test set to evaluate results on, without \"peeking\" at the test set, we are going to need our validation set back.  If we didn't do this, then the tuner would have to evaluate how it's doing by looking at the test set, which is a form of data leakage and would make the tuner tend to overfit to the test set."
      ],
      "metadata": {
        "_uuid": "0bf9febb-c8df-460c-9ffd-86915bb0574e",
        "_cell_guid": "a687ac64-3c37-4e64-b7bb-36721ec791ad",
        "trusted": true,
        "collapsed": false,
        "jupyter": {
          "outputs_hidden": false
        },
        "id": "HZNeURpyKqFn"
      }
    },
    {
      "cell_type": "code",
      "source": [
        "# NOTE: Don't need to standardize/normalize the features, they're all already on the same small scale\n",
        "\n",
        "# Split the data again.  We already have X_train / y_train\n",
        "# We want 10% of the ORIGINAL size, which is equivalent to 11.111% of the X_train size\n",
        "# i.e. 3000 = 11.111% of 26999\n",
        "X_train, X_val, y_train, y_val = train_test_split(X_train, y_train, test_size=0.11111, random_state=42)        # 10% ends up in val set\n",
        "\n",
        "# Confirm sizes and types.  Note that all X are converted to NumPy ndarrays!\n",
        "print(f\"X_train: {X_train.shape} of type {type(X_train)}\")\n",
        "print(f\"y_train: {y_train.shape} of type {type(y_train)}\\n\")\n",
        "\n",
        "print(f\"X_val: {X_val.shape} of type {type(X_val)}\")\n",
        "print(f\"y_val: {y_val.shape} of type {type(y_val)}\\n\")\n",
        "\n",
        "print(f\"X_test: {X_test.shape} of type {type(X_test)}\")\n",
        "print(f\"y_test: {y_test.shape} of type {type(y_test)}\\n\")"
      ],
      "metadata": {
        "_uuid": "269f805e-1ba0-4a26-bfe5-e03a19dd6002",
        "_cell_guid": "1e4c79a0-64e0-4933-8cf0-2a99ea5b8300",
        "trusted": true,
        "execution": {
          "iopub.status.busy": "2025-08-23T13:25:25.520484Z",
          "iopub.execute_input": "2025-08-23T13:25:25.520805Z",
          "iopub.status.idle": "2025-08-23T13:25:25.566609Z",
          "shell.execute_reply.started": "2025-08-23T13:25:25.520777Z",
          "shell.execute_reply": "2025-08-23T13:25:25.565477Z"
        },
        "jupyter": {
          "outputs_hidden": false
        },
        "id": "_wmWXurPKqFn",
        "outputId": "c900fe04-e12d-4460-f01c-5583920ea3a6",
        "colab": {
          "base_uri": "https://localhost:8080/"
        }
      },
      "outputs": [
        {
          "output_type": "stream",
          "name": "stdout",
          "text": [
            "X_train: (23999, 51) of type <class 'numpy.ndarray'>\n",
            "y_train: (23999,) of type <class 'numpy.ndarray'>\n",
            "\n",
            "X_val: (3000, 51) of type <class 'numpy.ndarray'>\n",
            "y_val: (3000,) of type <class 'numpy.ndarray'>\n",
            "\n",
            "X_test: (3000, 51) of type <class 'pandas.core.frame.DataFrame'>\n",
            "y_test: (3000,) of type <class 'numpy.ndarray'>\n",
            "\n"
          ]
        }
      ],
      "execution_count": 134
    },
    {
      "cell_type": "markdown",
      "source": [
        "### Define the Tuner (Manual or Automatic)"
      ],
      "metadata": {
        "_uuid": "406cfe20-cc4d-4dae-8502-11a511802aed",
        "_cell_guid": "f4472c36-0f0c-49fd-8463-9aa92b2df86e",
        "trusted": true,
        "collapsed": false,
        "jupyter": {
          "outputs_hidden": false
        },
        "id": "D25v0PdpKqFn"
      }
    },
    {
      "cell_type": "code",
      "source": [
        "# If you want to Manually define the search space..\n",
        "# tuner = tfdf.tuner.RandomSearch(num_trials=50)\n",
        "# tuner.choice(\"min_examples\", [2, 5, 7, 10])\n",
        "# tuner.choice(\"categorical_algorithm\", [\"CART\", \"RANDOM\"])\n",
        "# tuner.choice(\"max_depth\", [3, 4, 5, 6, 8])\n",
        "# tuner.choice(\"use_hessian_gain\", [True, False])\n",
        "# tuner.choice(\"shrinkage\", [0.02, 0.05, 0.10, 0.15])\n",
        "# tuner.choice(\"growing_strategy\", [\"LOCAL\"]).choice(\"max_depth\", [3, 4, 5, 6, 8])\n",
        "# tuner.choice(\"growing_strategy\", [\"BEST_FIRST_GLOBAL\"], merge=True).choice(\"max_num_nodes\", [16, 32, 64, 128, 256])\n",
        "# # ... Add all the parameters to tune\n",
        "\n",
        "# # Note the tuner=tuner argument!\n",
        "# model = tfdf.keras.GradientBoostedTreesModel(verbose=2, tuner=tuner)\n",
        "# model.fit(training_dataset)\n",
        "\n",
        "# Instead, we'll do all this automatically, including selecting which hyperparameters to tune\n",
        "tuner = tfdf.tuner.RandomSearch(num_trials=50, use_predefined_hps=True)\n",
        "\n",
        "# No need to configure each hyper-parameter\n",
        "\n",
        "# Define and train a GBT model.  NOTE: tuner=tuner to make it auto-tune!\n",
        "gbt_tuned_model = tfdf.keras.GradientBoostedTreesModel(task=tfdf.keras.Task.CLASSIFICATION, verbose=2, tuner=tuner)\n",
        "gbt_tuned_model.compile(metrics=['accuracy'])  # Use basic accuracy instead of custom metrics"
      ],
      "metadata": {
        "_uuid": "ec288931-172e-4e0c-814a-7bf51ce72320",
        "_cell_guid": "334a8998-1116-4f4e-96de-0c3d751d2963",
        "trusted": true,
        "execution": {
          "iopub.status.busy": "2025-08-23T13:25:25.568247Z",
          "iopub.execute_input": "2025-08-23T13:25:25.569267Z",
          "iopub.status.idle": "2025-08-23T13:25:25.602375Z",
          "shell.execute_reply.started": "2025-08-23T13:25:25.569219Z",
          "shell.execute_reply": "2025-08-23T13:25:25.601156Z"
        },
        "jupyter": {
          "outputs_hidden": false
        },
        "id": "7GzV6jfoKqFn",
        "outputId": "a0199337-f7b5-4001-f394-0a11840db407",
        "colab": {
          "base_uri": "https://localhost:8080/"
        }
      },
      "outputs": [
        {
          "output_type": "stream",
          "name": "stdout",
          "text": [
            "Use 2 thread(s) for training\n",
            "Use /tmp/tmp776uw2j9 as temporary training directory\n"
          ]
        }
      ],
      "execution_count": 135
    },
    {
      "cell_type": "markdown",
      "source": [
        "### Fit the Automatic Hyperparameter Tuner\n",
        "\n",
        "> 📝 **NOTE:** I disabled the following tuning code.  It runs for about 6 hours, and doesn't produce any better results than what we already have.  Leaving this code here as a reference."
      ],
      "metadata": {
        "_uuid": "fd212ebb-451c-4bd5-82bf-a2bc8d0f87b1",
        "_cell_guid": "0fee2d09-2c5c-4f6d-bbe5-2e7b92abb8ea",
        "trusted": true,
        "collapsed": false,
        "jupyter": {
          "outputs_hidden": false
        },
        "id": "gdiFXhBtKqFo"
      }
    },
    {
      "cell_type": "code",
      "source": [
        "# Now Fit!  NOTE: the validation data is needed to be listed explicitly since not using a TFDS type for our data\n",
        "\n",
        "# NOTE: This runs for like 6 hours!  Disabled after running the first time and finding no improvements.\n",
        "# gbt_tuned_model.fit(X_train, y_train, validation_data=(X_val, y_val), verbose=0)"
      ],
      "metadata": {
        "_uuid": "2b91fd19-14ce-456b-ab99-4640956fdc9a",
        "_cell_guid": "62339eb5-310a-43d9-8977-fce42fb948df",
        "trusted": true,
        "execution": {
          "iopub.status.busy": "2025-08-23T13:25:25.603646Z",
          "iopub.execute_input": "2025-08-23T13:25:25.604009Z",
          "iopub.status.idle": "2025-08-23T13:25:25.609933Z",
          "shell.execute_reply.started": "2025-08-23T13:25:25.60398Z",
          "shell.execute_reply": "2025-08-23T13:25:25.608495Z"
        },
        "jupyter": {
          "outputs_hidden": false
        },
        "id": "poEmFflaKqFo"
      },
      "outputs": [],
      "execution_count": 136
    },
    {
      "cell_type": "code",
      "source": [
        "# # Evaluate the model (already compiled it)\n",
        "# tuned_eval = gbt_tuned_model.evaluate(X_test, y_test, return_dict=True)\n",
        "\n",
        "# for name, value in tuned_eval.items():\n",
        "#   print(f\"{name}: {value:.4f}\")"
      ],
      "metadata": {
        "_uuid": "21efd36a-7fac-4c8b-b3cd-2e1ab49f9f5d",
        "_cell_guid": "ca8230b9-4934-454f-8674-8a3581ac5f6a",
        "trusted": true,
        "execution": {
          "iopub.status.busy": "2025-08-23T13:25:25.611329Z",
          "iopub.execute_input": "2025-08-23T13:25:25.611807Z",
          "iopub.status.idle": "2025-08-23T13:25:25.622209Z",
          "shell.execute_reply.started": "2025-08-23T13:25:25.611774Z",
          "shell.execute_reply": "2025-08-23T13:25:25.620385Z"
        },
        "jupyter": {
          "outputs_hidden": false
        },
        "id": "AOvroThOKqFo"
      },
      "outputs": [],
      "execution_count": 137
    },
    {
      "cell_type": "code",
      "source": [
        "# # Display the tuning logs.\n",
        "# tuning_logs = gbt_tuned_model.make_inspector().tuning_logs()\n",
        "# tuning_logs.head()"
      ],
      "metadata": {
        "_uuid": "a3636868-426c-4976-8dd7-ae7d710f2098",
        "_cell_guid": "415a1566-0e56-4fd0-acef-53372926e543",
        "trusted": true,
        "execution": {
          "iopub.status.busy": "2025-08-23T13:25:25.623762Z",
          "iopub.execute_input": "2025-08-23T13:25:25.624241Z",
          "iopub.status.idle": "2025-08-23T13:25:25.635407Z",
          "shell.execute_reply.started": "2025-08-23T13:25:25.624207Z",
          "shell.execute_reply": "2025-08-23T13:25:25.634098Z"
        },
        "jupyter": {
          "outputs_hidden": false
        },
        "id": "_KvagDGqKqFo"
      },
      "outputs": [],
      "execution_count": 138
    },
    {
      "cell_type": "code",
      "source": [
        "# # Show the best hyper-parameters\n",
        "# tuning_logs[tuning_logs.best].iloc[0]"
      ],
      "metadata": {
        "_uuid": "a404403c-002d-456d-bad3-f8d823d0300b",
        "_cell_guid": "5ab85715-b95e-4567-b333-618701de1ea4",
        "trusted": true,
        "execution": {
          "iopub.status.busy": "2025-08-23T13:25:25.637197Z",
          "iopub.execute_input": "2025-08-23T13:25:25.637619Z",
          "iopub.status.idle": "2025-08-23T13:25:25.64845Z",
          "shell.execute_reply.started": "2025-08-23T13:25:25.637584Z",
          "shell.execute_reply": "2025-08-23T13:25:25.647352Z"
        },
        "jupyter": {
          "outputs_hidden": false
        },
        "id": "TODROKsLKqFo"
      },
      "outputs": [],
      "execution_count": 139
    },
    {
      "cell_type": "code",
      "source": [
        "# # Finally, plot the progress of the quality of the model during the random search space tuning\n",
        "# plt.figure(figsize=(10, 5))\n",
        "# plt.plot(tuning_logs[\"score\"], label=\"current trial\")\n",
        "# plt.plot(tuning_logs[\"score\"].cummax(), label=\"best trial\")\n",
        "# plt.xlabel(\"Tuning step\")\n",
        "# plt.ylabel(\"Tuning score\")\n",
        "# plt.legend()\n",
        "# plt.show()"
      ],
      "metadata": {
        "_uuid": "6ca4421e-ab61-4436-ac47-71fde28c4c87",
        "_cell_guid": "06dab72e-933f-4f32-b383-62e76c3369a5",
        "trusted": true,
        "execution": {
          "iopub.status.busy": "2025-08-23T13:25:25.650167Z",
          "iopub.execute_input": "2025-08-23T13:25:25.650493Z",
          "iopub.status.idle": "2025-08-23T13:25:25.66336Z",
          "shell.execute_reply.started": "2025-08-23T13:25:25.650464Z",
          "shell.execute_reply": "2025-08-23T13:25:25.661762Z"
        },
        "jupyter": {
          "outputs_hidden": false
        },
        "id": "OYoYBlHBKqFo"
      },
      "outputs": [],
      "execution_count": 140
    },
    {
      "cell_type": "markdown",
      "source": [
        "### Automated HyperParameter Tuning Results\n",
        "\n",
        "After running for about 6 hours, the final result was no better than we already had, with a Precision of 0.691, a Recall of 0.952, and a total F1-Score of 0.800.  Commented out from future runs."
      ],
      "metadata": {
        "_uuid": "31eb76fd-783b-481a-b528-ff79431ee999",
        "_cell_guid": "0e8456f9-b1c2-4c19-a1cf-e6eced81ca44",
        "trusted": true,
        "collapsed": false,
        "jupyter": {
          "outputs_hidden": false
        },
        "id": "Aq7S6umtKqFo"
      }
    },
    {
      "cell_type": "markdown",
      "source": [
        "# Conclusion"
      ],
      "metadata": {
        "_uuid": "e8bb9116-0f79-4958-8cef-65ac1f0c0702",
        "_cell_guid": "f8050187-4ea9-419b-8151-848606060f8b",
        "trusted": true,
        "collapsed": false,
        "jupyter": {
          "outputs_hidden": false
        },
        "id": "_Hv4_SHOKqFo"
      }
    },
    {
      "cell_type": "markdown",
      "source": [
        "Although we were able to get slightly better performance with Neural Networks, the performance is so close that **I recommend we use the basic Random Forest.**  Fancier options, like gradient boosted trees, hyperparameter templates, or automated hyperparameter tuning didn't lead to any improvements, and those are more complex models.  The Random Forest is simple and all the tree-based models offer better explainability of what features are most important (versus the Neural Network).\n",
        "\n",
        "I think the reason none of these models were able to beat each other is we've fundamentally saturated performance because there is no additional predictive information to glean out of the data.  Some datasets just can't be learned.  For example, if I said we were going to try to predict malware based on the name alone of the app.. even if we had MILLIONS of datapoints and the most powerful algorithms on the planet, the app title is just not predictive enough on its own.  \n",
        "\n",
        "Since our data is skewed in a 2:1 ratio, we could achieve a 0.66% accurate classifier by just randomly guessing `malware` two thirds of the time.  <mark>All of our models are only able to achieve an accuracy of about 0.68% &mdash; basically no better than this random guess.</mark>  In other words, I don't think permissions alone is predictive enough.  My hypothesis for this is, permissions alone don't necessitate \"badness.\"  My app might need access to the internet, and access to your microphone, because maybe it's taking your narrations and uploading them to the cloud.  This could be benign, nay, very useful even.  But also an app that tries to eavesdrop on you and upload your private communications to a hacker-controlled server would have the exact same \"permissions signature.\"\n",
        "\n",
        "Additionally, iPhones and Android phones offer these features because, in theory, they are all helpful.  There isn't an \"encrypt all your files\" API call, for example, and so just having more of these permissions doesn't necessarily correlate with \"badness.\"\n",
        "\n",
        "As a sort of double-check, I found another notebook on Kaggle using this same dataset.  While our best model has an F1-Score of about 0.802, theirs achieved an F1-Score of 0.820, which is a little better, though not much.  However, they also included some of the extra data we dropped, including the user ratings.  Of course, this extra data would have some predictive value, especially user ratings, because presumably users would rate the app very low if it ends up being malware or at least not beneficial.  I decided to drop that data because I wanted to see if it could be done purely on permissions.  So clearly the answer to that question is \"no.\"\n",
        "\n",
        "While that feels a bit unsatisfying, one of my research professors in grad school once told me: \"Science and engineering is littered with experiments that didn't work!  That is OK, it's just as valuable to know what *doesn't* work as what does as long as we can learn from it.\"  😎"
      ],
      "metadata": {
        "_uuid": "631743ea-7ca7-4dfd-9c2c-8f7a74915dc3",
        "_cell_guid": "a3e3ea1f-a5f1-48ac-96b9-57b7ac9698a0",
        "trusted": true,
        "collapsed": false,
        "jupyter": {
          "outputs_hidden": false
        },
        "id": "ISiWNE3IKqFo"
      }
    },
    {
      "cell_type": "markdown",
      "source": [
        "## One last thing..\n",
        "\n",
        "<div class=\"alert alert-info\">\n",
        "    If you’ve enjoyed following along with me or have learned something new, ☝ <b>please consider UPVOTING this notebook!</b> 🔼 It helps others discover my notebook and encourages me to spend my time writing more of these.  Thank you!  😊\n",
        "</div>"
      ],
      "metadata": {
        "_uuid": "fb39cf4f-07c2-461a-8d87-cf61c01f1330",
        "_cell_guid": "82009e2b-fb2e-482d-9913-b1eee6cddc60",
        "trusted": true,
        "collapsed": false,
        "jupyter": {
          "outputs_hidden": false
        },
        "id": "bpJ_1QUnKqFo"
      }
    },
    {
      "cell_type": "markdown",
      "source": [
        "💡 **You might also enjoy these other notebooks of mine as well:**\n",
        "\n",
        "**Natural Language Processing**\n",
        "* [Generate Amazon Book Reviews with Transformers](https://www.kaggle.com/code/quackaddict7/generate-amazon-book-reviews-with-transformers/)  \n",
        "* [Write Your Own CliffNotes (Book Text Summarizer)](https://www.kaggle.com/code/quackaddict7/write-your-own-cliffnotes-book-text-summarizer/)  \n",
        "* [Answering Questions from Product Reviews](https://www.kaggle.com/code/quackaddict7/answering-questions-from-product-reviews/)  \n",
        "* [Ingredient Standardization via Machine Translation](https://www.kaggle.com/code/quackaddict7/ingredient-standardization-via-machine-translation/)  \n",
        "* [What Kaggle WON'T Tell You About Your Notebooks](https://www.kaggle.com/code/quackaddict7/what-kaggle-won-t-tell-you-about-your-notebooks/)  \n",
        "\n",
        "**Computer Vision**\n",
        "* [Enhance, enhance, enhance! (image upscaling)](https://www.kaggle.com/code/quackaddict7/enhance-enhance-enhance-image-upscaling)  \n",
        "* [Detecting Vehicles in Traffic (Object Detection)](https://www.kaggle.com/code/quackaddict7/object-detection-detecting-vehicles-in-traffic/)  \n",
        "* [Legions of Lesions (Detecting Skin Cancer with Computer Vision)](https://www.kaggle.com/code/quackaddict7/legions-of-lesions-detecting-skin-cancer-with-cv/)  \n",
        "* [Creating Synthetic Wildfire Images with Unreal Engine (Blog Post)](https://joelwigton.com/synthetic-data-for-machine-learning-with-unreal-engine)  \n",
        "* [How I scored Top 5% on MNIST (without cheating!)](https://www.kaggle.com/code/quackaddict7/how-i-scored-top-5-on-mnist-without-cheating/)  \n",
        "\n",
        "**Machine Learning**\n",
        "* [Detecting Android Malware from App Permissions](https://www.kaggle.com/code/quackaddict7/detecting-android-malware-from-app-permissions/)"
      ],
      "metadata": {
        "_uuid": "9ed458b3-d644-4c00-b381-792f728684c5",
        "_cell_guid": "d68cb671-857b-4882-a314-f3b2db010c56",
        "trusted": true,
        "collapsed": false,
        "jupyter": {
          "outputs_hidden": false
        },
        "id": "Q81xRsGAKqFp"
      }
    }
  ]
}